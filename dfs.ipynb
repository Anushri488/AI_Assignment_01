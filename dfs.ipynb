{
 "cells": [
  {
   "cell_type": "code",
   "execution_count": 2,
   "id": "2be8bc63",
   "metadata": {},
   "outputs": [
    {
     "name": "stdout",
     "output_type": "stream",
     "text": [
      "{'u': 'white', 'v': 'white', 'w': 'white', 'x': 'white', 'y': 'white', 'z': 'white'}\n",
      "{'u': None, 'v': None, 'w': None, 'x': None, 'y': None, 'z': None}\n"
     ]
    }
   ],
   "source": [
    "graph={\"u\":[\"v\",\"x\"],\"v\":[\"y\"],\"w\":[\"y\",\"z\"],\"x\":[\"v\"],\"y\":[\"x\"],\"z\":[\"z\"]}\n",
    "time=0\n",
    "color={}\n",
    "parent={}\n",
    "discovery={}\n",
    "finish={}\n",
    "\n",
    "for u in graph:\n",
    "    color[u]=\"white\"\n",
    "    parent[u]=None\n",
    "time=0\n",
    "print(color)\n",
    "print(parent)\n"
   ]
  },
  {
   "cell_type": "code",
   "execution_count": 3,
   "id": "37ec011f",
   "metadata": {},
   "outputs": [
    {
     "name": "stdout",
     "output_type": "stream",
     "text": [
      "Discovery Times: {'u': 1, 'v': 2, 'y': 3, 'x': 4, 'w': 9, 'z': 10}\n",
      "Finish Times: {'x': 5, 'y': 6, 'v': 7, 'u': 8, 'z': 11, 'w': 12}\n",
      "Parents: {'u': None, 'v': 'u', 'w': None, 'x': 'y', 'y': 'v', 'z': 'w'}\n"
     ]
    }
   ],
   "source": [
    "def DfS(G):\n",
    "    global time , color , parent,discovery,finish\n",
    "\n",
    "    for u in G:\n",
    "        color[u]=\"white\"\n",
    "        parent[u]=None\n",
    "    time=0\n",
    "    for u in G:\n",
    "        if color[u]==\"white\":\n",
    "            DFS_VISIT(G,u)\n",
    "def DFS_VISIT(G,u):\n",
    "    global time , color , parent,discovery,finish\n",
    "    color[u]=\"gray\"\n",
    "    time+=1\n",
    "    discovery[u]=time\n",
    "    for v in G[u]:\n",
    "        if color[v]==\"white\":\n",
    "            parent[v]=u\n",
    "            DFS_VISIT(G,v)\n",
    "    color[u]=\"black\"\n",
    "    time+=1\n",
    "    finish[u]=time\n",
    "DfS(graph)\n",
    "\n",
    "# --- Print Results ---\n",
    "print(\"Discovery Times:\", discovery)\n",
    "print(\"Finish Times:\", finish)\n",
    "print(\"Parents:\", parent)\n"
   ]
  },
  {
   "cell_type": "code",
   "execution_count": null,
   "id": "91eb5537",
   "metadata": {},
   "outputs": [],
   "source": []
  }
 ],
 "metadata": {
  "kernelspec": {
   "display_name": "Python 3",
   "language": "python",
   "name": "python3"
  },
  "language_info": {
   "codemirror_mode": {
    "name": "ipython",
    "version": 3
   },
   "file_extension": ".py",
   "mimetype": "text/x-python",
   "name": "python",
   "nbconvert_exporter": "python",
   "pygments_lexer": "ipython3",
   "version": "3.13.7"
  }
 },
 "nbformat": 4,
 "nbformat_minor": 5
}
