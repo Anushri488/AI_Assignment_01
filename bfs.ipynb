{
 "cells": [
  {
   "cell_type": "code",
   "execution_count": 2,
   "id": "457e8a8f",
   "metadata": {},
   "outputs": [
    {
     "name": "stdout",
     "output_type": "stream",
     "text": [
      "{'A': 'white', 'B': 'white', 'C': 'white', 'D': 'white', 'E': 'white', 'F': 'white'}\n",
      "{'A': inf, 'B': inf, 'C': inf, 'D': inf, 'E': inf, 'F': inf}\n",
      "{'A': None, 'B': None, 'C': None, 'D': None, 'E': None, 'F': None}\n"
     ]
    }
   ],
   "source": [
    "graph = {\n",
    "    'A': ['B', 'C'],\n",
    "    'B': ['D', 'E'],\n",
    "    'C': ['F'],\n",
    "    'D': [],\n",
    "    'E': ['F'],\n",
    "    'F': []\n",
    "}\n",
    "color={u: \"white\" for u in graph}\n",
    "distance={u:float(\"inf\")for u in graph}\n",
    "parent={u:None for u in  graph}\n",
    "print(color)\n",
    "print(distance)\n",
    "print(parent)\n"
   ]
  },
  {
   "cell_type": "code",
   "execution_count": 9,
   "id": "9807005a",
   "metadata": {},
   "outputs": [
    {
     "name": "stdout",
     "output_type": "stream",
     "text": [
      "Distances from source: {'A': 0, 'B': 1, 'C': 1, 'D': 2, 'E': 2, 'F': 2}\n",
      "Parents in BFS tree: {'A': None, 'B': 'A', 'C': 'A', 'D': 'B', 'E': 'B', 'F': 'C'}\n"
     ]
    }
   ],
   "source": [
    "from collections import deque\n",
    "def bfs(graph,start):\n",
    "    color={u: \"white\" for u in graph}\n",
    "    distance={u:float(\"inf\")for u in graph}\n",
    "    parent={u:None for u in  graph}\n",
    "    color[start]=\"grey\"\n",
    "    distance[start]=0\n",
    "    parent[start]=None\n",
    "    q=deque()\n",
    "    q.append(start)\n",
    "    while q:\n",
    "        u=q.popleft()\n",
    "        for v in graph[u]:\n",
    "            if color[v] ==\"white\":\n",
    "                color[v]=\"grey\"\n",
    "                distance[v]=distance[u]+1\n",
    "                parent[v]=u\n",
    "                q.append(v)\n",
    "            color[u]=\"black\"\n",
    "    return distance,parent\n",
    "\n",
    "distance,parent=bfs(graph,\"A\")            \n",
    "print(\"Distances from source:\", distance)\n",
    "print(\"Parents in BFS tree:\", parent)\n",
    "     \n",
    "\n",
    "\n"
   ]
  }
 ],
 "metadata": {
  "kernelspec": {
   "display_name": "Python 3",
   "language": "python",
   "name": "python3"
  },
  "language_info": {
   "codemirror_mode": {
    "name": "ipython",
    "version": 3
   },
   "file_extension": ".py",
   "mimetype": "text/x-python",
   "name": "python",
   "nbconvert_exporter": "python",
   "pygments_lexer": "ipython3",
   "version": "3.13.7"
  }
 },
 "nbformat": 4,
 "nbformat_minor": 5
}
