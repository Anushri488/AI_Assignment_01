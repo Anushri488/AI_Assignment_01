<!DOCTYPE html>
<!-- saved from url=(0080)https://github.com/aruntakhur/SitareUniversity/blob/main/GreedyBFS_AI_2025.ipynb -->
<html lang="en" data-color-mode="auto" data-light-theme="light" data-dark-theme="dark" data-a11y-animated-images="system" data-a11y-link-underlines="true" class="js-focus-visible" data-js-focus-visible="" data-turbo-loaded=""><head><meta http-equiv="Content-Type" content="text/html; charset=UTF-8"><style type="text/css">.turbo-progress-bar {
  position: fixed;
  display: block;
  top: 0;
  left: 0;
  height: 3px;
  background: #0076ff;
  z-index: 2147483647;
  transition:
    width 300ms ease-out,
    opacity 150ms 150ms ease-in;
  transform: translate3d(0, 0, 0);
}
</style><style>
:root {
  --fontStack-monospace: "Monaspace Neon", ui-monospace, SFMono-Regular, SF Mono, Menlo, Consolas, Liberation Mono, monospace !important;
}
</style>




  
    
  <link rel="dns-prefetch" href="https://github.githubassets.com/">
  <link rel="dns-prefetch" href="https://avatars.githubusercontent.com/">
  <link rel="dns-prefetch" href="https://github-cloud.s3.amazonaws.com/">
  <link rel="dns-prefetch" href="https://user-images.githubusercontent.com/">
  <link rel="preconnect" href="https://github.githubassets.com/" crossorigin="">
  <link rel="preconnect" href="https://avatars.githubusercontent.com/">

  


  <link crossorigin="anonymous" media="all" rel="stylesheet" href="./Greedy_BFS_files/light-6448649c7147.css"><link crossorigin="anonymous" media="all" rel="stylesheet" href="./Greedy_BFS_files/dark-d17b946fc2c5.css"><link data-color-theme="light_high_contrast" crossorigin="anonymous" media="all" rel="stylesheet" data-href="https://github.githubassets.com/assets/light_high_contrast-42fc7e3b06b7.css"><link data-color-theme="light_colorblind" crossorigin="anonymous" media="all" rel="stylesheet" data-href="https://github.githubassets.com/assets/light_colorblind-44cfaf0c8f7b.css"><link data-color-theme="light_colorblind_high_contrast" crossorigin="anonymous" media="all" rel="stylesheet" data-href="https://github.githubassets.com/assets/light_colorblind_high_contrast-979217efd93e.css"><link data-color-theme="light_tritanopia" crossorigin="anonymous" media="all" rel="stylesheet" data-href="https://github.githubassets.com/assets/light_tritanopia-4d5383026bfa.css"><link data-color-theme="light_tritanopia_high_contrast" crossorigin="anonymous" media="all" rel="stylesheet" data-href="https://github.githubassets.com/assets/light_tritanopia_high_contrast-ff6ff8532348.css"><link data-color-theme="dark_high_contrast" crossorigin="anonymous" media="all" rel="stylesheet" data-href="https://github.githubassets.com/assets/dark_high_contrast-1b924088c83a.css"><link data-color-theme="dark_colorblind" crossorigin="anonymous" media="all" rel="stylesheet" data-href="https://github.githubassets.com/assets/dark_colorblind-654786382462.css"><link data-color-theme="dark_colorblind_high_contrast" crossorigin="anonymous" media="all" rel="stylesheet" data-href="https://github.githubassets.com/assets/dark_colorblind_high_contrast-ecca008c6f6e.css"><link data-color-theme="dark_tritanopia" crossorigin="anonymous" media="all" rel="stylesheet" data-href="https://github.githubassets.com/assets/dark_tritanopia-fff376053989.css"><link data-color-theme="dark_tritanopia_high_contrast" crossorigin="anonymous" media="all" rel="stylesheet" data-href="https://github.githubassets.com/assets/dark_tritanopia_high_contrast-49adf52571e5.css"><link data-color-theme="dark_dimmed" crossorigin="anonymous" media="all" rel="stylesheet" data-href="https://github.githubassets.com/assets/dark_dimmed-66d97c13c98a.css"><link data-color-theme="dark_dimmed_high_contrast" crossorigin="anonymous" media="all" rel="stylesheet" data-href="https://github.githubassets.com/assets/dark_dimmed_high_contrast-c58f1d0432b9.css">

  <style type="text/css">
    :root {
      --tab-size-preference: 4;
    }

    pre, code {
      tab-size: var(--tab-size-preference);
    }
  </style>

    <link crossorigin="anonymous" media="all" rel="stylesheet" href="./Greedy_BFS_files/primer-primitives-dc7ca6859caf.css">
    <link crossorigin="anonymous" media="all" rel="stylesheet" href="./Greedy_BFS_files/primer-f96b923db733.css">
    <link crossorigin="anonymous" media="all" rel="stylesheet" href="./Greedy_BFS_files/global-2744ca59d025.css">
    <link crossorigin="anonymous" media="all" rel="stylesheet" href="./Greedy_BFS_files/github-f7128b22e253.css">
  <link crossorigin="anonymous" media="all" rel="stylesheet" href="./Greedy_BFS_files/repository-5d735668c600.css">
<link crossorigin="anonymous" media="all" rel="stylesheet" href="./Greedy_BFS_files/code-9c9b8dc61e74.css">

  

  <script type="application/json" id="client-env">{"locale":"en","featureFlags":["alternate_user_config_repo","api_insights_show_missing_data_banner","arianotify_partial_migration","attestations_filtering","attestations_sorting","billing_hard_budget_limits_for_licenses","client_version_header","codespaces_prebuild_region_target_update","contact_requests_implicit_opt_in","contentful_lp_enterprise","contentful_lp_footnotes","copilot_agent_task_caching","copilot_api_agentic_issue_marshal_yaml","copilot_api_draft_issue_with_mixed_trees","copilot_capi_error_response_telemetry","copilot_chat_attach_multiple_images","copilot_chat_disable_model_picker_while_streaming","copilot_chat_file_redirect","copilot_chat_group_notifications","copilot_chat_no_header","copilot_chat_opening_thread_switch","copilot_chat_reduce_quota_checks","copilot_chat_search_bar_redirect","copilot_chat_vision_in_claude","copilot_chat_vision_skip_thread_create","copilot_coding_agent_diff_stats","copilot_custom_copilots_feature_preview","copilot_custom_copilots_images","copilot_disable_generated_commit_description","copilot_duplicate_thread","copilot_features_raycast_logo","copilot_free_to_paid_telem","copilot_ftp_hyperspace_upgrade_prompt","copilot_ftp_settings_upgrade","copilot_ftp_upgrade_to_pro_from_models","copilot_ftp_your_copilot_settings","copilot_generate_commit_message_blob_public_preview","copilot_global_overlay_v2","copilot_immersive_agent_branch_selection","copilot_immersive_draft_issue_tree","copilot_immersive_structured_model_picker","copilot_issue_list_show_more","copilot_loops_share_button","copilot_no_floating_button","copilot_pipes_github_graphql_nodes","copilot_premium_request_quotas","copilot_read_shared_conversation","copilot_share_active_subthread","copilot_spaces_input_menu_select","copilot_spark_allow_empty_commit","copilot_spark_single_user_iteration","copilot_spark_use_billing_headers","copilot_spark_write_iteration_history_to_git","copilot_stable_conversation_view","copilot_task_oriented_assistive_prompts","copilot_workbench_agent_seed_tool","copilot_workbench_cache","copilot_workbench_connection_reload_banner","copilot_workbench_preview_analytics","copilot_workbench_ratelimit_fallback","copilot_workbench_refresh_on_wsod","copilot_workbench_synthetic_generation","custom_copilots_capi_mode","dashboard_public_preview","direct_to_salesforce","dotcom_chat_client_side_skills","failbot_report_error_react_apps_on_page","fgpat_permissions_selector_redesign","ghost_pilot_confidence_truncation_25","ghost_pilot_confidence_truncation_40","github_models_scheduled_hydro_events","global_nav_copilot_a11y_fix","global_nav_reductive_user_menu","global_search_multi_orgs","global_sso_banner","hpc_improve_dom_insertion_observer","hyperspace_diff_view","insert_before_patch","issue_fields_report_usage","issues_expanded_file_types","issues_preserve_tokens_in_urls","issues_react_blur_item_picker_on_close","issues_react_bots_timeline_pagination","issues_react_include_bots_in_pickers","issues_react_prohibit_title_fallback","issues_react_remove_placeholders","kb_semantic_api_migration","lifecycle_label_name_updates","link_contact_sales_swp_marketo","loops_versioning","marketing_pages_search_explore_provider","mcp_registry_all_featured_cards","memex_mwl_filter_field_delimiter","memex_roadmap_drag_style","migrate_toasts_to_banners_web_notifications","new_insights_rulesets_filter","new_traffic_page_banner","override_pulse_legacy_url","primer_react_segmented_control_tooltip","primer_react_select_panel_remove_active_descendant","primer_react_unified_portal_root","record_sso_banner_metrics","releases_update_ref_selector","remove_child_patch","repos_insights_remove_new_url","repository_suggester_elastic_search","sample_network_conn_type","scheduled_reminders_updated_limits","show_edit_on_default_option","site_homepage_contentful","site_msbuild_webgl_hero","spark_commit_on_default_branch","spark_sync_repository_after_iteration","viewscreen_sandbox","webp_support","workbench_default_sonnet4","workbench_store_readonly"],"login":"Anushri488","copilotApiOverrideUrl":"https://api.individual.githubcopilot.com"}</script>
<script crossorigin="anonymous" type="application/javascript" src="./Greedy_BFS_files/wp-runtime-348f92aa0e8a.js.download" defer="defer"></script>
<script crossorigin="anonymous" type="application/javascript" src="./Greedy_BFS_files/vendors-node_modules_oddbird_popover-polyfill_dist_popover-fn_js-468bf7cab607.js.download" defer="defer"></script>
<script crossorigin="anonymous" type="application/javascript" src="./Greedy_BFS_files/vendors-node_modules_github_mini-throttle_dist_index_js-node_modules_stacktrace-parser_dist_s-1d3d52-25523f4ee061.js.download" defer="defer"></script>
<script crossorigin="anonymous" type="application/javascript" src="./Greedy_BFS_files/packages_failbot_failbot_ts-7cdfcb8274ec.js.download" defer="defer"></script>
<script crossorigin="anonymous" type="application/javascript" src="./Greedy_BFS_files/environment-472a04f0328f.js.download" defer="defer"></script>
<script crossorigin="anonymous" type="application/javascript" src="./Greedy_BFS_files/vendors-node_modules_primer_behaviors_dist_esm_index_mjs-7e8c9c5d642d.js.download" defer="defer"></script>
<script crossorigin="anonymous" type="application/javascript" src="./Greedy_BFS_files/vendors-node_modules_github_selector-observer_dist_index_esm_js-7e4d99c9171d.js.download" defer="defer"></script>
<script crossorigin="anonymous" type="application/javascript" src="./Greedy_BFS_files/vendors-node_modules_github_relative-time-element_dist_index_js-c98257dc79a7.js.download" defer="defer"></script>
<script crossorigin="anonymous" type="application/javascript" src="./Greedy_BFS_files/vendors-node_modules_github_auto-complete-element_dist_index_js-node_modules_github_catalyst_-0d7d60-9ac2b374b638.js.download" defer="defer"></script>
<script crossorigin="anonymous" type="application/javascript" src="./Greedy_BFS_files/vendors-node_modules_github_text-expander-element_dist_index_js-754f5b5e9e7e.js.download" defer="defer"></script>
<script crossorigin="anonymous" type="application/javascript" src="./Greedy_BFS_files/vendors-node_modules_github_filter-input-element_dist_index_js-node_modules_github_remote-inp-665e70-a5590c456d33.js.download" defer="defer"></script>
<script crossorigin="anonymous" type="application/javascript" src="./Greedy_BFS_files/vendors-node_modules_github_markdown-toolbar-element_dist_index_js-d41270eb61be.js.download" defer="defer"></script>
<script crossorigin="anonymous" type="application/javascript" src="./Greedy_BFS_files/vendors-node_modules_github_file-attachment-element_dist_index_js-node_modules_primer_view-co-777ce2-337f60509a95.js.download" defer="defer"></script>
<script crossorigin="anonymous" type="application/javascript" src="./Greedy_BFS_files/github-elements-39310fffdcee.js.download" defer="defer"></script>
<script crossorigin="anonymous" type="application/javascript" src="./Greedy_BFS_files/element-registry-c5eae246e80a.js.download" defer="defer"></script>
<script crossorigin="anonymous" type="application/javascript" src="./Greedy_BFS_files/vendors-node_modules_braintree_browser-detection_dist_browser-detection_js-node_modules_githu-bb80ec-4e90f1d1076c.js.download" defer="defer"></script>
<script crossorigin="anonymous" type="application/javascript" src="./Greedy_BFS_files/vendors-node_modules_lit-html_lit-html_js-06c8637a6071.js.download" defer="defer"></script>
<script crossorigin="anonymous" type="application/javascript" src="./Greedy_BFS_files/vendors-node_modules_morphdom_dist_morphdom-esm_js-node_modules_swc_helpers_esm__define_property_js-5c587dccb470.js.download" defer="defer"></script>
<script crossorigin="anonymous" type="application/javascript" src="./Greedy_BFS_files/vendors-node_modules_github_turbo_dist_turbo_es2017-esm_js-8eb9b2209bcd.js.download" defer="defer"></script>
<script crossorigin="anonymous" type="application/javascript" src="./Greedy_BFS_files/vendors-node_modules_github_remote-form_dist_index_js-node_modules_delegated-events_dist_inde-893f9f-cd5d89ebdb50.js.download" defer="defer"></script>
<script crossorigin="anonymous" type="application/javascript" src="./Greedy_BFS_files/vendors-node_modules_github_quote-selection_dist_index_js-node_modules_github_session-resume_-d3ee0b-9bd182333410.js.download" defer="defer"></script>
<script crossorigin="anonymous" type="application/javascript" src="./Greedy_BFS_files/packages_updatable-content_updatable-content_ts-a743e72edcf2.js.download" defer="defer"></script>
<script crossorigin="anonymous" type="application/javascript" src="./Greedy_BFS_files/app_assets_modules_github_behaviors_ajax-error_ts-app_assets_modules_github_behaviors_details-884c01-e22717ec4ab6.js.download" defer="defer"></script>
<script crossorigin="anonymous" type="application/javascript" src="./Greedy_BFS_files/app_assets_modules_github_behaviors_task-list_ts-app_assets_modules_github_throttled-input_ts-047775-251a6ef52573.js.download" defer="defer"></script>
<script crossorigin="anonymous" type="application/javascript" src="./Greedy_BFS_files/app_assets_modules_github_behaviors_commenting_edit_ts-app_assets_modules_github_behaviors_ht-83c235-6bc7a8849328.js.download" defer="defer"></script>
<script crossorigin="anonymous" type="application/javascript" src="./Greedy_BFS_files/behaviors-97ac2c14d80f.js.download" defer="defer"></script>
<script crossorigin="anonymous" type="application/javascript" src="./Greedy_BFS_files/vendors-node_modules_delegated-events_dist_index_js-node_modules_github_catalyst_lib_index_js-ef6d0f-641e2ed302b3.js.download" defer="defer"></script>
<script crossorigin="anonymous" type="application/javascript" src="./Greedy_BFS_files/notifications-global-e0009afb39c7.js.download" defer="defer"></script>
<script crossorigin="anonymous" type="application/javascript" src="./Greedy_BFS_files/vendors-node_modules_github_mini-throttle_dist_index_js-node_modules_github_catalyst_lib_inde-96937f-07580acb275f.js.download" defer="defer"></script>
<script crossorigin="anonymous" type="application/javascript" src="./Greedy_BFS_files/code-menu-6292fc60c722.js.download" defer="defer"></script>
  
  <script crossorigin="anonymous" type="application/javascript" src="./Greedy_BFS_files/primer-react-4a21b9b47e5e.js.download" defer="defer"></script>
<script crossorigin="anonymous" type="application/javascript" src="./Greedy_BFS_files/react-core-d033e5451496.js.download" defer="defer"></script>
<script crossorigin="anonymous" type="application/javascript" src="./Greedy_BFS_files/react-lib-17ccbc80f53b.js.download" defer="defer"></script>
<script crossorigin="anonymous" type="application/javascript" src="./Greedy_BFS_files/octicons-react-0f0d82031c98.js.download" defer="defer"></script>
<script crossorigin="anonymous" type="application/javascript" src="./Greedy_BFS_files/vendors-node_modules_emotion_is-prop-valid_dist_emotion-is-prop-valid_esm_js-node_modules_emo-928884-591c29997bc6.js.download" defer="defer"></script>
<script crossorigin="anonymous" type="application/javascript" src="./Greedy_BFS_files/vendors-node_modules_primer_live-region-element_dist_esm_index_js-node_modules_swc_helpers_es-b6e71e-5b3ad5c61499.js.download" defer="defer"></script>
<script crossorigin="anonymous" type="application/javascript" src="./Greedy_BFS_files/vendors-node_modules_swc_helpers_esm__define_property_js-node_modules_tanstack_query-core_bui-b9aec9-854214382812.js.download" defer="defer"></script>
<script crossorigin="anonymous" type="application/javascript" src="./Greedy_BFS_files/vendors-node_modules_dompurify_dist_purify_es_mjs-0294cfa498e7.js.download" defer="defer"></script>
<script crossorigin="anonymous" type="application/javascript" src="./Greedy_BFS_files/vendors-node_modules_tanstack_react-query_build_modern_useQuery_js-214b7f03e2b4.js.download" defer="defer"></script>
<script crossorigin="anonymous" type="application/javascript" src="./Greedy_BFS_files/vendors-node_modules_date-fns_format_mjs-f7e5dd4e3ebd.js.download" defer="defer"></script>
<script crossorigin="anonymous" type="application/javascript" src="./Greedy_BFS_files/vendors-node_modules_date-fns_addWeeks_mjs-node_modules_date-fns_addYears_mjs-node_modules_da-827f4f-6af178f555c7.js.download" defer="defer"></script>
<script crossorigin="anonymous" type="application/javascript" src="./Greedy_BFS_files/vendors-node_modules_focus-visible_dist_focus-visible_js-node_modules_github_hotkey_dist_inde-336f14-44fbd8c36b37.js.download" defer="defer"></script>
<script crossorigin="anonymous" type="application/javascript" src="./Greedy_BFS_files/vendors-node_modules_date-fns_getDaysInMonth_mjs-node_modules_date-fns_isAfter_mjs-node_modul-49f526-00fbebc8e440.js.download" defer="defer"></script>
<script crossorigin="anonymous" type="application/javascript" src="./Greedy_BFS_files/vendors-node_modules_dnd-kit_modifiers_dist_modifiers_esm_js-node_modules_dnd-kit_sortable_di-72228e-99b95b9fca56.js.download" defer="defer"></script>
<script crossorigin="anonymous" type="application/javascript" src="./Greedy_BFS_files/vendors-node_modules_lodash-es__Stack_js-node_modules_lodash-es__Uint8Array_js-node_modules_l-4faaa6-95511fe13c4b.js.download" defer="defer"></script>
<script crossorigin="anonymous" type="application/javascript" src="./Greedy_BFS_files/vendors-node_modules_tanstack_react-virtual_dist_esm_index_js-4f7c027617ef.js.download" defer="defer"></script>
<script crossorigin="anonymous" type="application/javascript" src="./Greedy_BFS_files/vendors-node_modules_react-relay_index_js-065619a68bd6.js.download" defer="defer"></script>
<script crossorigin="anonymous" type="application/javascript" src="./Greedy_BFS_files/vendors-node_modules_primer_styled-react_dist_index_js-node_modules_mdast-util-from-markdown_-7ab78a-0001a293a1d5.js.download" defer="defer"></script>
<script crossorigin="anonymous" type="application/javascript" src="./Greedy_BFS_files/vendors-node_modules_remark-gfm_lib_index_js-node_modules_remark-parse_lib_index_js-node_modu-44d0fc-d85da444255c.js.download" defer="defer"></script>
<script crossorigin="anonymous" type="application/javascript" src="./Greedy_BFS_files/vendors-node_modules_hastscript_lib_index_js-node_modules_lowlight_lib_all_js-node_modules_re-7714c4-76938e382abd.js.download" defer="defer"></script>
<script crossorigin="anonymous" type="application/javascript" src="./Greedy_BFS_files/vendors-node_modules_github_mini-throttle_dist_decorators_js-node_modules_accname_dist_access-6ea9b0-201e3c77621c.js.download" defer="defer"></script>
<script crossorigin="anonymous" type="application/javascript" src="./Greedy_BFS_files/vendors-node_modules_fzy_js_index_js-node_modules_dom-input-range_dist_index_js-ad420d163f4e.js.download" defer="defer"></script>
<script crossorigin="anonymous" type="application/javascript" src="./Greedy_BFS_files/vendors-node_modules_emoji-regex_index_js-node_modules_tanstack_react-query_build_modern_useM-a11183-c325990337e4.js.download" defer="defer"></script>
<script crossorigin="anonymous" type="application/javascript" src="./Greedy_BFS_files/vendors-node_modules_github_catalyst_lib_index_js-node_modules_swc_helpers_esm__class_static_-b16468-1b586c8cb7fd.js.download" defer="defer"></script>
<script crossorigin="anonymous" type="application/javascript" src="./Greedy_BFS_files/packages_paths_index_ts-de16a703e86e.js.download" defer="defer"></script>
<script crossorigin="anonymous" type="application/javascript" src="./Greedy_BFS_files/packages_ui-commands_ui-commands_ts-6bae096b17a7.js.download" defer="defer"></script>
<script crossorigin="anonymous" type="application/javascript" src="./Greedy_BFS_files/packages_date-picker_components_DatePicker_tsx-5b5fe0292542.js.download" defer="defer"></script>
<script crossorigin="anonymous" type="application/javascript" src="./Greedy_BFS_files/packages_drag-and-drop_drag-and-drop_ts-packages_hydro-analytics_hydro-analytics_ts-6d373d06faa7.js.download" defer="defer"></script>
<script crossorigin="anonymous" type="application/javascript" src="./Greedy_BFS_files/packages_list-view_src_hooks_use-next-header-tag_ts-packages_list-view_src_ListItem_ListItem_-055669-a51bfc2f2d41.js.download" defer="defer"></script>
<script crossorigin="anonymous" type="application/javascript" src="./Greedy_BFS_files/packages_copilot-chat_utils_copilot-chat-helpers_ts-fcf1c4bcc38d.js.download" defer="defer"></script>
<script crossorigin="anonymous" type="application/javascript" src="./Greedy_BFS_files/packages_ref-selector_RefSelector_tsx-d33d47db611a.js.download" defer="defer"></script>
<script crossorigin="anonymous" type="application/javascript" src="./Greedy_BFS_files/packages_github-avatar_GitHubAvatar_tsx-packages_item-picker_components_RepositoryPicker_tsx--5e6284-3b6eaaa1c656.js.download" defer="defer"></script>
<script crossorigin="anonymous" type="application/javascript" src="./Greedy_BFS_files/packages_copilot-markdown_MarkdownRenderer_tsx-880415af079e.js.download" defer="defer"></script>
<script crossorigin="anonymous" type="application/javascript" src="./Greedy_BFS_files/packages_copilot-chat_utils_CopilotChatContext_tsx-2ea77c48dac6.js.download" defer="defer"></script>
<script crossorigin="anonymous" type="application/javascript" src="./Greedy_BFS_files/packages_relay-environment_relay-environment_ts-packages_soft-nav_state_ts-packages_agent-ses-2d4f01-d1fa3ea9ad49.js.download" defer="defer"></script>
<script crossorigin="anonymous" type="application/javascript" src="./Greedy_BFS_files/packages_copilot-chat_components_ModelPicker_tsx-8c329f993469.js.download" defer="defer"></script>
<script crossorigin="anonymous" type="application/javascript" src="./Greedy_BFS_files/packages_aria-live_aria-live_ts-packages_copilot-chat_utils_copilot-chat-events_ts-packages_h-4a2b0c-b3372dce64e9.js.download" defer="defer"></script>
<script crossorigin="anonymous" type="application/javascript" src="./Greedy_BFS_files/packages_agent-sessions_components_NewTaskChatInput_tsx-packages_agent-sessions_components_Ta-7559ae-932d109a3148.js.download" defer="defer"></script>
<script crossorigin="anonymous" type="application/javascript" src="./Greedy_BFS_files/packages_commit-attribution_index_ts-packages_commit-checks-status_index_ts-7c59e706a4c5.js.download" defer="defer"></script>
<script crossorigin="anonymous" type="application/javascript" src="./Greedy_BFS_files/packages_code-view-shared_hooks_shortcuts_ts-packages_failbot_failbot_ts-packages_use-code-vi-e0ddb1-2c679d384dc0.js.download" defer="defer"></script>
<script crossorigin="anonymous" type="application/javascript" src="./Greedy_BFS_files/packages_app-uuid_app-uuid_ts-packages_repos-file-tree-view_repos-file-tree-view_ts-20a01b589912.js.download" defer="defer"></script>
<script crossorigin="anonymous" type="application/javascript" src="./Greedy_BFS_files/app_assets_modules_react-code-view_utilities_lines_ts-07e43fa1d710.js.download" defer="defer"></script>
<script crossorigin="anonymous" type="application/javascript" src="./Greedy_BFS_files/packages_code-view-shared_worker-jobs_debounced-worker-manager_ts-packages_diffs_diff-parts_t-846e94-3441bc4970a8.js.download" defer="defer"></script>
<script crossorigin="anonymous" type="application/javascript" src="./Greedy_BFS_files/react-code-view-24500ab2424d.js.download" defer="defer"></script>
<link crossorigin="anonymous" media="all" rel="stylesheet" href="./Greedy_BFS_files/primer-react.bde96664bd5edb566a4a.module.css">
<link crossorigin="anonymous" media="all" rel="stylesheet" href="./Greedy_BFS_files/packages_agent-sessions_components_NewTaskChatInput_tsx-packages_agent-sessions_components_Ta-7559ae.18d099d5d6abc5ce0a1f.module.css">
<link crossorigin="anonymous" media="all" rel="stylesheet" href="./Greedy_BFS_files/react-code-view.a330f1473033608801c8.module.css">


  <title>SitareUniversity/GreedyBFS_AI_2025.ipynb at main · aruntakhur/SitareUniversity</title>



  <meta name="route-pattern" content="/:user_id/:repository/blob/*name(/*path)" data-turbo-transient="">
  <meta name="route-controller" content="blob" data-turbo-transient="">
  <meta name="route-action" content="show" data-turbo-transient="">
  <meta name="fetch-nonce" content="v2:e7f6bdf8-2a57-f824-f9e5-207a88b937e4">

    
  <meta name="current-catalog-service-hash" content="f3abb0cc802f3d7b95fc8762b94bdcb13bf39634c40c357301c4aa1d67a256fb">


  <meta name="request-id" content="C669:AAF55:AC4C42:C1AA95:68C1AD22" data-turbo-transient="true"><meta name="html-safe-nonce" content="efcdf4c8588f781d909ce75a3e2cb764bc079acf64e82d15949109badd480cd1" data-turbo-transient="true"><meta name="visitor-payload" content="eyJyZWZlcnJlciI6Imh0dHBzOi8vZ2l0aHViLmNvbS9hcnVudGFraHVyL1NpdGFyZVVuaXZlcnNpdHkvYmxvYi9tYWluL0dyZWVkeUJGU19BSV8yMDI1LmlweW5iIiwicmVxdWVzdF9pZCI6IkM2Njk6QUFGNTU6QUM0QzQyOkMxQUE5NTo2OEMxQUQyMiIsInZpc2l0b3JfaWQiOiIyMDAzMDkyMjIyMjQyMjUzNTQ3IiwicmVnaW9uX2VkZ2UiOiJjZW50cmFsaW5kaWEiLCJyZWdpb25fcmVuZGVyIjoiaWFkIn0=" data-turbo-transient="true"><meta name="visitor-hmac" content="e1d94180187e58cfffb62fa037f59f176c6ec3af7a69b03794c1e58a00add4b1" data-turbo-transient="true">


    <meta name="hovercard-subject-tag" content="repository:1040478506" data-turbo-transient="">


  <meta name="github-keyboard-shortcuts" content="repository,source-code,file-tree,copilot" data-turbo-transient="true">
  

  <meta name="selected-link" value="repo_source" data-turbo-transient="">
  <link rel="assets" href="https://github.githubassets.com/">

    <meta name="google-site-verification" content="Apib7-x98H0j5cPqHWwSMm6dNU4GmODRoqxLiDzdx9I">

<meta name="octolytics-url" content="https://collector.github.com/github/collect"><meta name="octolytics-actor-id" content="186043011"><meta name="octolytics-actor-login" content="Anushri488"><meta name="octolytics-actor-hash" content="6a3d7db792861c6b57c019742ccdc76cc9a4ec36705e92fe54e48b706919c751">

  <meta name="analytics-location" content="/&lt;user-name&gt;/&lt;repo-name&gt;/blob/show" data-turbo-transient="true">

  




    <meta name="user-login" content="Anushri488">

  <link rel="sudo-modal" href="https://github.com/sessions/sudo_modal">

    <meta name="viewport" content="width=device-width">

    

      <meta name="description" content="AI_DL_Codes. Contribute to aruntakhur/SitareUniversity development by creating an account on GitHub.">

      <link rel="search" type="application/opensearchdescription+xml" href="https://github.com/opensearch.xml" title="GitHub">

    <link rel="fluid-icon" href="https://github.com/fluidicon.png" title="GitHub">
    <meta property="fb:app_id" content="1401488693436528">
    <meta name="apple-itunes-app" content="app-id=1477376905, app-argument=https://github.com/aruntakhur/SitareUniversity/blob/main/DFS_AI_2025.ipynb">

      <meta name="twitter:image" content="https://opengraph.githubassets.com/bfc0f25717e87ff0c5293f11416698a6d94742352e9489cd62aa6b034dc448ff/aruntakhur/SitareUniversity"><meta name="twitter:site" content="@github"><meta name="twitter:card" content="summary_large_image"><meta name="twitter:title" content="SitareUniversity/DFS_AI_2025.ipynb at main · aruntakhur/SitareUniversity"><meta name="twitter:description" content="AI_DL_Codes. Contribute to aruntakhur/SitareUniversity development by creating an account on GitHub.">
  <meta property="og:image" content="https://opengraph.githubassets.com/bfc0f25717e87ff0c5293f11416698a6d94742352e9489cd62aa6b034dc448ff/aruntakhur/SitareUniversity"><meta property="og:image:alt" content="AI_DL_Codes. Contribute to aruntakhur/SitareUniversity development by creating an account on GitHub."><meta property="og:image:width" content="1200"><meta property="og:image:height" content="600"><meta property="og:site_name" content="GitHub"><meta property="og:type" content="object"><meta property="og:title" content="SitareUniversity/DFS_AI_2025.ipynb at main · aruntakhur/SitareUniversity"><meta property="og:url" content="https://github.com/aruntakhur/SitareUniversity/blob/main/DFS_AI_2025.ipynb"><meta property="og:description" content="AI_DL_Codes. Contribute to aruntakhur/SitareUniversity development by creating an account on GitHub.">
  


      <link rel="shared-web-socket" href="wss://alive.github.com/_sockets/u/186043011/ws?session=eyJ2IjoiVjMiLCJ1IjoxODYwNDMwMTEsInMiOjE3ODQ0NTIxNDksImMiOjM0NTk4NTQzMzIsInQiOjE3NTc1MjMyMzR9--e0e0b8a44fd6d82d7a1ca4ec4d2184e3ab9364de93e02b83657efa607ecac0b8" data-refresh-url="/_alive" data-session-id="639fc732a01effee8c0576df476e9cfab55067085d96ea07f3be32f6c15d1b34">
      <link rel="shared-web-socket-src" href="https://github.com/assets-cdn/worker/socket-worker-7db934acff24.js">


      <meta name="hostname" content="github.com">


      <meta name="keyboard-shortcuts-preference" content="all">
      <meta name="hovercards-preference" content="true">
      <meta name="announcement-preference-hovercard" content="true">

        <meta name="expected-hostname" content="github.com">


  <meta http-equiv="x-pjax-version" content="f460ebb80aa113e5fe2b03477dcebed0d6a3de8949cf28f49ee9eb1b1ed39496" data-turbo-track="reload">
  <meta http-equiv="x-pjax-csp-version" content="7a8d2a325eda0ce8231fb01635a57c5af49cef72457e9682233c3f4927e7b224" data-turbo-track="reload">
  <meta http-equiv="x-pjax-css-version" content="8a0735d016089f8354c8d1451df9eae2b267023d238471fb203c0d53f7f745e1" data-turbo-track="reload">
  <meta http-equiv="x-pjax-js-version" content="fc44e8be738d24ea978a612015424cbbdadc5f7adb7373ee8e620a701a25c1be" data-turbo-track="reload">

  <meta name="turbo-cache-control" content="no-preview" data-turbo-transient="">

      <meta name="turbo-cache-control" content="no-cache" data-turbo-transient="">

    <meta data-hydrostats="publish">

  <meta name="go-import" content="github.com/aruntakhur/SitareUniversity git https://github.com/aruntakhur/SitareUniversity.git">

  <meta name="octolytics-dimension-user_id" content="5259552"><meta name="octolytics-dimension-user_login" content="aruntakhur"><meta name="octolytics-dimension-repository_id" content="1040478506"><meta name="octolytics-dimension-repository_nwo" content="aruntakhur/SitareUniversity"><meta name="octolytics-dimension-repository_public" content="true"><meta name="octolytics-dimension-repository_is_fork" content="false"><meta name="octolytics-dimension-repository_network_root_id" content="1040478506"><meta name="octolytics-dimension-repository_network_root_nwo" content="aruntakhur/SitareUniversity">



    

    <meta name="turbo-body-classes" content="logged-in env-production page-responsive">


  <meta name="browser-stats-url" content="https://api.github.com/_private/browser/stats">

  <meta name="browser-errors-url" content="https://api.github.com/_private/browser/errors">

  <meta name="release" content="ed4becda7e590493a3eb351d9ef96da3f7e36888">
  <meta name="ui-target" content="full">

  <link rel="mask-icon" href="https://github.githubassets.com/assets/pinned-octocat-093da3e6fa40.svg" color="#000000">
  <link rel="alternate icon" class="js-site-favicon" type="image/png" href="https://github.githubassets.com/favicons/favicon.png">
  <link rel="icon" class="js-site-favicon" type="image/svg+xml" href="https://github.githubassets.com/favicons/favicon.svg" data-base-href="https://github.githubassets.com/favicons/favicon">

<meta name="theme-color" content="#1e2327">
<meta name="color-scheme" content="light dark">

  <meta name="msapplication-TileImage" content="/windows-tile.png">
  <meta name="msapplication-TileColor" content="#ffffff">

  <link rel="manifest" href="https://github.com/manifest.json" crossorigin="use-credentials">

  <style data-styled="active" data-styled-version="5.3.11"></style><link rel="stylesheet" type="text/css" href="./Greedy_BFS_files/lazy-react-partial-keyboard-shortcuts-dialog.2de9c7d6456a311fce49.module.css" crossorigin="anonymous"><link rel="stylesheet" type="text/css" href="./Greedy_BFS_files/packages_file-renderer-blob_FileRendererBlob_tsx.62cedefa6373aab58502.module.css" crossorigin="anonymous"><link rel="stylesheet" type="text/css" href="./Greedy_BFS_files/lazy-react-partial-global-copilot-menu.e8b96f8e81aaf397c759.module.css" crossorigin="anonymous"><link rel="stylesheet" type="text/css" href="./Greedy_BFS_files/lazy-react-partial-global-create-menu.091342d12267a9316908.module.css" crossorigin="anonymous"><link rel="stylesheet" type="text/css" href="./Greedy_BFS_files/lazy-react-partial-global-user-nav-drawer.d4f749af87a00c38a832.module.css" crossorigin="anonymous"><style id="ms-consent-banner-main-styles">.w8hcgFksdo30C8w-bygqu{color:#000}.ydkKdaztSS0AeHWIeIHsQ a{color:#0067B8}.erL690_8JwUW-R4bJRcfl{background-color:#EBEBEB;border:none;color:#000}.erL690_8JwUW-R4bJRcfl:enabled:hover{color:#000;background-color:#DBDBDB;box-shadow:0px 4px 10px rgba(0,0,0,0.25);border:none}.erL690_8JwUW-R4bJRcfl:enabled:focus{background-color:#DBDBDB;box-shadow:0px 4px 10px rgba(0,0,0,0.25);border:2px solid #000}.erL690_8JwUW-R4bJRcfl:disabled{opacity:1;color:rgba(0,0,0,0.2);background-color:rgba(0,0,0,0.2);border:none}._1zNQOqxpBFSokeCLGi_hGr{border:none;background-color:#0067B8;color:#fff}._1zNQOqxpBFSokeCLGi_hGr:enabled:hover{color:#fff;background-color:#0067B8;box-shadow:0px 4px 10px rgba(0,0,0,0.25);border:none}._1zNQOqxpBFSokeCLGi_hGr:enabled:focus{background-color:#0067B8;box-shadow:0px 4px 10px rgba(0,0,0,0.25);border:2px solid #000}._1zNQOqxpBFSokeCLGi_hGr:disabled{opacity:1;color:rgba(0,0,0,0.2);background-color:rgba(0,120,215,0.2);border:none}._23tra1HsiiP6cT-Cka-ycB{position:relative;display:flex;z-index:9999;width:100%;background-color:#F2F2F2;justify-content:space-between;text-align:left}div[dir="rtl"]._23tra1HsiiP6cT-Cka-ycB{text-align:right}._1Upc2NjY8AlDn177YoVj0y{margin:0;padding-left:5%;padding-top:8px;padding-bottom:8px}div[dir="rtl"] ._1Upc2NjY8AlDn177YoVj0y{margin:0;padding:8px 5% 8px 0;float:none}._23tra1HsiiP6cT-Cka-ycB svg{fill:none;max-width:none;max-height:none}._1V_hlU-7jdtPiooHMu89BB{display:table-cell;padding:12px;width:24px;height:24px;font-family:Segoe UI, SegoeUI, Arial, sans-serif;font-style:normal;font-weight:normal;font-size:24px;line-height:0}.f6QKJD7fhSbnJLarTL-W-{display:table-cell;vertical-align:middle;padding:0;font-family:Segoe UI, SegoeUI, Arial, sans-serif;font-style:normal;font-weight:normal;font-size:13px;line-height:16px}.f6QKJD7fhSbnJLarTL-W- a{text-decoration:underline}._2j0fmugLb1FgYz6KPuB91w{display:inline-block;margin-left:5%;margin-right:5%;min-width:40%;min-width:calc((150px + 3 * 4px) * 2 + 150px);min-width:-webkit-fit-content;min-width:-moz-fit-content;min-width:fit-content;align-self:center;position:relative}._1XuCi2WhiqeWRUVp3pnFG3{margin:4px;padding:5px;min-width:150px;min-height:36px;vertical-align:top;cursor:pointer;font-family:Segoe UI, SegoeUI, Arial, sans-serif;font-style:normal;font-weight:normal;font-size:15px;line-height:20px;text-align:center}._1XuCi2WhiqeWRUVp3pnFG3:focus{box-sizing:border-box}._1XuCi2WhiqeWRUVp3pnFG3:disabled{cursor:not-allowed}._2bvsb3ubApyZ0UGoQA9O9T{display:block;position:fixed;z-index:10000;top:0;left:0;width:100%;height:100%;background-color:rgba(255,255,255,0.6);overflow:auto;text-align:left}div[dir="rtl"]._2bvsb3ubApyZ0UGoQA9O9T{text-align:right}div[dir="rtl"] ._2bvsb3ubApyZ0UGoQA9O9T{left:auto;right:0}.AFsJE948muYyzCMktdzuk{position:relative;top:8%;margin-bottom:40px;margin-left:auto;margin-right:auto;box-sizing:border-box;width:640px;background-color:#fff;border:1px solid #0067B8}._3kWyBRbW_dgnMiEyx06Fu4{float:right;z-index:1;margin:2px;padding:12px;border:none;cursor:pointer;font-family:Segoe UI, SegoeUI, Arial, sans-serif;font-style:normal;font-weight:normal;font-size:13px;line-height:13px;display:flex;align-items:center;text-align:center;color:#666;background-color:#fff}div[dir="rtl"] ._3kWyBRbW_dgnMiEyx06Fu4{margin:2px;padding:12px;float:left}.uCYvKvHXrhjNgflv1VqdD{position:static;margin-top:36px;margin-left:36px;margin-right:36px}._17pX1m9O_W--iZbDt3Ta5r{margin-top:0;margin-bottom:12px;font-family:Segoe UI, SegoeUI, Arial, sans-serif;font-style:normal;font-weight:600;font-size:20px;line-height:24px;text-transform:none}._1kBkHQ1V1wu3kl-YcLgUr6{height:446px;overflow:auto}._20_nXDf6uFs9Q6wxRXG-I-{margin-top:0;font-family:Segoe UI, SegoeUI, Arial, sans-serif;font-style:normal;font-weight:normal;font-size:15px;line-height:20px}._20_nXDf6uFs9Q6wxRXG-I- a{text-decoration:underline}dl._2a0NH_GDQEQe5Ynfo7suVH{margin-top:36px;margin-bottom:0;padding:0;list-style:none;text-transform:none}dt._3j_LCPv7fyXv3A8FIXVwZ4{margin-top:20px;float:none;font-family:Segoe UI, SegoeUI, Arial, sans-serif;font-style:normal;font-weight:600;font-size:18px;line-height:24px;list-style:none}.k-vxTGFbdq1aOZB2HHpjh{margin:0;padding:0;border:none}._2Bucyy75c_ogoU1g-liB5R{margin:0;padding:0;border-bottom:none;font-family:Segoe UI, SegoeUI, Arial, sans-serif;font-style:normal;font-weight:600;font-size:18px;line-height:24px;text-transform:none}._63gwfzV8dclrsl2cfd90r{display:inline-block;margin-top:0;margin-bottom:13px;font-family:Segoe UI, SegoeUI, Arial, sans-serif;font-style:normal;font-weight:normal;font-size:15px;line-height:20px}._1l8wM_4mRYGz3Iu7l3BZR7{display:block}._2UE03QS02aZGkslegN_F-i{display:inline-block;position:relative;left:5px;margin-bottom:13px;margin-right:34px;padding:3px}div[dir="rtl"] ._2UE03QS02aZGkslegN_F-i{margin:0 0 13px 34px;padding:3px;float:none}div[dir="rtl"] ._2UE03QS02aZGkslegN_F-i{left:auto;right:5px}._23tra1HsiiP6cT-Cka-ycB *::before,._2bvsb3ubApyZ0UGoQA9O9T *::before,._23tra1HsiiP6cT-Cka-ycB *::after,._2bvsb3ubApyZ0UGoQA9O9T *::after{box-sizing:inherit}._1HSFn0HzGo6w4ADApV8-c4{outline:2px solid rgba(0,0,0,0.8)}input[type="radio"]._1dp8Vp5m3HwAqGx8qBmFV2{display:inline-block;position:relative;margin-top:0;margin-left:0;margin-right:0;height:0;width:0;border-radius:0;cursor:pointer;outline:none;box-sizing:border-box;-webkit-appearance:none;-moz-appearance:none;appearance:none}input[type="radio"]._1dp8Vp5m3HwAqGx8qBmFV2+label::before{display:block;position:absolute;top:5px;left:3px;height:19px;width:19px;content:"";border-radius:50%;border:1px solid #000;background-color:#fff}div[dir="rtl"] input[type="radio"]._1dp8Vp5m3HwAqGx8qBmFV2+label::before{left:auto;right:3px}input[type="radio"]._1dp8Vp5m3HwAqGx8qBmFV2:not(:disabled)+label:hover::before{border:1px solid #0067B8}input[type="radio"]._1dp8Vp5m3HwAqGx8qBmFV2:not(:disabled)+label:hover::after{display:block;position:absolute;top:10px;left:8px;height:9px;width:9px;content:"";border-radius:50%;background-color:rgba(0,0,0,0.8)}div[dir="rtl"] input[type="radio"]._1dp8Vp5m3HwAqGx8qBmFV2:not(:disabled)+label:hover::after{left:auto;right:8px}input[type="radio"]._1dp8Vp5m3HwAqGx8qBmFV2:not(:disabled)+label:focus::before{border:1px solid #0067B8}input[type="radio"]._1dp8Vp5m3HwAqGx8qBmFV2:not(:disabled)+label:focus::after{display:block;position:absolute;top:10px;left:8px;height:9px;width:9px;content:"";border-radius:50%;background-color:#000}div[dir="rtl"] input[type="radio"]._1dp8Vp5m3HwAqGx8qBmFV2:not(:disabled)+label:focus::after{left:auto;right:8px}input[type="radio"]._1dp8Vp5m3HwAqGx8qBmFV2:checked+label::after{display:block;position:absolute;top:10px;left:8px;height:9px;width:9px;content:"";border-radius:50%;background-color:#000}div[dir="rtl"] input[type="radio"]._1dp8Vp5m3HwAqGx8qBmFV2:checked+label::after{left:auto;right:8px}input[type="radio"]._1dp8Vp5m3HwAqGx8qBmFV2:disabled+label{cursor:not-allowed}input[type="radio"]._1dp8Vp5m3HwAqGx8qBmFV2:disabled+label::before{border:1px solid rgba(0,0,0,0.2);background-color:rgba(0,0,0,0.2)}._3RJzeL3l9Rl_lAQEm6VwdX{display:block;position:static;float:right;margin-top:0;margin-bottom:0;margin-left:19px;margin-right:0;padding-top:0;padding-bottom:0;padding-left:8px;padding-right:0;width:80%;width:calc(100% - 19px);font-family:Segoe UI, SegoeUI, Arial, sans-serif;font-style:normal;font-weight:normal;font-size:15px;line-height:20px;text-transform:none;cursor:pointer;box-sizing:border-box}div[dir="rtl"] ._3RJzeL3l9Rl_lAQEm6VwdX{margin:0 19px 0 0;padding:0 8px 0 0;float:left}.nohp3sIG12ZBhzcMnPala{margin-top:20px;margin-bottom:48px}._2uhaEsmeotZ3P-M0AXo2kF{padding:0;width:278px;height:36px;cursor:pointer;font-family:Segoe UI, SegoeUI, Arial, sans-serif;font-style:normal;font-weight:normal;font-size:15px;line-height:20px;text-align:center}._2uhaEsmeotZ3P-M0AXo2kF:focus{box-sizing:border-box}._2uhaEsmeotZ3P-M0AXo2kF:disabled{cursor:not-allowed}._3tOu1FJ59c_xz_PmI1lKV5{float:right;padding:0;width:278px;height:36px;cursor:pointer;font-family:Segoe UI, SegoeUI, Arial, sans-serif;font-style:normal;font-weight:normal;font-size:15px;line-height:20px;text-align:center}._3tOu1FJ59c_xz_PmI1lKV5:focus{box-sizing:border-box}._3tOu1FJ59c_xz_PmI1lKV5:disabled{cursor:not-allowed}div[dir="rtl"] ._3tOu1FJ59c_xz_PmI1lKV5{margin:0;padding:0;float:left}@media only screen and (max-width: 768px){._2j0fmugLb1FgYz6KPuB91w,._1Upc2NjY8AlDn177YoVj0y{padding-top:8px;padding-bottom:12px;padding-left:3.75%;padding-right:3.75%;margin:0;width:92.5%}._23tra1HsiiP6cT-Cka-ycB{display:block}._1XuCi2WhiqeWRUVp3pnFG3{margin-bottom:8px;margin-left:0;margin-right:0;width:100%}._2bvsb3ubApyZ0UGoQA9O9T{overflow:hidden}.AFsJE948muYyzCMktdzuk{top:1.8%;width:93.33%;height:96.4%;overflow:hidden}.uCYvKvHXrhjNgflv1VqdD{margin-top:24px;margin-left:24px;margin-right:24px;height:100%}._1kBkHQ1V1wu3kl-YcLgUr6{height:62%;height:calc(100% - 188px);min-height:50%}._2uhaEsmeotZ3P-M0AXo2kF{width:100%}._3tOu1FJ59c_xz_PmI1lKV5{margin-bottom:12px;margin-left:0;width:100%}div[dir="rtl"] ._3tOu1FJ59c_xz_PmI1lKV5{margin:0 0 12px 0;padding:0;float:none}}@media only screen and (max-width: 768px) and (orientation: landscape), only screen and (max-height: 260px), only screen and (max-width: 340px){.AFsJE948muYyzCMktdzuk{overflow:auto}}@media only screen and (max-height: 260px), only screen and (max-width: 340px){._1XuCi2WhiqeWRUVp3pnFG3{min-width:0}._3kWyBRbW_dgnMiEyx06Fu4{padding:3%}.uCYvKvHXrhjNgflv1VqdD{margin-top:3%;margin-left:3%;margin-right:3%}._17pX1m9O_W--iZbDt3Ta5r{margin-bottom:3%}._1kBkHQ1V1wu3kl-YcLgUr6{height:calc(79% - 64px)}.nohp3sIG12ZBhzcMnPala{margin-top:5%;margin-bottom:10%}._3tOu1FJ59c_xz_PmI1lKV5{margin-bottom:3%}div[dir="rtl"] ._3tOu1FJ59c_xz_PmI1lKV5{margin:0 0 3% 0;padding:0;float:none}}
</style><style type="text/css" id="ms-consent-banner-theme-styles">._23tra1HsiiP6cT-Cka-ycB {
            background-color: #24292f !important;
        }.w8hcgFksdo30C8w-bygqu {
            color: #ffffff !important;
        }.ydkKdaztSS0AeHWIeIHsQ a {
            color: #d8b9ff !important;
        }._2bvsb3ubApyZ0UGoQA9O9T {
            background-color: rgba(23, 23, 23, 0.8) !important;
        }.AFsJE948muYyzCMktdzuk {
            background-color: #24292f !important;
            border: 1px solid #d8b9ff !important;
        }._3kWyBRbW_dgnMiEyx06Fu4 {
            color: #d8b9ff !important;
            background-color: #24292f !important;
        }._1zNQOqxpBFSokeCLGi_hGr {
            border: 1px solid #ffffff !important;
            background-color: #ffffff !important;
            color: #1f2328 !important;
        }._1zNQOqxpBFSokeCLGi_hGr:enabled:hover {
            color: #1f2328 !important;
            background-color: #d8b9ff !important;
            box-shadow: none !important;
            border: 1px solid transparent !important;
        }._1zNQOqxpBFSokeCLGi_hGr:enabled:focus {
            background-color: #d8b9ff !important;
            box-shadow: none !important;
            border: 2px solid #ffffff !important;
        }._1zNQOqxpBFSokeCLGi_hGr:disabled {
            opacity: 0.5 !important;
            color: #1f2328 !important;
            background-color: #ffffff !important;
            border: 1px solid transparent !important;
        }.erL690_8JwUW-R4bJRcfl {
            border: 1px solid #eaeef2 !important;
            background-color: #32383f !important;
            color: #ffffff !important;
        }.erL690_8JwUW-R4bJRcfl:enabled:hover {
            color: #ffffff !important;
            background-color: #24292f !important;
            box-shadow: none !important;
            border: 1px solid #ffffff !important;
        }.erL690_8JwUW-R4bJRcfl:enabled:focus {
            background-color: #24292f !important;
            box-shadow: none !important;
            border: 2px solid #6e7781 !important;
        }.erL690_8JwUW-R4bJRcfl:disabled {
            opacity: 0.5 !important;
            color: #ffffff !important;
            background-color: #424a53 !important;
            border: 1px solid #6e7781 !important;
        }input[type="radio"]._1dp8Vp5m3HwAqGx8qBmFV2 + label::before {
            border: 1px solid #d8b9ff !important;
            background-color: #24292f !important;
        }._1HSFn0HzGo6w4ADApV8-c4 {
            outline: 2px solid #ffffff !important;
        }input[type="radio"]._1dp8Vp5m3HwAqGx8qBmFV2:checked + label::after {
            background-color: #d8b9ff !important;
        }input[type="radio"]._1dp8Vp5m3HwAqGx8qBmFV2 + label:hover::before {
            border: 1px solid #ffffff !important;
        }input[type="radio"]._1dp8Vp5m3HwAqGx8qBmFV2 + label:hover::after {
            background-color: #ffffff !important;
        }input[type="radio"]._1dp8Vp5m3HwAqGx8qBmFV2 + label:focus::before {
            border: 1px solid #ffffff !important;
        }input[type="radio"]._1dp8Vp5m3HwAqGx8qBmFV2 + label:focus::after {
            background-color: #d8b9ff !important;
        }input[type="radio"]._1dp8Vp5m3HwAqGx8qBmFV2:disabled + label::before {
            border: 1px solid rgba(227, 227, 227, 0.2) !important;
            background-color: rgba(227, 227, 227, 0.2) !important;
        }</style><link rel="stylesheet" type="text/css" href="./Greedy_BFS_files/lazy-react-partial-copilot-chat.b9c6ea91ee9df8f32d5e.module.css" crossorigin="anonymous"></head>

  <body class="logged-in env-production page-responsive" style="overflow-wrap: break-word; --dialog-scrollgutter: 15px;">
    <div data-turbo-body="" class="logged-in env-production page-responsive" style="word-wrap: break-word;">
        <div id="__primerPortalRoot__" role="region" style="z-index: 1000; position: absolute; width: 100%;" data-turbo-permanent=""></div>
      



    <div class="position-relative header-wrapper js-header-wrapper ">
      <a href="https://github.com/aruntakhur/SitareUniversity/blob/main/GreedyBFS_AI_2025.ipynb#start-of-content" data-skip-target-assigned="false" class="p-3 color-bg-accent-emphasis color-fg-on-emphasis show-on-focus js-skip-to-content">Skip to content</a>

      <span data-view-component="true" class="progress-pjax-loader Progress position-fixed width-full">
    <span style="width: 0%;" data-view-component="true" class="Progress-item progress-pjax-loader-bar left-0 top-0 color-bg-accent-emphasis"></span>
</span>      
      
      <link crossorigin="anonymous" media="all" rel="stylesheet" href="./Greedy_BFS_files/primer-react.bde96664bd5edb566a4a.module.css">
<link crossorigin="anonymous" media="all" rel="stylesheet" href="./Greedy_BFS_files/keyboard-shortcuts-dialog.2de9c7d6456a311fce49.module.css">

<react-partial partial-name="keyboard-shortcuts-dialog" data-ssr="false" data-attempted-ssr="false" data-react-profiling="false" data-catalyst="" class="loaded">
  
  <script type="application/json" data-target="react-partial.embeddedData">{"props":{"docsUrl":"https://docs.github.com/get-started/accessibility/keyboard-shortcuts"}}</script>
  <div data-target="react-partial.reactRoot"><div class="d-none"></div><script type="application/json" id="__PRIMER_DATA_:rv:__">{"resolvedServerColorMode":"day"}</script></div>
</react-partial>





      

          

              <header class="AppHeader" role="banner">
  <h2 class="sr-only">Navigation Menu</h2>


    

    <div class="AppHeader-globalBar pb-2 js-global-bar">
      <div class="AppHeader-globalBar-start responsive-context-region">
        <div class="">
              <deferred-side-panel data-url="/_side-panels/global" data-catalyst="">
  <include-fragment data-target="deferred-side-panel.fragment" data-nonce="v2:e7f6bdf8-2a57-f824-f9e5-207a88b937e4" data-view-component="true"><template shadowrootmode="open"><style>:host {display: block;}</style><slot></slot></template>
  
          <button aria-label="Open global navigation menu" data-action="click:deferred-side-panel#loadPanel click:deferred-side-panel#panelOpened" data-show-dialog-id="dialog-d77682a2-86f7-433e-a0a2-211ccc7964b8" id="dialog-show-dialog-d77682a2-86f7-433e-a0a2-211ccc7964b8" type="button" data-view-component="true" class="Button Button--iconOnly Button--secondary Button--medium AppHeader-button p-0 color-fg-muted">  <svg aria-hidden="true" height="16" viewBox="0 0 16 16" version="1.1" width="16" data-view-component="true" class="octicon octicon-three-bars Button-visual">
    <path d="M1 2.75A.75.75 0 0 1 1.75 2h12.5a.75.75 0 0 1 0 1.5H1.75A.75.75 0 0 1 1 2.75Zm0 5A.75.75 0 0 1 1.75 7h12.5a.75.75 0 0 1 0 1.5H1.75A.75.75 0 0 1 1 7.75ZM1.75 12h12.5a.75.75 0 0 1 0 1.5H1.75a.75.75 0 0 1 0-1.5Z"></path>
</svg>
</button>

<dialog-helper>
  <dialog data-target="deferred-side-panel.panel" id="dialog-d77682a2-86f7-433e-a0a2-211ccc7964b8" aria-modal="true" aria-labelledby="dialog-d77682a2-86f7-433e-a0a2-211ccc7964b8-title" aria-describedby="dialog-d77682a2-86f7-433e-a0a2-211ccc7964b8-description" data-view-component="true" class="Overlay Overlay-whenNarrow Overlay--size-small-portrait Overlay--motion-scaleFade Overlay--placement-left SidePanel Overlay--disableScroll">
    <div styles="flex-direction: row;" data-view-component="true" class="Overlay-header">
  <div class="Overlay-headerContentWrap">
    <div class="Overlay-titleWrap">
      <h1 class="Overlay-title sr-only" id="dialog-d77682a2-86f7-433e-a0a2-211ccc7964b8-title">
        Global navigation
      </h1>
            <div data-view-component="true" class="d-flex">
      <div data-view-component="true" class="AppHeader-logo position-relative">
        <svg aria-hidden="true" height="24" viewBox="0 0 24 24" version="1.1" width="24" data-view-component="true" class="octicon octicon-mark-github">
    <path d="M12 1C5.923 1 1 5.923 1 12c0 4.867 3.149 8.979 7.521 10.436.55.096.756-.233.756-.522 0-.262-.013-1.128-.013-2.049-2.764.509-3.479-.674-3.699-1.292-.124-.317-.66-1.293-1.127-1.554-.385-.207-.936-.715-.014-.729.866-.014 1.485.797 1.691 1.128.99 1.663 2.571 1.196 3.204.907.096-.715.385-1.196.701-1.471-2.448-.275-5.005-1.224-5.005-5.432 0-1.196.426-2.186 1.128-2.956-.111-.275-.496-1.402.11-2.915 0 0 .921-.288 3.024 1.128a10.193 10.193 0 0 1 2.75-.371c.936 0 1.871.123 2.75.371 2.104-1.43 3.025-1.128 3.025-1.128.605 1.513.221 2.64.111 2.915.701.77 1.127 1.747 1.127 2.956 0 4.222-2.571 5.157-5.019 5.432.399.344.743 1.004.743 2.035 0 1.471-.014 2.654-.014 3.025 0 .289.206.632.756.522C19.851 20.979 23 16.854 23 12c0-6.077-4.922-11-11-11Z"></path>
</svg>
</div></div>
    </div>
    <div class="Overlay-actionWrap">
      <button data-close-dialog-id="dialog-d77682a2-86f7-433e-a0a2-211ccc7964b8" aria-label="Close" type="button" data-view-component="true" class="close-button Overlay-closeButton"><svg aria-hidden="true" height="16" viewBox="0 0 16 16" version="1.1" width="16" data-view-component="true" class="octicon octicon-x">
    <path d="M3.72 3.72a.75.75 0 0 1 1.06 0L8 6.94l3.22-3.22a.749.749 0 0 1 1.275.326.749.749 0 0 1-.215.734L9.06 8l3.22 3.22a.749.749 0 0 1-.326 1.275.749.749 0 0 1-.734-.215L8 9.06l-3.22 3.22a.751.751 0 0 1-1.042-.018.751.751 0 0 1-.018-1.042L6.94 8 3.72 4.78a.75.75 0 0 1 0-1.06Z"></path>
</svg></button>
    </div>
  </div>
  
</div>
      <scrollable-region data-labelled-by="dialog-d77682a2-86f7-433e-a0a2-211ccc7964b8-title" data-catalyst="" style="overflow: auto;">
        <div data-view-component="true" class="Overlay-body d-flex flex-column px-2">    <div data-view-component="true" class="d-flex flex-column mb-3">
        <nav aria-label="Site navigation" data-view-component="true" class="ActionList">
  
  <nav-list data-catalyst="">
    <ul data-target="nav-list.topLevelList" data-view-component="true" class="ActionListWrap">
        
          
<li data-item-id="" data-targets="nav-list.items" data-view-component="true" class="ActionListItem">
    
    
    <a data-hotkey="g d" data-analytics-event="{&quot;category&quot;:&quot;Global navigation&quot;,&quot;action&quot;:&quot;HOME&quot;,&quot;label&quot;:null}" id="item-1c8ca06d-ffa8-4354-a7aa-12f5aa79dee5" href="https://github.com/dashboard" data-view-component="true" class="ActionListContent ActionListContent--visual16">
        <span class="ActionListItem-visual ActionListItem-visual--leading">
          <svg aria-hidden="true" height="16" viewBox="0 0 16 16" version="1.1" width="16" data-view-component="true" class="octicon octicon-home">
    <path d="M6.906.664a1.749 1.749 0 0 1 2.187 0l5.25 4.2c.415.332.657.835.657 1.367v7.019A1.75 1.75 0 0 1 13.25 15h-3.5a.75.75 0 0 1-.75-.75V9H7v5.25a.75.75 0 0 1-.75.75h-3.5A1.75 1.75 0 0 1 1 13.25V6.23c0-.531.242-1.034.657-1.366l5.25-4.2Zm1.25 1.171a.25.25 0 0 0-.312 0l-5.25 4.2a.25.25 0 0 0-.094.196v7.019c0 .138.112.25.25.25H5.5V8.25a.75.75 0 0 1 .75-.75h3.5a.75.75 0 0 1 .75.75v5.25h2.75a.25.25 0 0 0 .25-.25V6.23a.25.25 0 0 0-.094-.195Z"></path>
</svg>
        </span>
      
        <span data-view-component="true" class="ActionListItem-label">
          Home
</span>      
</a>
  
</li>

        
          
<li data-item-id="" data-targets="nav-list.items" data-view-component="true" class="ActionListItem">
    
    
    <a data-hotkey="g i" data-analytics-event="{&quot;category&quot;:&quot;Global navigation&quot;,&quot;action&quot;:&quot;ISSUES&quot;,&quot;label&quot;:null}" id="item-cf25279d-1eed-45e5-a458-c01cae911ede" href="https://github.com/issues" data-view-component="true" class="ActionListContent ActionListContent--visual16">
        <span class="ActionListItem-visual ActionListItem-visual--leading">
          <svg aria-hidden="true" height="16" viewBox="0 0 16 16" version="1.1" width="16" data-view-component="true" class="octicon octicon-issue-opened">
    <path d="M8 9.5a1.5 1.5 0 1 0 0-3 1.5 1.5 0 0 0 0 3Z"></path><path d="M8 0a8 8 0 1 1 0 16A8 8 0 0 1 8 0ZM1.5 8a6.5 6.5 0 1 0 13 0 6.5 6.5 0 0 0-13 0Z"></path>
</svg>
        </span>
      
        <span data-view-component="true" class="ActionListItem-label">
          Issues
</span>      
</a>
  
</li>

        
          
<li data-item-id="" data-targets="nav-list.items" data-view-component="true" class="ActionListItem">
    
    
    <a data-hotkey="g p" data-analytics-event="{&quot;category&quot;:&quot;Global navigation&quot;,&quot;action&quot;:&quot;PULL_REQUESTS&quot;,&quot;label&quot;:null}" id="item-38bc9b50-6034-4bfd-b3be-027b40c2c614" href="https://github.com/pulls" data-view-component="true" class="ActionListContent ActionListContent--visual16">
        <span class="ActionListItem-visual ActionListItem-visual--leading">
          <svg aria-hidden="true" height="16" viewBox="0 0 16 16" version="1.1" width="16" data-view-component="true" class="octicon octicon-git-pull-request">
    <path d="M1.5 3.25a2.25 2.25 0 1 1 3 2.122v5.256a2.251 2.251 0 1 1-1.5 0V5.372A2.25 2.25 0 0 1 1.5 3.25Zm5.677-.177L9.573.677A.25.25 0 0 1 10 .854V2.5h1A2.5 2.5 0 0 1 13.5 5v5.628a2.251 2.251 0 1 1-1.5 0V5a1 1 0 0 0-1-1h-1v1.646a.25.25 0 0 1-.427.177L7.177 3.427a.25.25 0 0 1 0-.354ZM3.75 2.5a.75.75 0 1 0 0 1.5.75.75 0 0 0 0-1.5Zm0 9.5a.75.75 0 1 0 0 1.5.75.75 0 0 0 0-1.5Zm8.25.75a.75.75 0 1 0 1.5 0 .75.75 0 0 0-1.5 0Z"></path>
</svg>
        </span>
      
        <span data-view-component="true" class="ActionListItem-label">
          Pull requests
</span>      
</a>
  
</li>

        
          
<li data-item-id="" data-targets="nav-list.items" data-view-component="true" class="ActionListItem">
    
    
    <a data-analytics-event="{&quot;category&quot;:&quot;Global navigation&quot;,&quot;action&quot;:&quot;PROJECTS&quot;,&quot;label&quot;:null}" id="item-7c7089b9-1281-43fc-8e74-e462ec9c7052" href="https://github.com/projects" data-view-component="true" class="ActionListContent ActionListContent--visual16">
        <span class="ActionListItem-visual ActionListItem-visual--leading">
          <svg aria-hidden="true" height="16" viewBox="0 0 16 16" version="1.1" width="16" data-view-component="true" class="octicon octicon-table">
    <path d="M0 1.75C0 .784.784 0 1.75 0h12.5C15.216 0 16 .784 16 1.75v12.5A1.75 1.75 0 0 1 14.25 16H1.75A1.75 1.75 0 0 1 0 14.25ZM6.5 6.5v8h7.75a.25.25 0 0 0 .25-.25V6.5Zm8-1.5V1.75a.25.25 0 0 0-.25-.25H6.5V5Zm-13 1.5v7.75c0 .138.112.25.25.25H5v-8ZM5 5V1.5H1.75a.25.25 0 0 0-.25.25V5Z"></path>
</svg>
        </span>
      
        <span data-view-component="true" class="ActionListItem-label">
          Projects
</span>      
</a>
  
</li>

        
          
<li data-item-id="" data-targets="nav-list.items" data-view-component="true" class="ActionListItem">
    
    
    <a data-analytics-event="{&quot;category&quot;:&quot;Global navigation&quot;,&quot;action&quot;:&quot;DISCUSSIONS&quot;,&quot;label&quot;:null}" id="item-21b2accb-251d-4ffc-8eab-9e3542438038" href="https://github.com/discussions" data-view-component="true" class="ActionListContent ActionListContent--visual16">
        <span class="ActionListItem-visual ActionListItem-visual--leading">
          <svg aria-hidden="true" height="16" viewBox="0 0 16 16" version="1.1" width="16" data-view-component="true" class="octicon octicon-comment-discussion">
    <path d="M1.75 1h8.5c.966 0 1.75.784 1.75 1.75v5.5A1.75 1.75 0 0 1 10.25 10H7.061l-2.574 2.573A1.458 1.458 0 0 1 2 11.543V10h-.25A1.75 1.75 0 0 1 0 8.25v-5.5C0 1.784.784 1 1.75 1ZM1.5 2.75v5.5c0 .138.112.25.25.25h1a.75.75 0 0 1 .75.75v2.19l2.72-2.72a.749.749 0 0 1 .53-.22h3.5a.25.25 0 0 0 .25-.25v-5.5a.25.25 0 0 0-.25-.25h-8.5a.25.25 0 0 0-.25.25Zm13 2a.25.25 0 0 0-.25-.25h-.5a.75.75 0 0 1 0-1.5h.5c.966 0 1.75.784 1.75 1.75v5.5A1.75 1.75 0 0 1 14.25 12H14v1.543a1.458 1.458 0 0 1-2.487 1.03L9.22 12.28a.749.749 0 0 1 .326-1.275.749.749 0 0 1 .734.215l2.22 2.22v-2.19a.75.75 0 0 1 .75-.75h1a.25.25 0 0 0 .25-.25Z"></path>
</svg>
        </span>
      
        <span data-view-component="true" class="ActionListItem-label">
          Discussions
</span>      
</a>
  
</li>

        
          
<li data-item-id="" data-targets="nav-list.items" data-view-component="true" class="ActionListItem">
    
    
    <a data-analytics-event="{&quot;category&quot;:&quot;Global navigation&quot;,&quot;action&quot;:&quot;CODESPACES&quot;,&quot;label&quot;:null}" id="item-4951d505-4d8f-4bb3-95f6-eaeb2db2e45c" href="https://github.com/codespaces" data-view-component="true" class="ActionListContent ActionListContent--visual16">
        <span class="ActionListItem-visual ActionListItem-visual--leading">
          <svg aria-hidden="true" height="16" viewBox="0 0 16 16" version="1.1" width="16" data-view-component="true" class="octicon octicon-codespaces">
    <path d="M0 11.25c0-.966.784-1.75 1.75-1.75h12.5c.966 0 1.75.784 1.75 1.75v3A1.75 1.75 0 0 1 14.25 16H1.75A1.75 1.75 0 0 1 0 14.25Zm2-9.5C2 .784 2.784 0 3.75 0h8.5C13.216 0 14 .784 14 1.75v5a1.75 1.75 0 0 1-1.75 1.75h-8.5A1.75 1.75 0 0 1 2 6.75Zm1.75-.25a.25.25 0 0 0-.25.25v5c0 .138.112.25.25.25h8.5a.25.25 0 0 0 .25-.25v-5a.25.25 0 0 0-.25-.25Zm-2 9.5a.25.25 0 0 0-.25.25v3c0 .138.112.25.25.25h12.5a.25.25 0 0 0 .25-.25v-3a.25.25 0 0 0-.25-.25Z"></path><path d="M7 12.75a.75.75 0 0 1 .75-.75h4.5a.75.75 0 0 1 0 1.5h-4.5a.75.75 0 0 1-.75-.75Zm-4 0a.75.75 0 0 1 .75-.75h.5a.75.75 0 0 1 0 1.5h-.5a.75.75 0 0 1-.75-.75Z"></path>
</svg>
        </span>
      
        <span data-view-component="true" class="ActionListItem-label">
          Codespaces
</span>      
</a>
  
</li>

        
          <li role="presentation" aria-hidden="true" data-view-component="true" class="ActionList-sectionDivider hide-whenRegular"></li>
        
          
<li data-item-id="" data-targets="nav-list.items" data-view-component="true" class="ActionListItem">
    
    
    <a data-analytics-event="{&quot;category&quot;:&quot;Global navigation&quot;,&quot;action&quot;:&quot;COPILOT&quot;,&quot;label&quot;:null}" id="item-0ea2a6d9-dbb5-43a8-855b-ab7a8f5a4be0" href="https://github.com/copilot" data-view-component="true" class="ActionListContent ActionListContent--visual16">
        <span class="ActionListItem-visual ActionListItem-visual--leading">
          <svg aria-hidden="true" height="16" viewBox="0 0 16 16" version="1.1" width="16" data-view-component="true" class="octicon octicon-copilot">
    <path d="M7.998 15.035c-4.562 0-7.873-2.914-7.998-3.749V9.338c.085-.628.677-1.686 1.588-2.065.013-.07.024-.143.036-.218.029-.183.06-.384.126-.612-.201-.508-.254-1.084-.254-1.656 0-.87.128-1.769.693-2.484.579-.733 1.494-1.124 2.724-1.261 1.206-.134 2.262.034 2.944.765.05.053.096.108.139.165.044-.057.094-.112.143-.165.682-.731 1.738-.899 2.944-.765 1.23.137 2.145.528 2.724 1.261.566.715.693 1.614.693 2.484 0 .572-.053 1.148-.254 1.656.066.228.098.429.126.612.012.076.024.148.037.218.924.385 1.522 1.471 1.591 2.095v1.872c0 .766-3.351 3.795-8.002 3.795Zm0-1.485c2.28 0 4.584-1.11 5.002-1.433V7.862l-.023-.116c-.49.21-1.075.291-1.727.291-1.146 0-2.059-.327-2.71-.991A3.222 3.222 0 0 1 8 6.303a3.24 3.24 0 0 1-.544.743c-.65.664-1.563.991-2.71.991-.652 0-1.236-.081-1.727-.291l-.023.116v4.255c.419.323 2.722 1.433 5.002 1.433ZM6.762 2.83c-.193-.206-.637-.413-1.682-.297-1.019.113-1.479.404-1.713.7-.247.312-.369.789-.369 1.554 0 .793.129 1.171.308 1.371.162.181.519.379 1.442.379.853 0 1.339-.235 1.638-.54.315-.322.527-.827.617-1.553.117-.935-.037-1.395-.241-1.614Zm4.155-.297c-1.044-.116-1.488.091-1.681.297-.204.219-.359.679-.242 1.614.091.726.303 1.231.618 1.553.299.305.784.54 1.638.54.922 0 1.28-.198 1.442-.379.179-.2.308-.578.308-1.371 0-.765-.123-1.242-.37-1.554-.233-.296-.693-.587-1.713-.7Z"></path><path d="M6.25 9.037a.75.75 0 0 1 .75.75v1.501a.75.75 0 0 1-1.5 0V9.787a.75.75 0 0 1 .75-.75Zm4.25.75v1.501a.75.75 0 0 1-1.5 0V9.787a.75.75 0 0 1 1.5 0Z"></path>
</svg>
        </span>
      
        <span data-view-component="true" class="ActionListItem-label">
          Copilot
</span>      
</a>
  
</li>

        
          
<li data-item-id="" data-targets="nav-list.items" data-view-component="true" class="ActionListItem hide-whenRegular">
    
    
    <a id="item-b8177bdf-d6ad-4fc9-a128-012c21f204a7" href="https://github.com/copilot/spaces" data-view-component="true" class="ActionListContent ActionListContent--visual16">
        <span class="ActionListItem-visual ActionListItem-visual--leading">
          <svg aria-hidden="true" height="16" viewBox="0 0 16 16" version="1.1" width="16" data-view-component="true" class="octicon octicon-space">
    <path d="M0 13.25V2.75C0 1.784.784 1 1.75 1H5c.551 0 1.07.26 1.4.7l.9 1.2a.25.25 0 0 0 .2.1h6.75c.966 0 1.75.784 1.75 1.75v3.638a.75.75 0 0 1-1.5 0V4.75a.25.25 0 0 0-.25-.25H7.5a1.75 1.75 0 0 1-1.4-.7l-.9-1.2a.25.25 0 0 0-.2-.1H1.75a.25.25 0 0 0-.25.25v10.5c0 .138.112.25.25.25h5.663l.076.004a.75.75 0 0 1 0 1.492L7.413 15H1.75A1.75 1.75 0 0 1 0 13.25Z"></path><path d="M12.265 9.16a.248.248 0 0 1 .467 0l.237.649a3.726 3.726 0 0 0 2.219 2.218l.649.238a.249.249 0 0 1 0 .467l-.649.237a3.728 3.728 0 0 0-2.219 2.219l-.237.649a.249.249 0 0 1-.467 0l-.238-.649a3.726 3.726 0 0 0-2.218-2.219l-.649-.237a.248.248 0 0 1 0-.467l.649-.238a3.725 3.725 0 0 0 2.218-2.218l.238-.649Z"></path>
</svg>
        </span>
      
        <span data-view-component="true" class="ActionListItem-label">
          Spaces
</span>      
</a>
  
</li>

        
          
<li data-item-id="" data-targets="nav-list.items" data-view-component="true" class="ActionListItem ActionListItem--hasSubItem hide-whenRegular">
    
    
    <button id="item-55ec21e9-da7f-46c7-9164-37fd45b07a20" type="button" aria-expanded="false" data-action="
            click:nav-list#handleItemWithSubItemClick
            keydown:nav-list#handleItemWithSubItemKeydown
          " data-view-component="true" class="ActionListContent ActionListContent--visual16">
        <span class="ActionListItem-visual ActionListItem-visual--leading">
          <svg aria-hidden="true" height="16" viewBox="0 0 16 16" version="1.1" width="16" data-view-component="true" class="octicon octicon-download">
    <path d="M2.75 14A1.75 1.75 0 0 1 1 12.25v-2.5a.75.75 0 0 1 1.5 0v2.5c0 .138.112.25.25.25h10.5a.25.25 0 0 0 .25-.25v-2.5a.75.75 0 0 1 1.5 0v2.5A1.75 1.75 0 0 1 13.25 14Z"></path><path d="M7.25 7.689V2a.75.75 0 0 1 1.5 0v5.689l1.97-1.969a.749.749 0 1 1 1.06 1.06l-3.25 3.25a.749.749 0 0 1-1.06 0L4.22 6.78a.749.749 0 1 1 1.06-1.06l1.97 1.969Z"></path>
</svg>
        </span>
      
        <span data-view-component="true" class="ActionListItem-label">
          Download Copilot
</span>      
        <span class="ActionListItem-visual ActionListItem-action--trailing">
          <svg aria-hidden="true" height="16" viewBox="0 0 16 16" version="1.1" width="16" data-view-component="true" class="octicon octicon-chevron-down ActionListItem-collapseIcon">
    <path d="M12.78 5.22a.749.749 0 0 1 0 1.06l-4.25 4.25a.749.749 0 0 1-1.06 0L3.22 6.28a.749.749 0 1 1 1.06-1.06L8 8.939l3.72-3.719a.749.749 0 0 1 1.06 0Z"></path>
</svg>
        </span>
</button>
        <ul role="list" data-action="keydown:nav-list#handleItemWithSubItemKeydown" aria-labelledby="item-55ec21e9-da7f-46c7-9164-37fd45b07a20" data-view-component="true" class="ActionList ActionList--subGroup">
          
<li data-item-id="" data-targets="nav-list.items" data-view-component="true" class="ActionListItem--subItem ActionListItem">
    
    
    <a id="item-4b2517e3-78dc-4538-82c1-3a08c81a2f19" href="https://marketplace.visualstudio.com/items?itemName=GitHub.copilot" data-view-component="true" class="ActionListContent">
      
        <span data-view-component="true" class="ActionListItem-label">
          Visual Studio Code
</span>      
</a>
  
</li>

          
<li data-item-id="" data-targets="nav-list.items" data-view-component="true" class="ActionListItem--subItem ActionListItem">
    
    
    <a id="item-f28b6c80-0ac1-4bab-ab72-cc03ed0bd76b" href="https://visualstudio.microsoft.com/github-copilot/" data-view-component="true" class="ActionListContent">
      
        <span data-view-component="true" class="ActionListItem-label">
          Visual Studio
</span>      
</a>
  
</li>

          
<li data-item-id="" data-targets="nav-list.items" data-view-component="true" class="ActionListItem--subItem ActionListItem">
    
    
    <a id="item-97db6ee3-4a40-4085-b9f0-dd6b310f44e5" href="https://github.com/github/CopilotForXcode" data-view-component="true" class="ActionListContent">
      
        <span data-view-component="true" class="ActionListItem-label">
          Xcode
</span>      
</a>
  
</li>

          
<li data-item-id="" data-targets="nav-list.items" data-view-component="true" class="ActionListItem--subItem ActionListItem">
    
    
    <a id="item-1204a271-3ce2-4f4f-bba9-48f3cecf9e06" href="https://plugins.jetbrains.com/plugin/17718-github-copilot" data-view-component="true" class="ActionListContent">
      
        <span data-view-component="true" class="ActionListItem-label">
          JetBrains
</span>      
</a>
  
</li>

          
<li data-item-id="" data-targets="nav-list.items" data-view-component="true" class="ActionListItem--subItem ActionListItem">
    
    
    <a id="item-e6b1c369-a93b-4af6-b5be-0993cb336443" href="https://github.com/github/copilot.vim" data-view-component="true" class="ActionListContent">
      
        <span data-view-component="true" class="ActionListItem-label">
          Neovim
</span>      
</a>
  
</li>

          
<li data-item-id="" data-targets="nav-list.items" data-view-component="true" class="ActionListItem--subItem ActionListItem">
    
    
    <a id="item-3602c3dc-852f-4ea4-a42d-4bc34c8739b5" href="https://docs.github.com/en/copilot/how-tos/set-up/installing-github-copilot-in-the-cli" data-view-component="true" class="ActionListContent">
      
        <span data-view-component="true" class="ActionListItem-label">
          CLI
</span>      
</a>
  
</li>

</ul>
</li>

        
          <li role="presentation" aria-hidden="true" data-view-component="true" class="ActionList-sectionDivider"></li>
        
          
<li data-item-id="" data-targets="nav-list.items" data-view-component="true" class="ActionListItem">
    
    
    <a data-analytics-event="{&quot;category&quot;:&quot;Global navigation&quot;,&quot;action&quot;:&quot;EXPLORE&quot;,&quot;label&quot;:null}" id="item-2149a202-50f8-434f-9674-5c5f9372c4d4" href="https://github.com/explore" data-view-component="true" class="ActionListContent ActionListContent--visual16">
        <span class="ActionListItem-visual ActionListItem-visual--leading">
          <svg aria-hidden="true" height="16" viewBox="0 0 16 16" version="1.1" width="16" data-view-component="true" class="octicon octicon-telescope">
    <path d="M14.184 1.143v-.001l1.422 2.464a1.75 1.75 0 0 1-.757 2.451L3.104 11.713a1.75 1.75 0 0 1-2.275-.702l-.447-.775a1.75 1.75 0 0 1 .53-2.32L11.682.573a1.748 1.748 0 0 1 2.502.57Zm-4.709 9.32h-.001l2.644 3.863a.75.75 0 1 1-1.238.848l-1.881-2.75v2.826a.75.75 0 0 1-1.5 0v-2.826l-1.881 2.75a.75.75 0 1 1-1.238-.848l2.049-2.992a.746.746 0 0 1 .293-.253l1.809-.87a.749.749 0 0 1 .944.252ZM9.436 3.92h-.001l-4.97 3.39.942 1.63 5.42-2.61Zm3.091-2.108h.001l-1.85 1.26 1.505 2.605 2.016-.97a.247.247 0 0 0 .13-.151.247.247 0 0 0-.022-.199l-1.422-2.464a.253.253 0 0 0-.161-.119.254.254 0 0 0-.197.038ZM1.756 9.157a.25.25 0 0 0-.075.33l.447.775a.25.25 0 0 0 .325.1l1.598-.769-.83-1.436-1.465 1Z"></path>
</svg>
        </span>
      
        <span data-view-component="true" class="ActionListItem-label">
          Explore
</span>      
</a>
  
</li>

        
          
<li data-item-id="" data-targets="nav-list.items" data-view-component="true" class="ActionListItem">
    
    
    <a data-analytics-event="{&quot;category&quot;:&quot;Global navigation&quot;,&quot;action&quot;:&quot;MARKETPLACE&quot;,&quot;label&quot;:null}" id="item-76ffa0e2-392f-4eeb-9b06-53460618bcb6" href="https://github.com/marketplace" data-view-component="true" class="ActionListContent ActionListContent--visual16">
        <span class="ActionListItem-visual ActionListItem-visual--leading">
          <svg aria-hidden="true" height="16" viewBox="0 0 16 16" version="1.1" width="16" data-view-component="true" class="octicon octicon-gift">
    <path d="M2 2.75A2.75 2.75 0 0 1 4.75 0c.983 0 1.873.42 2.57 1.232.268.318.497.668.68 1.042.183-.375.411-.725.68-1.044C9.376.42 10.266 0 11.25 0a2.75 2.75 0 0 1 2.45 4h.55c.966 0 1.75.784 1.75 1.75v2c0 .698-.409 1.301-1 1.582v4.918A1.75 1.75 0 0 1 13.25 16H2.75A1.75 1.75 0 0 1 1 14.25V9.332C.409 9.05 0 8.448 0 7.75v-2C0 4.784.784 4 1.75 4h.55c-.192-.375-.3-.8-.3-1.25ZM7.25 9.5H2.5v4.75c0 .138.112.25.25.25h4.5Zm1.5 0v5h4.5a.25.25 0 0 0 .25-.25V9.5Zm0-4V8h5.5a.25.25 0 0 0 .25-.25v-2a.25.25 0 0 0-.25-.25Zm-7 0a.25.25 0 0 0-.25.25v2c0 .138.112.25.25.25h5.5V5.5h-5.5Zm3-4a1.25 1.25 0 0 0 0 2.5h2.309c-.233-.818-.542-1.401-.878-1.793-.43-.502-.915-.707-1.431-.707ZM8.941 4h2.309a1.25 1.25 0 0 0 0-2.5c-.516 0-1 .205-1.43.707-.337.392-.646.975-.879 1.793Z"></path>
</svg>
        </span>
      
        <span data-view-component="true" class="ActionListItem-label">
          Marketplace
</span>      
</a>
  
</li>

</ul>  </nav-list>
</nav>

        <div data-view-component="true" class="my-3 d-flex flex-justify-center height-full">
          <span data-view-component="true">
  <svg style="box-sizing: content-box; color: var(--color-icon-primary);" width="16" height="16" viewBox="0 0 16 16" fill="none" aria-hidden="true" data-view-component="true" class="anim-rotate">
    <circle cx="8" cy="8" r="7" stroke="currentColor" stroke-opacity="0.25" stroke-width="2" vector-effect="non-scaling-stroke" fill="none"></circle>
    <path d="M15 8a7.002 7.002 0 00-7-7" stroke="currentColor" stroke-width="2" stroke-linecap="round" vector-effect="non-scaling-stroke"></path>
</svg>    <span class="sr-only">Loading</span>
</span>
</div>
</div>
      <div data-view-component="true" class="flex-1"></div>


      <div data-view-component="true" class="px-2">          <p class="color-fg-subtle text-small text-light">© 2025 GitHub, Inc.</p>

          <div data-view-component="true" class="d-flex flex-wrap text-small text-light">
              <a target="_blank" href="https://github.com/about" data-view-component="true" class="Link mr-2">About</a>
              <a target="_blank" href="https://github.blog/" data-view-component="true" class="Link mr-2">Blog</a>
              <a target="_blank" href="https://docs.github.com/site-policy/github-terms/github-terms-of-service" data-view-component="true" class="Link mr-2">Terms</a>
              <a target="_blank" href="https://docs.github.com/site-policy/privacy-policies/github-privacy-statement" data-view-component="true" class="Link mr-2">Privacy</a>
              <a target="_blank" href="https://github.com/security" data-view-component="true" class="Link mr-2">Security</a>
              <a target="_blank" href="https://www.githubstatus.com/" data-view-component="true" class="Link mr-3">Status</a>

</div></div>
</div>
      </scrollable-region>
      
</dialog></dialog-helper>


  <div data-show-on-forbidden-error="" hidden="">
    <div class="Box">
  <div class="blankslate-container">
    <div data-view-component="true" class="blankslate blankslate-spacious color-bg-default rounded-2">
      

      <h3 data-view-component="true" class="blankslate-heading">        Uh oh!
</h3>
      <p data-view-component="true">        </p><p class="color-fg-muted my-2 mb-2 ws-normal">There was an error while loading. <a class="Link--inTextBlock" data-turbo="false" href="https://github.com/aruntakhur/SitareUniversity/blob/main/GreedyBFS_AI_2025.ipynb" aria-label="Please reload this page">Please reload this page</a>.</p>
<p></p>

</div>  </div>
</div>  </div>
</include-fragment></deferred-side-panel>
        </div>

        <a class="AppHeader-logo ml-1 " href="https://github.com/" data-hotkey="g d" aria-label="Homepage " data-turbo="false" data-analytics-event="{&quot;category&quot;:&quot;Header&quot;,&quot;action&quot;:&quot;go to dashboard&quot;,&quot;label&quot;:&quot;icon:logo&quot;}">
          <svg height="32" aria-hidden="true" viewBox="0 0 24 24" version="1.1" width="32" data-view-component="true" class="octicon octicon-mark-github v-align-middle">
    <path d="M12 1C5.923 1 1 5.923 1 12c0 4.867 3.149 8.979 7.521 10.436.55.096.756-.233.756-.522 0-.262-.013-1.128-.013-2.049-2.764.509-3.479-.674-3.699-1.292-.124-.317-.66-1.293-1.127-1.554-.385-.207-.936-.715-.014-.729.866-.014 1.485.797 1.691 1.128.99 1.663 2.571 1.196 3.204.907.096-.715.385-1.196.701-1.471-2.448-.275-5.005-1.224-5.005-5.432 0-1.196.426-2.186 1.128-2.956-.111-.275-.496-1.402.11-2.915 0 0 .921-.288 3.024 1.128a10.193 10.193 0 0 1 2.75-.371c.936 0 1.871.123 2.75.371 2.104-1.43 3.025-1.128 3.025-1.128.605 1.513.221 2.64.111 2.915.701.77 1.127 1.747 1.127 2.956 0 4.222-2.571 5.157-5.019 5.432.399.344.743 1.004.743 2.035 0 1.471-.014 2.654-.014 3.025 0 .289.206.632.756.522C19.851 20.979 23 16.854 23 12c0-6.077-4.922-11-11-11Z"></path>
</svg>
        </a>

          <context-region-controller class="AppHeader-context responsive-context-region" data-max-items="5" data-catalyst="">
  <div class="AppHeader-context-full">
    <nav role="navigation" aria-label="GitHub Breadcrumb">
      
<context-region data-target="context-region-controller.contextRegion" role="list" data-action="context-region-changed:context-region-controller#crumbsChanged" data-catalyst="">
    <context-region-crumb data-crumb-id="contextregion-usercrumb-aruntakhur" data-targets="context-region.crumbs" data-label="aruntakhur" data-href="/aruntakhur" data-pre-rendered="" role="listitem" data-catalyst="">
      <a data-target="context-region-crumb.linkElement" data-analytics-event="{&quot;category&quot;:&quot;SiteHeaderComponent&quot;,&quot;action&quot;:&quot;context_region_crumb&quot;,&quot;label&quot;:&quot;aruntakhur&quot;,&quot;screen_size&quot;:&quot;full&quot;}" data-hovercard-type="user" data-hovercard-url="/users/aruntakhur/hovercard" data-octo-click="hovercard-link-click" data-octo-dimensions="link_type:self" href="https://github.com/aruntakhur" id="contextregion-usercrumb-aruntakhur-link" data-view-component="true" class="AppHeader-context-item" aria-keyshortcuts="Alt+ArrowUp">
        <span data-target="context-region-crumb.labelElement" class="AppHeader-context-item-label ">aruntakhur</span>

</a><tool-tip data-target="context-region-crumb.tooltip" for="contextregion-usercrumb-aruntakhur-link" popover="manual" class="sr-only" position="absolute" data-type="label" data-direction="s" hidden="" role="tooltip"><template shadowrootmode="open"><style>
      :host {
        --tooltip-top: var(--tool-tip-position-top, 0);
        --tooltip-left: var(--tool-tip-position-left, 0);
        padding: var(--overlay-paddingBlock-condensed) var(--overlay-padding-condensed) !important;
        font: var(--text-body-shorthand-small);
        color: var(--tooltip-fgColor, var(--fgColor-onEmphasis)) !important;
        text-align: center;
        text-decoration: none;
        text-shadow: none;
        text-transform: none;
        letter-spacing: normal;
        word-wrap: break-word;
        white-space: pre;
        background: var(--tooltip-bgColor, var(--bgColor-emphasis)) !important;
        border-radius: var(--borderRadius-medium);
        border: 0 !important;
        opacity: 0;
        max-width: var(--overlay-width-small);
        word-wrap: break-word;
        white-space: normal;
        width: max-content !important;
        inset: var(--tooltip-top) auto auto var(--tooltip-left) !important;
        overflow: visible !important;
        text-wrap: balance;
      }

      :host(:is(.tooltip-n, .tooltip-nw, .tooltip-ne)) {
        --tooltip-top: calc(var(--tool-tip-position-top, 0) - var(--overlay-offset, 0.25rem));
        --tooltip-left: var(--tool-tip-position-left);
      }

      :host(:is(.tooltip-s, .tooltip-sw, .tooltip-se)) {
        --tooltip-top: calc(var(--tool-tip-position-top, 0) + var(--overlay-offset, 0.25rem));
        --tooltip-left: var(--tool-tip-position-left);
      }

      :host(.tooltip-w) {
        --tooltip-top: var(--tool-tip-position-top);
        --tooltip-left: calc(var(--tool-tip-position-left, 0) - var(--overlay-offset, 0.25rem));
      }

      :host(.tooltip-e) {
        --tooltip-top: var(--tool-tip-position-top);
        --tooltip-left: calc(var(--tool-tip-position-left, 0) + var(--overlay-offset, 0.25rem));
      }

      :host:after{
        position: absolute;
        display: block;
        right: 0;
        left: 0;
        height: var(--overlay-offset, 0.25rem);
        content: "";
      }

      :host(.tooltip-s):after,
      :host(.tooltip-se):after,
      :host(.tooltip-sw):after {
        bottom: 100%
      }

      :host(.tooltip-n):after,
      :host(.tooltip-ne):after,
      :host(.tooltip-nw):after {
        top: 100%;
      }

      @keyframes tooltip-appear {
        from {
          opacity: 0;
        }
        to {
          opacity: 1;
        }
      }

      :host(:popover-open),
      :host(:popover-open):before {
        animation-name: tooltip-appear;
        animation-duration: .1s;
        animation-fill-mode: forwards;
        animation-timing-function: ease-in;
      }

      :host(.\:popover-open) {
        animation-name: tooltip-appear;
        animation-duration: .1s;
        animation-fill-mode: forwards;
        animation-timing-function: ease-in;
      }

      @media (forced-colors: active) {
        :host {
          outline: solid 1px transparent;
        }

        :host:before {
          display: none;
        }
      }
    </style><slot></slot></template>
          aruntakhur
        </tool-tip>
      <context-region-divider data-target="context-region-crumb.dividerElement" data-pre-rendered="" data-catalyst="">
  <span class="AppHeader-context-item-separator">
    <span class="sr-only">/</span>
    <svg width="16" height="16" viewBox="0 0 16 16" xmlns="http://www.w3.org/2000/svg" aria-hidden="true">
      <path d="M10.956 1.27994L6.06418 14.7201L5 14.7201L9.89181 1.27994L10.956 1.27994Z" fill="currentcolor"></path>
    </svg>
  </span>
</context-region-divider>

    
        
      </context-region-crumb>

      <li data-target="context-region-controller.overflowMenuContainer context-region.overflowMenuContainer" role="listitem" hidden="">
        <action-menu data-target="context-region-controller.overflowActionMenu" data-select-variant="none" data-view-component="true" data-catalyst="" data-ready="true">
  <focus-group direction="vertical" mnemonics="" retain="">
    <button id="action-menu-bbef6b57-3dc1-4c9e-a5f0-83de8cb54f9a-button" popovertarget="action-menu-bbef6b57-3dc1-4c9e-a5f0-83de8cb54f9a-overlay" aria-controls="action-menu-bbef6b57-3dc1-4c9e-a5f0-83de8cb54f9a-list" aria-haspopup="true" aria-labelledby="tooltip-c4a353f2-427b-4af4-894d-2a3aec2a1a73" type="button" data-view-component="true" class="Button Button--iconOnly Button--secondary Button--medium">  <svg aria-hidden="true" height="16" viewBox="0 0 16 16" version="1.1" width="16" data-view-component="true" class="octicon octicon-kebab-horizontal Button-visual">
    <path d="M8 9a1.5 1.5 0 1 0 0-3 1.5 1.5 0 0 0 0 3ZM1.5 9a1.5 1.5 0 1 0 0-3 1.5 1.5 0 0 0 0 3Zm13 0a1.5 1.5 0 1 0 0-3 1.5 1.5 0 0 0 0 3Z"></path>
</svg>
</button><tool-tip id="tooltip-c4a353f2-427b-4af4-894d-2a3aec2a1a73" for="action-menu-bbef6b57-3dc1-4c9e-a5f0-83de8cb54f9a-button" popover="manual" data-direction="s" data-type="label" data-view-component="true" class="sr-only position-absolute" aria-hidden="true" role="tooltip"><template shadowrootmode="open"><style>
      :host {
        --tooltip-top: var(--tool-tip-position-top, 0);
        --tooltip-left: var(--tool-tip-position-left, 0);
        padding: var(--overlay-paddingBlock-condensed) var(--overlay-padding-condensed) !important;
        font: var(--text-body-shorthand-small);
        color: var(--tooltip-fgColor, var(--fgColor-onEmphasis)) !important;
        text-align: center;
        text-decoration: none;
        text-shadow: none;
        text-transform: none;
        letter-spacing: normal;
        word-wrap: break-word;
        white-space: pre;
        background: var(--tooltip-bgColor, var(--bgColor-emphasis)) !important;
        border-radius: var(--borderRadius-medium);
        border: 0 !important;
        opacity: 0;
        max-width: var(--overlay-width-small);
        word-wrap: break-word;
        white-space: normal;
        width: max-content !important;
        inset: var(--tooltip-top) auto auto var(--tooltip-left) !important;
        overflow: visible !important;
        text-wrap: balance;
      }

      :host(:is(.tooltip-n, .tooltip-nw, .tooltip-ne)) {
        --tooltip-top: calc(var(--tool-tip-position-top, 0) - var(--overlay-offset, 0.25rem));
        --tooltip-left: var(--tool-tip-position-left);
      }

      :host(:is(.tooltip-s, .tooltip-sw, .tooltip-se)) {
        --tooltip-top: calc(var(--tool-tip-position-top, 0) + var(--overlay-offset, 0.25rem));
        --tooltip-left: var(--tool-tip-position-left);
      }

      :host(.tooltip-w) {
        --tooltip-top: var(--tool-tip-position-top);
        --tooltip-left: calc(var(--tool-tip-position-left, 0) - var(--overlay-offset, 0.25rem));
      }

      :host(.tooltip-e) {
        --tooltip-top: var(--tool-tip-position-top);
        --tooltip-left: calc(var(--tool-tip-position-left, 0) + var(--overlay-offset, 0.25rem));
      }

      :host:after{
        position: absolute;
        display: block;
        right: 0;
        left: 0;
        height: var(--overlay-offset, 0.25rem);
        content: "";
      }

      :host(.tooltip-s):after,
      :host(.tooltip-se):after,
      :host(.tooltip-sw):after {
        bottom: 100%
      }

      :host(.tooltip-n):after,
      :host(.tooltip-ne):after,
      :host(.tooltip-nw):after {
        top: 100%;
      }

      @keyframes tooltip-appear {
        from {
          opacity: 0;
        }
        to {
          opacity: 1;
        }
      }

      :host(:popover-open),
      :host(:popover-open):before {
        animation-name: tooltip-appear;
        animation-duration: .1s;
        animation-fill-mode: forwards;
        animation-timing-function: ease-in;
      }

      :host(.\:popover-open) {
        animation-name: tooltip-appear;
        animation-duration: .1s;
        animation-fill-mode: forwards;
        animation-timing-function: ease-in;
      }

      @media (forced-colors: active) {
        :host {
          outline: solid 1px transparent;
        }

        :host:before {
          display: none;
        }
      }
    </style><slot></slot></template>Show more breadcrumb items</tool-tip>


<anchored-position data-target="action-menu.overlay" id="action-menu-bbef6b57-3dc1-4c9e-a5f0-83de8cb54f9a-overlay" anchor="action-menu-bbef6b57-3dc1-4c9e-a5f0-83de8cb54f9a-button" align="start" side="outside-bottom" anchor-offset="normal" popover="auto" data-view-component="true" style="inset: 4px auto auto 0px;">
  <div data-view-component="true" class="Overlay Overlay--size-auto">
    
      <div data-view-component="true" class="Overlay-body Overlay-body--paddingNone">          <action-list data-catalyst="">
  <div data-view-component="true">
    <ul aria-labelledby="action-menu-bbef6b57-3dc1-4c9e-a5f0-83de8cb54f9a-button" id="action-menu-bbef6b57-3dc1-4c9e-a5f0-83de8cb54f9a-list" role="menu" data-view-component="true" class="ActionListWrap--inset ActionListWrap">
        <li hidden="true" data-crumb-id="contextregion-usercrumb-aruntakhur" data-targets="context-region.overflowCrumbs action-list.items" data-analytics-event="{&quot;category&quot;:&quot;SiteHeaderComponent&quot;,&quot;action&quot;:&quot;context_region_overflow_menu_crumb&quot;,&quot;label&quot;:&quot;global-navigation&quot;}" role="none" data-view-component="true" class="ActionListItem">
    
    
    <a tabindex="-1" id="item-0fb4f492-16f1-4acc-a6d3-7b7c2526e61f" href="https://github.com/aruntakhur" role="menuitem" data-view-component="true" class="ActionListContent">
      
        <span data-view-component="true" class="ActionListItem-label">
          aruntakhur
</span>      
</a>
  
</li>
        <li hidden="true" data-crumb-id="contextregion-repositorycrumb-sitareuniversity" data-targets="context-region.overflowCrumbs action-list.items" data-analytics-event="{&quot;category&quot;:&quot;SiteHeaderComponent&quot;,&quot;action&quot;:&quot;context_region_overflow_menu_crumb&quot;,&quot;label&quot;:&quot;global-navigation&quot;}" role="none" data-view-component="true" class="ActionListItem">
    
    
    <a tabindex="-1" id="item-add1684b-bc34-4093-9d76-49cef0d0f64d" href="https://github.com/aruntakhur/SitareUniversity" role="menuitem" data-view-component="true" class="ActionListContent">
      
        <span data-view-component="true" class="ActionListItem-label">
          SitareUniversity
</span>      
</a>
  
</li>
</ul>    
</div></action-list>


</div>
      
</div></anchored-position>  </focus-group>
</action-menu>
  <context-region-divider data-target="context-region-crumb.dividerElement" data-pre-rendered="" data-catalyst="">
  <span class="AppHeader-context-item-separator">
    <span class="sr-only">/</span>
    <svg width="16" height="16" viewBox="0 0 16 16" xmlns="http://www.w3.org/2000/svg" aria-hidden="true">
      <path d="M10.956 1.27994L6.06418 14.7201L5 14.7201L9.89181 1.27994L10.956 1.27994Z" fill="currentcolor"></path>
    </svg>
  </span>
</context-region-divider>


      </li>
    <context-region-crumb data-crumb-id="contextregion-repositorycrumb-sitareuniversity" data-targets="context-region.crumbs" data-label="SitareUniversity" data-href="/aruntakhur/SitareUniversity" data-pre-rendered="" role="listitem" data-catalyst="">
      <a data-target="context-region-crumb.linkElement" data-analytics-event="{&quot;category&quot;:&quot;SiteHeaderComponent&quot;,&quot;action&quot;:&quot;context_region_crumb&quot;,&quot;label&quot;:&quot;SitareUniversity&quot;,&quot;screen_size&quot;:&quot;full&quot;}" href="https://github.com/aruntakhur/SitareUniversity" id="contextregion-repositorycrumb-sitareuniversity-link" data-view-component="true" class="AppHeader-context-item">
        <span data-target="context-region-crumb.labelElement" class="AppHeader-context-item-label ">SitareUniversity</span>

</a><tool-tip data-target="context-region-crumb.tooltip" for="contextregion-repositorycrumb-sitareuniversity-link" popover="manual" class="sr-only" position="absolute" data-type="label" data-direction="s" hidden="true" role="tooltip"><template shadowrootmode="open"><style>
      :host {
        --tooltip-top: var(--tool-tip-position-top, 0);
        --tooltip-left: var(--tool-tip-position-left, 0);
        padding: var(--overlay-paddingBlock-condensed) var(--overlay-padding-condensed) !important;
        font: var(--text-body-shorthand-small);
        color: var(--tooltip-fgColor, var(--fgColor-onEmphasis)) !important;
        text-align: center;
        text-decoration: none;
        text-shadow: none;
        text-transform: none;
        letter-spacing: normal;
        word-wrap: break-word;
        white-space: pre;
        background: var(--tooltip-bgColor, var(--bgColor-emphasis)) !important;
        border-radius: var(--borderRadius-medium);
        border: 0 !important;
        opacity: 0;
        max-width: var(--overlay-width-small);
        word-wrap: break-word;
        white-space: normal;
        width: max-content !important;
        inset: var(--tooltip-top) auto auto var(--tooltip-left) !important;
        overflow: visible !important;
        text-wrap: balance;
      }

      :host(:is(.tooltip-n, .tooltip-nw, .tooltip-ne)) {
        --tooltip-top: calc(var(--tool-tip-position-top, 0) - var(--overlay-offset, 0.25rem));
        --tooltip-left: var(--tool-tip-position-left);
      }

      :host(:is(.tooltip-s, .tooltip-sw, .tooltip-se)) {
        --tooltip-top: calc(var(--tool-tip-position-top, 0) + var(--overlay-offset, 0.25rem));
        --tooltip-left: var(--tool-tip-position-left);
      }

      :host(.tooltip-w) {
        --tooltip-top: var(--tool-tip-position-top);
        --tooltip-left: calc(var(--tool-tip-position-left, 0) - var(--overlay-offset, 0.25rem));
      }

      :host(.tooltip-e) {
        --tooltip-top: var(--tool-tip-position-top);
        --tooltip-left: calc(var(--tool-tip-position-left, 0) + var(--overlay-offset, 0.25rem));
      }

      :host:after{
        position: absolute;
        display: block;
        right: 0;
        left: 0;
        height: var(--overlay-offset, 0.25rem);
        content: "";
      }

      :host(.tooltip-s):after,
      :host(.tooltip-se):after,
      :host(.tooltip-sw):after {
        bottom: 100%
      }

      :host(.tooltip-n):after,
      :host(.tooltip-ne):after,
      :host(.tooltip-nw):after {
        top: 100%;
      }

      @keyframes tooltip-appear {
        from {
          opacity: 0;
        }
        to {
          opacity: 1;
        }
      }

      :host(:popover-open),
      :host(:popover-open):before {
        animation-name: tooltip-appear;
        animation-duration: .1s;
        animation-fill-mode: forwards;
        animation-timing-function: ease-in;
      }

      :host(.\:popover-open) {
        animation-name: tooltip-appear;
        animation-duration: .1s;
        animation-fill-mode: forwards;
        animation-timing-function: ease-in;
      }

      @media (forced-colors: active) {
        :host {
          outline: solid 1px transparent;
        }

        :host:before {
          display: none;
        }
      }
    </style><slot></slot></template>
          SitareUniversity
        </tool-tip>
      <context-region-divider data-target="context-region-crumb.dividerElement" data-pre-rendered="" data-catalyst="">
  <span class="AppHeader-context-item-separator">
    <span class="sr-only">/</span>
    <svg width="16" height="16" viewBox="0 0 16 16" xmlns="http://www.w3.org/2000/svg" aria-hidden="true">
      <path d="M10.956 1.27994L6.06418 14.7201L5 14.7201L9.89181 1.27994L10.956 1.27994Z" fill="currentcolor"></path>
    </svg>
  </span>
</context-region-divider>

    
        
      </context-region-crumb>

</context-region>

    </nav>
  </div>
</context-region-controller>

      </div>
      <div class="AppHeader-globalBar-end">
          <div class="AppHeader-search">
              


<qbsearch-input class="search-input" data-scope="repo:aruntakhur/SitareUniversity" data-custom-scopes-path="/search/custom_scopes" data-delete-custom-scopes-csrf="bSdzLPHOa8mxl4CYLoP8Agk143bLrus2suGcFjFskG80pfvb63uEQ1_qGx0uvU4f9aSMU78lAWrPmsmSXx13nA" data-max-custom-scopes="10" data-header-redesign-enabled="true" data-initial-value="" data-blackbird-suggestions-path="/search/suggestions" data-jump-to-suggestions-path="/_graphql/GetSuggestedNavigationDestinations" data-current-repository="aruntakhur/SitareUniversity" data-current-org="" data-current-owner="aruntakhur" data-logged-in="true" data-copilot-chat-enabled="true" data-nl-search-enabled="false" data-catalyst="">
  <div class="search-input-container search-with-dialog position-relative d-flex flex-row flex-items-center height-auto color-bg-transparent border-0 color-fg-subtle mx-0" data-action="click:qbsearch-input#searchInputContainerClicked">
      
            <button type="button" data-action="click:qbsearch-input#handleExpand" class="AppHeader-button AppHeader-search-whenNarrow" aria-label="Search or jump to…" aria-expanded="false" aria-haspopup="dialog">
            <svg aria-hidden="true" height="16" viewBox="0 0 16 16" version="1.1" width="16" data-view-component="true" class="octicon octicon-search">
    <path d="M10.68 11.74a6 6 0 0 1-7.922-8.982 6 6 0 0 1 8.982 7.922l3.04 3.04a.749.749 0 0 1-.326 1.275.749.749 0 0 1-.734-.215ZM11.5 7a4.499 4.499 0 1 0-8.997 0A4.499 4.499 0 0 0 11.5 7Z"></path>
</svg>
          </button>


<div class="AppHeader-search-whenRegular">
  <div class="AppHeader-search-wrap AppHeader-search-wrap--hasTrailing">
    <div class="AppHeader-search-control AppHeader-search-control-overflow">
      <label for="AppHeader-searchInput" aria-label="Search or jump to…" class="AppHeader-search-visual--leading">
        <svg aria-hidden="true" height="16" viewBox="0 0 16 16" version="1.1" width="16" data-view-component="true" class="octicon octicon-search">
    <path d="M10.68 11.74a6 6 0 0 1-7.922-8.982 6 6 0 0 1 8.982 7.922l3.04 3.04a.749.749 0 0 1-.326 1.275.749.749 0 0 1-.734-.215ZM11.5 7a4.499 4.499 0 1 0-8.997 0A4.499 4.499 0 0 0 11.5 7Z"></path>
</svg>
      </label>

                <button type="button" data-target="qbsearch-input.inputButton" data-action="click:qbsearch-input#handleExpand" class="AppHeader-searchButton form-control text-left color-fg-subtle no-wrap placeholder" data-hotkey="s,/" data-analytics-event="{&quot;location&quot;:&quot;navbar&quot;,&quot;action&quot;:&quot;searchbar&quot;,&quot;context&quot;:&quot;global&quot;,&quot;tag&quot;:&quot;input&quot;,&quot;label&quot;:&quot;searchbar_input_global_navbar&quot;}" aria-describedby="search-error-message-flash">
            <div class="overflow-hidden">
              <span id="qb-input-query" data-target="qbsearch-input.inputButtonText">
                  Type <kbd class="AppHeader-search-kbd">/</kbd> to search
              </span>
            </div>
          </button>

    </div>


  </div>
</div>

    <input type="hidden" name="type" class="js-site-search-type-field">

    
<div class="Overlay--hidden " data-modal-dialog-overlay="">
  <modal-dialog data-action="close:qbsearch-input#handleClose cancel:qbsearch-input#handleClose" data-target="qbsearch-input.searchSuggestionsDialog" role="dialog" id="search-suggestions-dialog" aria-modal="true" aria-labelledby="search-suggestions-dialog-header" data-view-component="true" class="Overlay Overlay--width-medium Overlay--height-auto">
      <h1 id="search-suggestions-dialog-header" class="sr-only">Search code, repositories, users, issues, pull requests...</h1>
    <div class="Overlay-body Overlay-body--paddingNone">
      
          <div data-view-component="true">        <div class="search-suggestions position-absolute width-full color-shadow-large border color-fg-default color-bg-default overflow-hidden d-flex flex-column query-builder-container" style="border-radius: 12px;" data-target="qbsearch-input.queryBuilderContainer" hidden="">
          <!-- '"` --><!-- </textarea></xmp> --><form id="query-builder-test-form" action="https://github.com/aruntakhur/SitareUniversity/blob/main/GreedyBFS_AI_2025.ipynb" accept-charset="UTF-8" method="get">
  <query-builder data-target="qbsearch-input.queryBuilder" id="query-builder-query-builder-test" data-filter-key=":" data-view-component="true" class="QueryBuilder search-query-builder" data-min-width="300" data-catalyst="">
    <div class="FormControl FormControl--fullWidth">
      <label id="query-builder-test-label" for="query-builder-test" class="FormControl-label sr-only">
        Search
      </label>
      <div class="QueryBuilder-StyledInput width-fit " data-target="query-builder.styledInput">
          <span id="query-builder-test-leadingvisual-wrap" class="FormControl-input-leadingVisualWrap QueryBuilder-leadingVisualWrap">
            <svg aria-hidden="true" height="16" viewBox="0 0 16 16" version="1.1" width="16" data-view-component="true" class="octicon octicon-search FormControl-input-leadingVisual">
    <path d="M10.68 11.74a6 6 0 0 1-7.922-8.982 6 6 0 0 1 8.982 7.922l3.04 3.04a.749.749 0 0 1-.326 1.275.749.749 0 0 1-.734-.215ZM11.5 7a4.499 4.499 0 1 0-8.997 0A4.499 4.499 0 0 0 11.5 7Z"></path>
</svg>
          </span>
        <div data-target="query-builder.styledInputContainer" class="QueryBuilder-StyledInputContainer">
          <div aria-hidden="true" class="QueryBuilder-StyledInputContent" data-target="query-builder.styledInputContent"></div>
          <div class="QueryBuilder-InputWrapper">
            <div aria-hidden="true" class="QueryBuilder-Sizer" data-target="query-builder.sizer"><span></span></div>
            <input id="query-builder-test" name="query-builder-test" value="" autocomplete="off" type="text" role="combobox" spellcheck="false" aria-expanded="false" aria-describedby="validation-cdc6f1ee-c70e-4618-8c3d-1239f5ea5ca5" data-target="query-builder.input" data-action="
          input:query-builder#inputChange
          blur:query-builder#inputBlur
          keydown:query-builder#inputKeydown
          focus:query-builder#inputFocus
        " data-view-component="true" class="FormControl-input QueryBuilder-Input FormControl-medium" aria-controls="query-builder-test-results" aria-autocomplete="list" aria-haspopup="listbox" style="width: 300px;">
          </div>
        </div>
          <span class="sr-only" id="query-builder-test-clear">Clear</span>
          <button role="button" id="query-builder-test-clear-button" aria-labelledby="query-builder-test-clear query-builder-test-label" data-target="query-builder.clearButton" data-action="
                click:query-builder#clear
                focus:query-builder#clearButtonFocus
                blur:query-builder#clearButtonBlur
              " variant="small" hidden="" type="button" data-view-component="true" class="Button Button--iconOnly Button--invisible Button--medium mr-1 px-2 py-0 d-flex flex-items-center rounded-1 color-fg-muted">  <svg aria-hidden="true" height="16" viewBox="0 0 16 16" version="1.1" width="16" data-view-component="true" class="octicon octicon-x-circle-fill Button-visual">
    <path d="M2.343 13.657A8 8 0 1 1 13.658 2.343 8 8 0 0 1 2.343 13.657ZM6.03 4.97a.751.751 0 0 0-1.042.018.751.751 0 0 0-.018 1.042L6.94 8 4.97 9.97a.749.749 0 0 0 .326 1.275.749.749 0 0 0 .734-.215L8 9.06l1.97 1.97a.749.749 0 0 0 1.275-.326.749.749 0 0 0-.215-.734L9.06 8l1.97-1.97a.749.749 0 0 0-.326-1.275.749.749 0 0 0-.734.215L8 6.94Z"></path>
</svg>
</button>

      </div>
      <template id="search-icon"></template>

<template id="code-icon"></template>

<template id="file-code-icon"></template>

<template id="history-icon"></template>

<template id="repo-icon"></template>

<template id="bookmark-icon"></template>

<template id="plus-circle-icon"></template>

<template id="circle-icon"></template>

<template id="trash-icon"></template>

<template id="team-icon"></template>

<template id="project-icon"></template>

<template id="pencil-icon"></template>

<template id="copilot-icon"></template>

<template id="copilot-error-icon"></template>

<template id="workflow-icon"></template>

<template id="book-icon"></template>

<template id="code-review-icon"></template>

<template id="codespaces-icon"></template>

<template id="comment-icon"></template>

<template id="comment-discussion-icon"></template>

<template id="organization-icon"></template>

<template id="rocket-icon"></template>

<template id="shield-check-icon"></template>

<template id="heart-icon"></template>

<template id="server-icon"></template>

<template id="globe-icon"></template>

<template id="issue-opened-icon"></template>

<template id="device-mobile-icon"></template>

<template id="package-icon"></template>

<template id="credit-card-icon"></template>

<template id="play-icon"></template>

<template id="gift-icon"></template>

<template id="code-square-icon"></template>

<template id="device-desktop-icon"></template>

        <div class="position-relative">
                <ul role="listbox" class="ActionListWrap QueryBuilder-ListWrap" aria-label="Suggestions" data-action="
                    combobox-commit:query-builder#comboboxCommit
                    mousedown:query-builder#resultsMousedown
                  " data-target="query-builder.resultsList" data-persist-list="false" id="query-builder-test-results" tabindex="-1"></ul>
        </div>
      <div class="FormControl-inlineValidation" id="validation-cdc6f1ee-c70e-4618-8c3d-1239f5ea5ca5" hidden="hidden">
        <span class="FormControl-inlineValidation--visual">
          <svg aria-hidden="true" height="12" viewBox="0 0 12 12" version="1.1" width="12" data-view-component="true" class="octicon octicon-alert-fill">
    <path d="M4.855.708c.5-.896 1.79-.896 2.29 0l4.675 8.351a1.312 1.312 0 0 1-1.146 1.954H1.33A1.313 1.313 0 0 1 .183 9.058ZM7 7V3H5v4Zm-1 3a1 1 0 1 0 0-2 1 1 0 0 0 0 2Z"></path>
</svg>
        </span>
        <span></span>
</div>    </div>
    <div data-target="query-builder.screenReaderFeedback" aria-live="polite" aria-atomic="true" class="sr-only">0 suggestions.</div>
</query-builder></form>
          <div class="d-flex flex-row color-fg-muted px-3 text-small color-bg-default search-feedback-prompt">
            <a target="_blank" href="https://docs.github.com/search-github/github-code-search/understanding-github-code-search-syntax" data-view-component="true" class="Link color-fg-accent text-normal ml-2">Search syntax tips</a>            <div class="d-flex flex-1"></div>
              <button data-action="click:qbsearch-input#showFeedbackDialog" type="button" data-view-component="true" class="Button--link Button--medium Button color-fg-accent text-normal ml-2">  <span class="Button-content">
    <span class="Button-label">Give feedback</span>
  </span>
</button>
          </div>
        </div>
</div>

    </div>
</modal-dialog></div>
  </div>
  <div data-action="click:qbsearch-input#retract" class="dark-backdrop position-fixed" hidden="" data-target="qbsearch-input.darkBackdrop"></div>
  <div class="color-fg-default">
    
<dialog-helper>
  <dialog data-target="qbsearch-input.feedbackDialog" data-action="close:qbsearch-input#handleDialogClose cancel:qbsearch-input#handleDialogClose" id="feedback-dialog" aria-modal="true" aria-labelledby="feedback-dialog-title" aria-describedby="feedback-dialog-description" data-view-component="true" class="Overlay Overlay-whenNarrow Overlay--size-medium Overlay--motion-scaleFade Overlay--disableScroll">
    <div data-view-component="true" class="Overlay-header">
  <div class="Overlay-headerContentWrap">
    <div class="Overlay-titleWrap">
      <h1 class="Overlay-title " id="feedback-dialog-title">
        Provide feedback
      </h1>
        
    </div>
    <div class="Overlay-actionWrap">
      <button data-close-dialog-id="feedback-dialog" aria-label="Close" type="button" data-view-component="true" class="close-button Overlay-closeButton"><svg aria-hidden="true" height="16" viewBox="0 0 16 16" version="1.1" width="16" data-view-component="true" class="octicon octicon-x">
    <path d="M3.72 3.72a.75.75 0 0 1 1.06 0L8 6.94l3.22-3.22a.749.749 0 0 1 1.275.326.749.749 0 0 1-.215.734L9.06 8l3.22 3.22a.749.749 0 0 1-.326 1.275.749.749 0 0 1-.734-.215L8 9.06l-3.22 3.22a.751.751 0 0 1-1.042-.018.751.751 0 0 1-.018-1.042L6.94 8 3.72 4.78a.75.75 0 0 1 0-1.06Z"></path>
</svg></button>
    </div>
  </div>
  
</div>
      <scrollable-region data-labelled-by="feedback-dialog-title" data-catalyst="" style="overflow: auto;">
        <div data-view-component="true" class="Overlay-body">        <!-- '"` --><!-- </textarea></xmp> --><form id="code-search-feedback-form" data-turbo="false" action="https://github.com/search/feedback" accept-charset="UTF-8" method="post"><input type="hidden" name="authenticity_token" value="Q_mVWN2pKHoxc4LFBIKkaqfD9ViTsVDxexRNA1oU-Yynt-3ms4XnkVGICRPTtESM3cjTdrLO3YsOBErViCER2Q">
          <p>We read every piece of feedback, and take your input very seriously.</p>
          <textarea name="feedback" class="form-control width-full mb-2" style="height: 120px" id="feedback"></textarea>
          <input name="include_email" id="include_email" aria-label="Include my email address so I can be contacted" class="form-control mr-2" type="checkbox">
          <label for="include_email" style="font-weight: normal">Include my email address so I can be contacted</label>
</form></div>
      </scrollable-region>
      <div data-view-component="true" class="Overlay-footer Overlay-footer--alignEnd">          <button data-close-dialog-id="feedback-dialog" type="button" data-view-component="true" class="btn">    Cancel
</button>
          <button form="code-search-feedback-form" data-action="click:qbsearch-input#submitFeedback" type="submit" data-view-component="true" class="btn-primary btn">    Submit feedback
</button>
</div>
</dialog></dialog-helper>

    <custom-scopes data-target="qbsearch-input.customScopesManager" data-catalyst="">
    
<dialog-helper>
  <dialog data-target="custom-scopes.customScopesModalDialog" data-action="close:qbsearch-input#handleDialogClose cancel:qbsearch-input#handleDialogClose" id="custom-scopes-dialog" aria-modal="true" aria-labelledby="custom-scopes-dialog-title" aria-describedby="custom-scopes-dialog-description" data-view-component="true" class="Overlay Overlay-whenNarrow Overlay--size-medium Overlay--motion-scaleFade Overlay--disableScroll">
    <div data-view-component="true" class="Overlay-header Overlay-header--divided">
  <div class="Overlay-headerContentWrap">
    <div class="Overlay-titleWrap">
      <h1 class="Overlay-title " id="custom-scopes-dialog-title">
        Saved searches
      </h1>
        <h2 id="custom-scopes-dialog-description" class="Overlay-description">Use saved searches to filter your results more quickly</h2>
    </div>
    <div class="Overlay-actionWrap">
      <button data-close-dialog-id="custom-scopes-dialog" aria-label="Close" type="button" data-view-component="true" class="close-button Overlay-closeButton"><svg aria-hidden="true" height="16" viewBox="0 0 16 16" version="1.1" width="16" data-view-component="true" class="octicon octicon-x">
    <path d="M3.72 3.72a.75.75 0 0 1 1.06 0L8 6.94l3.22-3.22a.749.749 0 0 1 1.275.326.749.749 0 0 1-.215.734L9.06 8l3.22 3.22a.749.749 0 0 1-.326 1.275.749.749 0 0 1-.734-.215L8 9.06l-3.22 3.22a.751.751 0 0 1-1.042-.018.751.751 0 0 1-.018-1.042L6.94 8 3.72 4.78a.75.75 0 0 1 0-1.06Z"></path>
</svg></button>
    </div>
  </div>
  
</div>
      <scrollable-region data-labelled-by="custom-scopes-dialog-title" data-catalyst="" style="overflow: auto;">
        <div data-view-component="true" class="Overlay-body">        <div data-target="custom-scopes.customScopesModalDialogFlash"></div>

        <div hidden="" class="create-custom-scope-form" data-target="custom-scopes.createCustomScopeForm">
        <!-- '"` --><!-- </textarea></xmp> --><form id="custom-scopes-dialog-form" data-turbo="false" action="https://github.com/search/custom_scopes" accept-charset="UTF-8" method="post"><input type="hidden" name="authenticity_token" value="RETPqbZgWSh6JnHJampyoepqOLZN9D-v0S1ZVw2EuY0lQY7evC606oAFFt0njVc1NJ4ndVLEWdkYe-GQGqp7IQ">
          <div data-target="custom-scopes.customScopesModalDialogFlash"></div>

          <input type="hidden" id="custom_scope_id" name="custom_scope_id" data-target="custom-scopes.customScopesIdField">

          <div class="form-group">
            <label for="custom_scope_name">Name</label>
            <auto-check src="/search/custom_scopes/check_name" required="">
              <input type="text" name="custom_scope_name" id="custom_scope_name" data-target="custom-scopes.customScopesNameField" class="form-control" autocomplete="off" placeholder="github-ruby" required="" maxlength="50" spellcheck="false">
              <input type="hidden" value="TOP9rVIemOOQr5fKR7BYsrgmAIK8Qlll_7a9reBcJn7d53HYmhkwV6BBaZcj5oF0XYp28gUp6cgrDAlkqvAYog" data-csrf="true">
            </auto-check>
          </div>

          <div class="form-group">
            <label for="custom_scope_query">Query</label>
            <input type="text" name="custom_scope_query" id="custom_scope_query" data-target="custom-scopes.customScopesQueryField" class="form-control" autocomplete="off" placeholder="(repo:mona/a OR repo:mona/b) AND lang:python" required="" maxlength="500">
          </div>

          <p class="text-small color-fg-muted">
            To see all available qualifiers, see our <a class="Link--inTextBlock" href="https://docs.github.com/search-github/github-code-search/understanding-github-code-search-syntax">documentation</a>.
          </p>
</form>        </div>

        <div data-target="custom-scopes.manageCustomScopesForm">
          <div data-target="custom-scopes.list"></div>
        </div>

</div>
      </scrollable-region>
      <div data-view-component="true" class="Overlay-footer Overlay-footer--alignEnd Overlay-footer--divided">          <button data-action="click:custom-scopes#customScopesCancel" type="button" data-view-component="true" class="btn">    Cancel
</button>
          <button form="custom-scopes-dialog-form" data-action="click:custom-scopes#customScopesSubmit" data-target="custom-scopes.customScopesSubmitButton" type="submit" data-view-component="true" class="btn-primary btn">    Create saved search
</button>
</div>
</dialog></dialog-helper>
    </custom-scopes>
  </div>
</qbsearch-input>  <input type="hidden" value="byD25X0C9dfTVmH-kq77V-a1s3IqnOlWA-GEjVd170o7kwTSJzo2Og7NoEGBd5TH7TxXXd9be31qT924Mlt1hA" data-csrf="true" class="js-data-jump-to-suggestions-path-csrf">


          </div>

        
          <div class="AppHeader-CopilotChat hide-sm hide-md">
  <div class="d-flex">
    <react-partial-anchor data-catalyst="">
        <a href="https://github.com/copilot" data-target="react-partial-anchor.anchor" id="copilot-chat-header-button" aria-labelledby="tooltip-c01edb00-de9e-4136-b54e-7b8cd7629ce0" data-view-component="true" class="Button Button--iconOnly Button--secondary Button--medium AppHeader-button AppHeader-buttonLeft">  <svg aria-hidden="true" height="16" viewBox="0 0 16 16" version="1.1" width="16" data-view-component="true" class="octicon octicon-copilot Button-visual">
    <path d="M7.998 15.035c-4.562 0-7.873-2.914-7.998-3.749V9.338c.085-.628.677-1.686 1.588-2.065.013-.07.024-.143.036-.218.029-.183.06-.384.126-.612-.201-.508-.254-1.084-.254-1.656 0-.87.128-1.769.693-2.484.579-.733 1.494-1.124 2.724-1.261 1.206-.134 2.262.034 2.944.765.05.053.096.108.139.165.044-.057.094-.112.143-.165.682-.731 1.738-.899 2.944-.765 1.23.137 2.145.528 2.724 1.261.566.715.693 1.614.693 2.484 0 .572-.053 1.148-.254 1.656.066.228.098.429.126.612.012.076.024.148.037.218.924.385 1.522 1.471 1.591 2.095v1.872c0 .766-3.351 3.795-8.002 3.795Zm0-1.485c2.28 0 4.584-1.11 5.002-1.433V7.862l-.023-.116c-.49.21-1.075.291-1.727.291-1.146 0-2.059-.327-2.71-.991A3.222 3.222 0 0 1 8 6.303a3.24 3.24 0 0 1-.544.743c-.65.664-1.563.991-2.71.991-.652 0-1.236-.081-1.727-.291l-.023.116v4.255c.419.323 2.722 1.433 5.002 1.433ZM6.762 2.83c-.193-.206-.637-.413-1.682-.297-1.019.113-1.479.404-1.713.7-.247.312-.369.789-.369 1.554 0 .793.129 1.171.308 1.371.162.181.519.379 1.442.379.853 0 1.339-.235 1.638-.54.315-.322.527-.827.617-1.553.117-.935-.037-1.395-.241-1.614Zm4.155-.297c-1.044-.116-1.488.091-1.681.297-.204.219-.359.679-.242 1.614.091.726.303 1.231.618 1.553.299.305.784.54 1.638.54.922 0 1.28-.198 1.442-.379.179-.2.308-.578.308-1.371 0-.765-.123-1.242-.37-1.554-.233-.296-.693-.587-1.713-.7Z"></path><path d="M6.25 9.037a.75.75 0 0 1 .75.75v1.501a.75.75 0 0 1-1.5 0V9.787a.75.75 0 0 1 .75-.75Zm4.25.75v1.501a.75.75 0 0 1-1.5 0V9.787a.75.75 0 0 1 1.5 0Z"></path>
</svg>
</a><tool-tip id="tooltip-c01edb00-de9e-4136-b54e-7b8cd7629ce0" for="copilot-chat-header-button" popover="manual" data-direction="s" data-type="label" data-view-component="true" class="sr-only position-absolute" aria-hidden="true" role="tooltip"><template shadowrootmode="open"><style>
      :host {
        --tooltip-top: var(--tool-tip-position-top, 0);
        --tooltip-left: var(--tool-tip-position-left, 0);
        padding: var(--overlay-paddingBlock-condensed) var(--overlay-padding-condensed) !important;
        font: var(--text-body-shorthand-small);
        color: var(--tooltip-fgColor, var(--fgColor-onEmphasis)) !important;
        text-align: center;
        text-decoration: none;
        text-shadow: none;
        text-transform: none;
        letter-spacing: normal;
        word-wrap: break-word;
        white-space: pre;
        background: var(--tooltip-bgColor, var(--bgColor-emphasis)) !important;
        border-radius: var(--borderRadius-medium);
        border: 0 !important;
        opacity: 0;
        max-width: var(--overlay-width-small);
        word-wrap: break-word;
        white-space: normal;
        width: max-content !important;
        inset: var(--tooltip-top) auto auto var(--tooltip-left) !important;
        overflow: visible !important;
        text-wrap: balance;
      }

      :host(:is(.tooltip-n, .tooltip-nw, .tooltip-ne)) {
        --tooltip-top: calc(var(--tool-tip-position-top, 0) - var(--overlay-offset, 0.25rem));
        --tooltip-left: var(--tool-tip-position-left);
      }

      :host(:is(.tooltip-s, .tooltip-sw, .tooltip-se)) {
        --tooltip-top: calc(var(--tool-tip-position-top, 0) + var(--overlay-offset, 0.25rem));
        --tooltip-left: var(--tool-tip-position-left);
      }

      :host(.tooltip-w) {
        --tooltip-top: var(--tool-tip-position-top);
        --tooltip-left: calc(var(--tool-tip-position-left, 0) - var(--overlay-offset, 0.25rem));
      }

      :host(.tooltip-e) {
        --tooltip-top: var(--tool-tip-position-top);
        --tooltip-left: calc(var(--tool-tip-position-left, 0) + var(--overlay-offset, 0.25rem));
      }

      :host:after{
        position: absolute;
        display: block;
        right: 0;
        left: 0;
        height: var(--overlay-offset, 0.25rem);
        content: "";
      }

      :host(.tooltip-s):after,
      :host(.tooltip-se):after,
      :host(.tooltip-sw):after {
        bottom: 100%
      }

      :host(.tooltip-n):after,
      :host(.tooltip-ne):after,
      :host(.tooltip-nw):after {
        top: 100%;
      }

      @keyframes tooltip-appear {
        from {
          opacity: 0;
        }
        to {
          opacity: 1;
        }
      }

      :host(:popover-open),
      :host(:popover-open):before {
        animation-name: tooltip-appear;
        animation-duration: .1s;
        animation-fill-mode: forwards;
        animation-timing-function: ease-in;
      }

      :host(.\:popover-open) {
        animation-name: tooltip-appear;
        animation-duration: .1s;
        animation-fill-mode: forwards;
        animation-timing-function: ease-in;
      }

      @media (forced-colors: active) {
        :host {
          outline: solid 1px transparent;
        }

        :host:before {
          display: none;
        }
      }
    </style><slot></slot></template>Chat with Copilot</tool-tip>

      
    
        <script crossorigin="anonymous" type="application/javascript" src="./Greedy_BFS_files/vendors-node_modules_fzy_js_index_js-node_modules_github_hydro-analytics-client_dist_analytic-7b0e16-0cdcda8ce7d7.js.download" defer="defer"></script>
<script crossorigin="anonymous" type="application/javascript" src="./Greedy_BFS_files/packages_copilot-chat_components_CopilotIconAnimation_tsx-4f0dd006fa0a.js.download" defer="defer"></script>
<script crossorigin="anonymous" type="application/javascript" src="./Greedy_BFS_files/packages_document-metadata_document-metadata_ts-packages_promise-with-resolvers-polyfill_prom-e5901b-66e48934f996.js.download" defer="defer"></script>
<script crossorigin="anonymous" type="application/javascript" src="./Greedy_BFS_files/packages_copilot-chat_entry_ts-packages_use-client-value_use-client-value_ts-packages_use-deb-80b44a-6f4dfd3e40ca.js.download" defer="defer"></script>
<script crossorigin="anonymous" type="application/javascript" src="./Greedy_BFS_files/copilot-chat-8171ed990a29.js.download" defer="defer"></script>
<link crossorigin="anonymous" media="all" rel="stylesheet" href="./Greedy_BFS_files/primer-react.bde96664bd5edb566a4a.module.css">
<link crossorigin="anonymous" media="all" rel="stylesheet" href="./Greedy_BFS_files/packages_document-metadata_document-metadata_ts-packages_promise-with-resolvers-polyfill_prom-e5901b.e4ec62ab8b4e49ba3a8f.module.css">
<link crossorigin="anonymous" media="all" rel="stylesheet" href="./Greedy_BFS_files/copilot-chat.b9c6ea91ee9df8f32d5e.module.css">
        <link crossorigin="anonymous" media="all" rel="stylesheet" href="./Greedy_BFS_files/copilot-markdown-rendering-ddd978d4a7c0.css">
        <link crossorigin="anonymous" media="all" rel="stylesheet" href="./Greedy_BFS_files/primer-react.bde96664bd5edb566a4a.module.css">
<link crossorigin="anonymous" media="all" rel="stylesheet" href="./Greedy_BFS_files/packages_document-metadata_document-metadata_ts-packages_promise-with-resolvers-polyfill_prom-e5901b.e4ec62ab8b4e49ba3a8f.module.css">
<link crossorigin="anonymous" media="all" rel="stylesheet" href="./Greedy_BFS_files/copilot-chat.b9c6ea91ee9df8f32d5e.module.css">

<react-partial partial-name="copilot-chat" data-ssr="false" data-attempted-ssr="false" data-react-profiling="false" data-catalyst="" class="loaded">
  
  <script type="application/json" data-target="react-partial.embeddedData">{"props":{"currentTopic":{"id":1040478506,"name":"SitareUniversity","ownerLogin":"aruntakhur","ownerType":"User","readmePath":"ReadMe","description":"AI_DL_Codes","commitOID":"8499924c98ae11e934c0b69a520a98e664be7e35","ref":"refs/heads/main","refInfo":{"name":"main","type":"branch"},"visibility":"public","languages":[{"name":"Jupyter Notebook","percent":100.0}],"customInstructions":[],"defaultBranch":"main","ownerAvatarUrl":"https://avatars.githubusercontent.com/u/5259552?v=4"},"findFileWorkerPath":"/assets-cdn/worker/find-file-worker-9bd411a8e273.js","renderPopover":false,"renderBetaLabel":false,"chatIsVisible":true,"chatVisibleSettingPath":"/users/Anushri488/copilot_chat/settings/copilot_chat_visibility","ssoOrganizations":[],"apiVersion":"2025-05-01","agentsPath":"/github-copilot/chat/agents","apiURL":"https://api.individual.githubcopilot.com","currentUserLogin":"Anushri488","customInstructions":null,"renderKnowledgeBases":false,"customCopilotsEnabled":true,"optedInToPreviewFeatures":false,"optedInToUserFeedback":true,"renderAttachKnowledgeBaseHerePopover":true,"renderKnowledgeBaseAttachedToChatPopover":true,"personalInstructions":null,"reviewLab":false,"realIp":null,"scrollToTop":false,"hasCEorCBAccess":false,"licenseType":"licensed_limited","plan":"free","quotas":{"limits":{"premiumInteractions":0},"remaining":{"chat":500,"completions":4000,"premiumInteractions":0,"chatPercentage":100.0,"premiumInteractionsPercentage":0.0},"resetDate":"2025-10-02","overagesEnabled":false},"icebreakers":[{"type":"functional","data":[{"id":"create-bug-issue","message":"Hi Copilot! Could you please start a draft issue for a bug? Once you've created the draft issue, if you need more information, ask me 1-2 key questions. If you also think I should upload any information or images that would help write the bug issue, let me know.","titleHtml":"Create an issue for a bug","icon":"issue-opened","color":"var(--display-green-fgColor)"},{"id":"summarize-pulls","message":"Hi Copilot! Could you help summarize a pull request? I'd like to know its purpose and the key changes made. Please include details about the problem it solves, new features or functionality introduced, any breaking changes, testing done, and documentation updates. Thank you!","titleHtml":"Summarize a pull request","icon":"git-pull-request","color":"var(--display-green-fgColor)"},{"id":"code-feedback","message":"Hi Copilot! Please review my code for best practices, readability, performance, and potential bugs. First, prompt me to provide the link to the relevant GitHub repository or file. Then, offer concrete suggestions for improvement, explain any issues you discover, and provide example corrections where appropriate.","titleHtml":"Get code feedback","icon":"code","color":"var(--display-gray-fgColor)"},{"id":"next-steps-issue","message":"Hi Copilot! Could you suggest the next actionable steps for an issue, based on either the provided issue link or a copy pasted description?","titleHtml":"Suggest next steps for an issue","icon":"issue-opened","color":"var(--display-green-fgColor)"},{"id":"understand-arch-diagram","message":"Hi Copilot! Could you please help me interpret this architecture diagram?","titleHtml":"Interpret an architecture diagram","icon":"eye","color":"var(--display-purple-fgColor)"},{"id":"create-profile-readme","message":"Hi Copilot! Please create a standout profile README for $$USERNAME$$. Ask me for any key details (such as my profession, top skills, favorite projects, or social links) that would help you personalize it.","titleHtml":"Create a profile README for me","icon":"rocket","color":"var(--display-pink-fgColor)"},{"id":"my-open-pulls","message":"Hi Copilot! Can you please find my open pull requests?","titleHtml":"My open pull requests","icon":"git-pull-request","color":"var(--display-green-fgColor)"},{"id":"make-pong","message":"Hi Copilot! Could you generate a simple Pong game utilizing HTML, CSS, and JavaScript? The player should control the left paddle with their mouse, and the right paddle should be controlled automatically by a basic AI. Make sure the game includes a bouncing ball and collision detection for paddles and walls. Please provide the code for all three components: the HTML file, the CSS file, and the JavaScript file directly within the chat window. Thanks!","titleHtml":"Make a Pong game","icon":"code","color":"var(--display-gray-fgColor)"}]},{"type":"instructional","data":[]},{"type":"interactional","data":[{"id":"to-do-app-local-storage","message":"Create a to-do list application with local storage functionality.","titleHtml":"To-do list with local storage","icon":"code","color":"var(--display-gray-fgColor)"},{"id":"digital-clock-time-zones","message":"Create a digital clock that displays the current time in different time zones.","titleHtml":"A digital time zone clock","icon":"code","color":"var(--display-gray-fgColor)"},{"id":"weather-dashboard-app","message":"Develop a weather dashboard that fetches data from a public weather API.","titleHtml":"Develop a weather dashboard","icon":"code","color":"var(--display-gray-fgColor)"},{"id":"create-joke-generator","message":"Create a random joke generator using an external API.","titleHtml":"Create a joke generator","icon":"code","color":"var(--display-gray-fgColor)"}]}],"canShareThread":true,"thirdPartyMcpAllowed":true}}</script>
  <div data-target="react-partial.reactRoot"><div class="CopilotChat-module__CopilotChatContainer--fWXmM"></div><div class="PortalContainerUtils-module__chatPortalContainer--Otmle"></div><script type="application/json" id="__PRIMER_DATA_:r1c:__">{"resolvedServerColorMode":"day"}</script></div>
</react-partial>



      </react-partial-anchor>
    <div class="position-relative">
      
        <react-partial-anchor data-catalyst="">
          <button id="global-copilot-menu-button" data-target="react-partial-anchor.anchor" aria-expanded="false" aria-labelledby="tooltip-d272e3d6-e40c-43c0-a9d6-6b3d64df09d6" type="button" data-view-component="true" class="Button Button--iconOnly Button--secondary Button--medium AppHeader-button AppHeader-buttonRight" aria-haspopup="true">  <svg aria-hidden="true" height="16" viewBox="0 0 16 16" version="1.1" width="16" data-view-component="true" class="octicon octicon-triangle-down Button-visual">
    <path d="m4.427 7.427 3.396 3.396a.25.25 0 0 0 .354 0l3.396-3.396A.25.25 0 0 0 11.396 7H4.604a.25.25 0 0 0-.177.427Z"></path>
</svg>
</button><tool-tip id="tooltip-d272e3d6-e40c-43c0-a9d6-6b3d64df09d6" for="global-copilot-menu-button" popover="manual" data-direction="s" data-type="label" data-view-component="true" class="sr-only position-absolute" aria-hidden="true" role="tooltip"><template shadowrootmode="open"><style>
      :host {
        --tooltip-top: var(--tool-tip-position-top, 0);
        --tooltip-left: var(--tool-tip-position-left, 0);
        padding: var(--overlay-paddingBlock-condensed) var(--overlay-padding-condensed) !important;
        font: var(--text-body-shorthand-small);
        color: var(--tooltip-fgColor, var(--fgColor-onEmphasis)) !important;
        text-align: center;
        text-decoration: none;
        text-shadow: none;
        text-transform: none;
        letter-spacing: normal;
        word-wrap: break-word;
        white-space: pre;
        background: var(--tooltip-bgColor, var(--bgColor-emphasis)) !important;
        border-radius: var(--borderRadius-medium);
        border: 0 !important;
        opacity: 0;
        max-width: var(--overlay-width-small);
        word-wrap: break-word;
        white-space: normal;
        width: max-content !important;
        inset: var(--tooltip-top) auto auto var(--tooltip-left) !important;
        overflow: visible !important;
        text-wrap: balance;
      }

      :host(:is(.tooltip-n, .tooltip-nw, .tooltip-ne)) {
        --tooltip-top: calc(var(--tool-tip-position-top, 0) - var(--overlay-offset, 0.25rem));
        --tooltip-left: var(--tool-tip-position-left);
      }

      :host(:is(.tooltip-s, .tooltip-sw, .tooltip-se)) {
        --tooltip-top: calc(var(--tool-tip-position-top, 0) + var(--overlay-offset, 0.25rem));
        --tooltip-left: var(--tool-tip-position-left);
      }

      :host(.tooltip-w) {
        --tooltip-top: var(--tool-tip-position-top);
        --tooltip-left: calc(var(--tool-tip-position-left, 0) - var(--overlay-offset, 0.25rem));
      }

      :host(.tooltip-e) {
        --tooltip-top: var(--tool-tip-position-top);
        --tooltip-left: calc(var(--tool-tip-position-left, 0) + var(--overlay-offset, 0.25rem));
      }

      :host:after{
        position: absolute;
        display: block;
        right: 0;
        left: 0;
        height: var(--overlay-offset, 0.25rem);
        content: "";
      }

      :host(.tooltip-s):after,
      :host(.tooltip-se):after,
      :host(.tooltip-sw):after {
        bottom: 100%
      }

      :host(.tooltip-n):after,
      :host(.tooltip-ne):after,
      :host(.tooltip-nw):after {
        top: 100%;
      }

      @keyframes tooltip-appear {
        from {
          opacity: 0;
        }
        to {
          opacity: 1;
        }
      }

      :host(:popover-open),
      :host(:popover-open):before {
        animation-name: tooltip-appear;
        animation-duration: .1s;
        animation-fill-mode: forwards;
        animation-timing-function: ease-in;
      }

      :host(.\:popover-open) {
        animation-name: tooltip-appear;
        animation-duration: .1s;
        animation-fill-mode: forwards;
        animation-timing-function: ease-in;
      }

      @media (forced-colors: active) {
        :host {
          outline: solid 1px transparent;
        }

        :host:before {
          display: none;
        }
      }
    </style><slot></slot></template>Open Copilot…</tool-tip>

          
        
            <link crossorigin="anonymous" media="all" rel="stylesheet" href="./Greedy_BFS_files/primer-react.bde96664bd5edb566a4a.module.css">
<link crossorigin="anonymous" media="all" rel="stylesheet" href="./Greedy_BFS_files/global-copilot-menu.e8b96f8e81aaf397c759.module.css">

<react-partial partial-name="global-copilot-menu" data-ssr="false" data-attempted-ssr="false" data-react-profiling="false" data-catalyst="" class="loaded">
  
  <script type="application/json" data-target="react-partial.embeddedData">{"props":{"repository":{"id":1040478506,"name":"SitareUniversity","ownerLogin":"aruntakhur"}}}</script>
  <div data-target="react-partial.reactRoot"><div class="d-none"></div><script type="application/json" id="__PRIMER_DATA_:r12:__">{"resolvedServerColorMode":"day"}</script></div>
</react-partial>


          </react-partial-anchor>
    </div>
  </div>
</div>


        <div class="AppHeader-actions position-relative">
             <react-partial-anchor data-catalyst="">
      <button id="global-create-menu-anchor" aria-label="Create something new" data-target="react-partial-anchor.anchor" type="button" data-view-component="true" class="AppHeader-button AppHeader-button--dropdown global-create-button Button--secondary Button--medium Button width-auto color-fg-muted" aria-describedby="tooltip-2b157294-7a5d-4e4d-9aa7-50f7b7d69771" aria-expanded="false" aria-haspopup="true">  <span class="Button-content">
      <span class="Button-visual Button-leadingVisual">
        <svg aria-hidden="true" height="16" viewBox="0 0 16 16" version="1.1" width="16" data-view-component="true" class="octicon octicon-plus">
    <path d="M7.75 2a.75.75 0 0 1 .75.75V7h4.25a.75.75 0 0 1 0 1.5H8.5v4.25a.75.75 0 0 1-1.5 0V8.5H2.75a.75.75 0 0 1 0-1.5H7V2.75A.75.75 0 0 1 7.75 2Z"></path>
</svg>
      </span>
    <span class="Button-label"><svg aria-hidden="true" height="16" viewBox="0 0 16 16" version="1.1" width="16" data-view-component="true" class="octicon octicon-triangle-down">
    <path d="m4.427 7.427 3.396 3.396a.25.25 0 0 0 .354 0l3.396-3.396A.25.25 0 0 0 11.396 7H4.604a.25.25 0 0 0-.177.427Z"></path>
</svg></span>
  </span>
</button><tool-tip id="tooltip-2b157294-7a5d-4e4d-9aa7-50f7b7d69771" for="global-create-menu-anchor" popover="manual" data-direction="s" data-type="description" data-view-component="true" class="sr-only position-absolute" role="tooltip"><template shadowrootmode="open"><style>
      :host {
        --tooltip-top: var(--tool-tip-position-top, 0);
        --tooltip-left: var(--tool-tip-position-left, 0);
        padding: var(--overlay-paddingBlock-condensed) var(--overlay-padding-condensed) !important;
        font: var(--text-body-shorthand-small);
        color: var(--tooltip-fgColor, var(--fgColor-onEmphasis)) !important;
        text-align: center;
        text-decoration: none;
        text-shadow: none;
        text-transform: none;
        letter-spacing: normal;
        word-wrap: break-word;
        white-space: pre;
        background: var(--tooltip-bgColor, var(--bgColor-emphasis)) !important;
        border-radius: var(--borderRadius-medium);
        border: 0 !important;
        opacity: 0;
        max-width: var(--overlay-width-small);
        word-wrap: break-word;
        white-space: normal;
        width: max-content !important;
        inset: var(--tooltip-top) auto auto var(--tooltip-left) !important;
        overflow: visible !important;
        text-wrap: balance;
      }

      :host(:is(.tooltip-n, .tooltip-nw, .tooltip-ne)) {
        --tooltip-top: calc(var(--tool-tip-position-top, 0) - var(--overlay-offset, 0.25rem));
        --tooltip-left: var(--tool-tip-position-left);
      }

      :host(:is(.tooltip-s, .tooltip-sw, .tooltip-se)) {
        --tooltip-top: calc(var(--tool-tip-position-top, 0) + var(--overlay-offset, 0.25rem));
        --tooltip-left: var(--tool-tip-position-left);
      }

      :host(.tooltip-w) {
        --tooltip-top: var(--tool-tip-position-top);
        --tooltip-left: calc(var(--tool-tip-position-left, 0) - var(--overlay-offset, 0.25rem));
      }

      :host(.tooltip-e) {
        --tooltip-top: var(--tool-tip-position-top);
        --tooltip-left: calc(var(--tool-tip-position-left, 0) + var(--overlay-offset, 0.25rem));
      }

      :host:after{
        position: absolute;
        display: block;
        right: 0;
        left: 0;
        height: var(--overlay-offset, 0.25rem);
        content: "";
      }

      :host(.tooltip-s):after,
      :host(.tooltip-se):after,
      :host(.tooltip-sw):after {
        bottom: 100%
      }

      :host(.tooltip-n):after,
      :host(.tooltip-ne):after,
      :host(.tooltip-nw):after {
        top: 100%;
      }

      @keyframes tooltip-appear {
        from {
          opacity: 0;
        }
        to {
          opacity: 1;
        }
      }

      :host(:popover-open),
      :host(:popover-open):before {
        animation-name: tooltip-appear;
        animation-duration: .1s;
        animation-fill-mode: forwards;
        animation-timing-function: ease-in;
      }

      :host(.\:popover-open) {
        animation-name: tooltip-appear;
        animation-duration: .1s;
        animation-fill-mode: forwards;
        animation-timing-function: ease-in;
      }

      @media (forced-colors: active) {
        :host {
          outline: solid 1px transparent;
        }

        :host:before {
          display: none;
        }
      }
    </style><slot></slot></template>Create new…</tool-tip>

      
    
        <link crossorigin="anonymous" media="all" rel="stylesheet" href="./Greedy_BFS_files/primer-react.bde96664bd5edb566a4a.module.css">
<link crossorigin="anonymous" media="all" rel="stylesheet" href="./Greedy_BFS_files/global-create-menu.091342d12267a9316908.module.css">

<react-partial partial-name="global-create-menu" data-ssr="false" data-attempted-ssr="false" data-react-profiling="false" data-catalyst="" class="loaded">
  
  <script type="application/json" data-target="react-partial.embeddedData">{"props":{"createRepo":true,"importRepo":true,"codespaces":true,"spark":false,"codingAgent":false,"gist":true,"createOrg":true,"createProject":false,"createProjectUrl":"/Anushri488?tab=projects","createLegacyProject":false,"createIssue":true,"org":null,"owner":"aruntakhur","repo":"SitareUniversity"}}</script>
  <div data-target="react-partial.reactRoot"><script type="application/json" id="__PRIMER_DATA_:r16:__">{"resolvedServerColorMode":"day"}</script></div>
</react-partial>


      </react-partial-anchor>


            <a href="https://github.com/issues" data-analytics-event="{&quot;category&quot;:&quot;Global navigation&quot;,&quot;action&quot;:&quot;ISSUES_HEADER&quot;,&quot;label&quot;:null}" id="icon-button-eecce2f2-274c-4d0b-bdd3-9651d9482e99" aria-labelledby="tooltip-c478644e-aa61-48a5-8c24-8370f1a4a0e8" data-view-component="true" class="Button Button--iconOnly Button--secondary Button--medium AppHeader-button color-fg-muted">  <svg aria-hidden="true" height="16" viewBox="0 0 16 16" version="1.1" width="16" data-view-component="true" class="octicon octicon-issue-opened Button-visual">
    <path d="M8 9.5a1.5 1.5 0 1 0 0-3 1.5 1.5 0 0 0 0 3Z"></path><path d="M8 0a8 8 0 1 1 0 16A8 8 0 0 1 8 0ZM1.5 8a6.5 6.5 0 1 0 13 0 6.5 6.5 0 0 0-13 0Z"></path>
</svg>
</a><tool-tip id="tooltip-c478644e-aa61-48a5-8c24-8370f1a4a0e8" for="icon-button-eecce2f2-274c-4d0b-bdd3-9651d9482e99" popover="manual" data-direction="s" data-type="label" data-view-component="true" class="sr-only position-absolute" aria-hidden="true" role="tooltip"><template shadowrootmode="open"><style>
      :host {
        --tooltip-top: var(--tool-tip-position-top, 0);
        --tooltip-left: var(--tool-tip-position-left, 0);
        padding: var(--overlay-paddingBlock-condensed) var(--overlay-padding-condensed) !important;
        font: var(--text-body-shorthand-small);
        color: var(--tooltip-fgColor, var(--fgColor-onEmphasis)) !important;
        text-align: center;
        text-decoration: none;
        text-shadow: none;
        text-transform: none;
        letter-spacing: normal;
        word-wrap: break-word;
        white-space: pre;
        background: var(--tooltip-bgColor, var(--bgColor-emphasis)) !important;
        border-radius: var(--borderRadius-medium);
        border: 0 !important;
        opacity: 0;
        max-width: var(--overlay-width-small);
        word-wrap: break-word;
        white-space: normal;
        width: max-content !important;
        inset: var(--tooltip-top) auto auto var(--tooltip-left) !important;
        overflow: visible !important;
        text-wrap: balance;
      }

      :host(:is(.tooltip-n, .tooltip-nw, .tooltip-ne)) {
        --tooltip-top: calc(var(--tool-tip-position-top, 0) - var(--overlay-offset, 0.25rem));
        --tooltip-left: var(--tool-tip-position-left);
      }

      :host(:is(.tooltip-s, .tooltip-sw, .tooltip-se)) {
        --tooltip-top: calc(var(--tool-tip-position-top, 0) + var(--overlay-offset, 0.25rem));
        --tooltip-left: var(--tool-tip-position-left);
      }

      :host(.tooltip-w) {
        --tooltip-top: var(--tool-tip-position-top);
        --tooltip-left: calc(var(--tool-tip-position-left, 0) - var(--overlay-offset, 0.25rem));
      }

      :host(.tooltip-e) {
        --tooltip-top: var(--tool-tip-position-top);
        --tooltip-left: calc(var(--tool-tip-position-left, 0) + var(--overlay-offset, 0.25rem));
      }

      :host:after{
        position: absolute;
        display: block;
        right: 0;
        left: 0;
        height: var(--overlay-offset, 0.25rem);
        content: "";
      }

      :host(.tooltip-s):after,
      :host(.tooltip-se):after,
      :host(.tooltip-sw):after {
        bottom: 100%
      }

      :host(.tooltip-n):after,
      :host(.tooltip-ne):after,
      :host(.tooltip-nw):after {
        top: 100%;
      }

      @keyframes tooltip-appear {
        from {
          opacity: 0;
        }
        to {
          opacity: 1;
        }
      }

      :host(:popover-open),
      :host(:popover-open):before {
        animation-name: tooltip-appear;
        animation-duration: .1s;
        animation-fill-mode: forwards;
        animation-timing-function: ease-in;
      }

      :host(.\:popover-open) {
        animation-name: tooltip-appear;
        animation-duration: .1s;
        animation-fill-mode: forwards;
        animation-timing-function: ease-in;
      }

      @media (forced-colors: active) {
        :host {
          outline: solid 1px transparent;
        }

        :host:before {
          display: none;
        }
      }
    </style><slot></slot></template>Your issues</tool-tip>

            <a href="https://github.com/pulls" data-analytics-event="{&quot;category&quot;:&quot;Global navigation&quot;,&quot;action&quot;:&quot;PULL_REQUESTS_HEADER&quot;,&quot;label&quot;:null}" id="icon-button-058a42b4-0704-43aa-b572-4d805f6a716b" aria-labelledby="tooltip-d830ad98-f8d1-4c85-95cf-e0becf6ba1e7" data-view-component="true" class="Button Button--iconOnly Button--secondary Button--medium AppHeader-button color-fg-muted">  <svg aria-hidden="true" height="16" viewBox="0 0 16 16" version="1.1" width="16" data-view-component="true" class="octicon octicon-git-pull-request Button-visual">
    <path d="M1.5 3.25a2.25 2.25 0 1 1 3 2.122v5.256a2.251 2.251 0 1 1-1.5 0V5.372A2.25 2.25 0 0 1 1.5 3.25Zm5.677-.177L9.573.677A.25.25 0 0 1 10 .854V2.5h1A2.5 2.5 0 0 1 13.5 5v5.628a2.251 2.251 0 1 1-1.5 0V5a1 1 0 0 0-1-1h-1v1.646a.25.25 0 0 1-.427.177L7.177 3.427a.25.25 0 0 1 0-.354ZM3.75 2.5a.75.75 0 1 0 0 1.5.75.75 0 0 0 0-1.5Zm0 9.5a.75.75 0 1 0 0 1.5.75.75 0 0 0 0-1.5Zm8.25.75a.75.75 0 1 0 1.5 0 .75.75 0 0 0-1.5 0Z"></path>
</svg>
</a><tool-tip id="tooltip-d830ad98-f8d1-4c85-95cf-e0becf6ba1e7" for="icon-button-058a42b4-0704-43aa-b572-4d805f6a716b" popover="manual" data-direction="s" data-type="label" data-view-component="true" class="sr-only position-absolute" aria-hidden="true" role="tooltip"><template shadowrootmode="open"><style>
      :host {
        --tooltip-top: var(--tool-tip-position-top, 0);
        --tooltip-left: var(--tool-tip-position-left, 0);
        padding: var(--overlay-paddingBlock-condensed) var(--overlay-padding-condensed) !important;
        font: var(--text-body-shorthand-small);
        color: var(--tooltip-fgColor, var(--fgColor-onEmphasis)) !important;
        text-align: center;
        text-decoration: none;
        text-shadow: none;
        text-transform: none;
        letter-spacing: normal;
        word-wrap: break-word;
        white-space: pre;
        background: var(--tooltip-bgColor, var(--bgColor-emphasis)) !important;
        border-radius: var(--borderRadius-medium);
        border: 0 !important;
        opacity: 0;
        max-width: var(--overlay-width-small);
        word-wrap: break-word;
        white-space: normal;
        width: max-content !important;
        inset: var(--tooltip-top) auto auto var(--tooltip-left) !important;
        overflow: visible !important;
        text-wrap: balance;
      }

      :host(:is(.tooltip-n, .tooltip-nw, .tooltip-ne)) {
        --tooltip-top: calc(var(--tool-tip-position-top, 0) - var(--overlay-offset, 0.25rem));
        --tooltip-left: var(--tool-tip-position-left);
      }

      :host(:is(.tooltip-s, .tooltip-sw, .tooltip-se)) {
        --tooltip-top: calc(var(--tool-tip-position-top, 0) + var(--overlay-offset, 0.25rem));
        --tooltip-left: var(--tool-tip-position-left);
      }

      :host(.tooltip-w) {
        --tooltip-top: var(--tool-tip-position-top);
        --tooltip-left: calc(var(--tool-tip-position-left, 0) - var(--overlay-offset, 0.25rem));
      }

      :host(.tooltip-e) {
        --tooltip-top: var(--tool-tip-position-top);
        --tooltip-left: calc(var(--tool-tip-position-left, 0) + var(--overlay-offset, 0.25rem));
      }

      :host:after{
        position: absolute;
        display: block;
        right: 0;
        left: 0;
        height: var(--overlay-offset, 0.25rem);
        content: "";
      }

      :host(.tooltip-s):after,
      :host(.tooltip-se):after,
      :host(.tooltip-sw):after {
        bottom: 100%
      }

      :host(.tooltip-n):after,
      :host(.tooltip-ne):after,
      :host(.tooltip-nw):after {
        top: 100%;
      }

      @keyframes tooltip-appear {
        from {
          opacity: 0;
        }
        to {
          opacity: 1;
        }
      }

      :host(:popover-open),
      :host(:popover-open):before {
        animation-name: tooltip-appear;
        animation-duration: .1s;
        animation-fill-mode: forwards;
        animation-timing-function: ease-in;
      }

      :host(.\:popover-open) {
        animation-name: tooltip-appear;
        animation-duration: .1s;
        animation-fill-mode: forwards;
        animation-timing-function: ease-in;
      }

      @media (forced-colors: active) {
        :host {
          outline: solid 1px transparent;
        }

        :host:before {
          display: none;
        }
      }
    </style><slot></slot></template>Your pull requests</tool-tip>

        </div>

          <notification-indicator data-channel="eyJjIjoibm90aWZpY2F0aW9uLWNoYW5nZWQ6MTg2MDQzMDExIiwidCI6MTc1NzUyMzIzNH0=--6aa4276c1ca44418219b95457322574dfb3720e0b951d581dd045c0c759fec63" data-indicator-mode="none" data-tooltip-global="You have unread notifications" data-tooltip-unavailable="Notifications are unavailable at the moment." data-tooltip-none="You have no unread notifications" data-header-redesign-enabled="true" data-fetch-indicator-src="/notifications/indicator" data-fetch-indicator-enabled="true" data-view-component="true" class="js-socket-channel" data-fetch-retry-delay-time="500" data-catalyst="">
    <a id="AppHeader-notifications-button" href="https://github.com/notifications" aria-labelledby="notification-indicator-tooltip" data-hotkey="g n" data-target="notification-indicator.link" data-analytics-event="{&quot;category&quot;:&quot;Global navigation&quot;,&quot;action&quot;:&quot;NOTIFICATIONS_HEADER&quot;,&quot;label&quot;:&quot;icon:read&quot;}" data-view-component="true" class="Button Button--iconOnly Button--secondary Button--medium AppHeader-button color-fg-muted">  <svg aria-hidden="true" height="16" viewBox="0 0 16 16" version="1.1" width="16" data-view-component="true" class="octicon octicon-inbox Button-visual">
    <path d="M2.8 2.06A1.75 1.75 0 0 1 4.41 1h7.18c.7 0 1.333.417 1.61 1.06l2.74 6.395c.04.093.06.194.06.295v4.5A1.75 1.75 0 0 1 14.25 15H1.75A1.75 1.75 0 0 1 0 13.25v-4.5c0-.101.02-.202.06-.295Zm1.61.44a.25.25 0 0 0-.23.152L1.887 8H4.75a.75.75 0 0 1 .6.3L6.625 10h2.75l1.275-1.7a.75.75 0 0 1 .6-.3h2.863L11.82 2.652a.25.25 0 0 0-.23-.152Zm10.09 7h-2.875l-1.275 1.7a.75.75 0 0 1-.6.3h-3.5a.75.75 0 0 1-.6-.3L4.375 9.5H1.5v3.75c0 .138.112.25.25.25h12.5a.25.25 0 0 0 .25-.25Z"></path>
</svg>
</a>

    <tool-tip id="notification-indicator-tooltip" data-target="notification-indicator.tooltip" for="AppHeader-notifications-button" popover="manual" data-direction="s" data-type="label" data-view-component="true" class="sr-only position-absolute" aria-hidden="true" role="tooltip"><template shadowrootmode="open"><style>
      :host {
        --tooltip-top: var(--tool-tip-position-top, 0);
        --tooltip-left: var(--tool-tip-position-left, 0);
        padding: var(--overlay-paddingBlock-condensed) var(--overlay-padding-condensed) !important;
        font: var(--text-body-shorthand-small);
        color: var(--tooltip-fgColor, var(--fgColor-onEmphasis)) !important;
        text-align: center;
        text-decoration: none;
        text-shadow: none;
        text-transform: none;
        letter-spacing: normal;
        word-wrap: break-word;
        white-space: pre;
        background: var(--tooltip-bgColor, var(--bgColor-emphasis)) !important;
        border-radius: var(--borderRadius-medium);
        border: 0 !important;
        opacity: 0;
        max-width: var(--overlay-width-small);
        word-wrap: break-word;
        white-space: normal;
        width: max-content !important;
        inset: var(--tooltip-top) auto auto var(--tooltip-left) !important;
        overflow: visible !important;
        text-wrap: balance;
      }

      :host(:is(.tooltip-n, .tooltip-nw, .tooltip-ne)) {
        --tooltip-top: calc(var(--tool-tip-position-top, 0) - var(--overlay-offset, 0.25rem));
        --tooltip-left: var(--tool-tip-position-left);
      }

      :host(:is(.tooltip-s, .tooltip-sw, .tooltip-se)) {
        --tooltip-top: calc(var(--tool-tip-position-top, 0) + var(--overlay-offset, 0.25rem));
        --tooltip-left: var(--tool-tip-position-left);
      }

      :host(.tooltip-w) {
        --tooltip-top: var(--tool-tip-position-top);
        --tooltip-left: calc(var(--tool-tip-position-left, 0) - var(--overlay-offset, 0.25rem));
      }

      :host(.tooltip-e) {
        --tooltip-top: var(--tool-tip-position-top);
        --tooltip-left: calc(var(--tool-tip-position-left, 0) + var(--overlay-offset, 0.25rem));
      }

      :host:after{
        position: absolute;
        display: block;
        right: 0;
        left: 0;
        height: var(--overlay-offset, 0.25rem);
        content: "";
      }

      :host(.tooltip-s):after,
      :host(.tooltip-se):after,
      :host(.tooltip-sw):after {
        bottom: 100%
      }

      :host(.tooltip-n):after,
      :host(.tooltip-ne):after,
      :host(.tooltip-nw):after {
        top: 100%;
      }

      @keyframes tooltip-appear {
        from {
          opacity: 0;
        }
        to {
          opacity: 1;
        }
      }

      :host(:popover-open),
      :host(:popover-open):before {
        animation-name: tooltip-appear;
        animation-duration: .1s;
        animation-fill-mode: forwards;
        animation-timing-function: ease-in;
      }

      :host(.\:popover-open) {
        animation-name: tooltip-appear;
        animation-duration: .1s;
        animation-fill-mode: forwards;
        animation-timing-function: ease-in;
      }

      @media (forced-colors: active) {
        :host {
          outline: solid 1px transparent;
        }

        :host:before {
          display: none;
        }
      }
    </style><slot></slot></template>You have no unread notifications</tool-tip>
</notification-indicator>

        <div class="AppHeader-user">
          <deferred-side-panel data-url="/_side-panels/user?repository_id=1040478506" data-catalyst="">
  <include-fragment data-target="deferred-side-panel.fragment" data-nonce="v2:e7f6bdf8-2a57-f824-f9e5-207a88b937e4" data-view-component="true"><template shadowrootmode="open"><style>:host {display: block;}</style><slot></slot></template>
  
    <react-partial-anchor data-catalyst="">
  <button data-target="react-partial-anchor.anchor" data-login="Anushri488" aria-label="Open user navigation menu" type="button" data-view-component="true" class="Button--invisible Button--medium Button Button--invisible-noVisuals color-bg-transparent p-0" aria-expanded="false" aria-haspopup="true">  <span class="Button-content">
    <span class="Button-label"><img src="./Greedy_BFS_files/186043011" alt="" size="32" height="32" width="32" data-view-component="true" class="avatar circle"></span>
  </span>
</button>
  

    <link crossorigin="anonymous" media="all" rel="stylesheet" href="./Greedy_BFS_files/primer-react.bde96664bd5edb566a4a.module.css">
<link crossorigin="anonymous" media="all" rel="stylesheet" href="./Greedy_BFS_files/global-user-nav-drawer.d4f749af87a00c38a832.module.css">

<react-partial partial-name="global-user-nav-drawer" data-ssr="false" data-attempted-ssr="false" data-react-profiling="false" data-catalyst="" class="loaded">
  
  <script type="application/json" data-target="react-partial.embeddedData">{"props":{"owner":{"login":"Anushri488","name":null,"avatarUrl":"https://avatars.githubusercontent.com/u/186043011?v=4"},"drawerId":"global-user-nav-drawer","lazyLoadItemDataFetchUrl":"/_side-panels/user.json","canAddAccount":true,"addAccountPath":"/login?add_account=1\u0026return_to=https%3A%2F%2Fgithub.com%2Faruntakhur%2FSitareUniversity%2Fblob%2Fmain%2FDFS_AI_2025.ipynb","switchAccountPath":"/switch_account","loginAccountPath":"/login?add_account=1","projectsPath":"/Anushri488?tab=projects","gistsUrl":"https://gist.github.com/mine","docsUrl":"https://docs.github.com","yourEnterpriseUrl":null,"enterpriseSettingsUrl":null,"supportUrl":"https://support.github.com","showAccountSwitcher":true,"showCopilot":true,"showEnterprises":true,"showEnterprise":false,"showGithubMCPServerCTA":false,"showGists":true,"showOrganizations":true,"showSponsors":true,"showUpgrade":true,"showFeaturesPreviews":true,"showEnterpriseSettings":false,"createMenuProps":{"createRepo":true,"importRepo":true,"codespaces":true,"spark":false,"codingAgent":false,"gist":true,"createOrg":true,"createProject":false,"createProjectUrl":"/Anushri488?tab=projects","createLegacyProject":false,"createIssue":true,"org":null,"owner":"aruntakhur","repo":"SitareUniversity"}}}</script>
  <div data-target="react-partial.reactRoot"><script type="application/json" id="__PRIMER_DATA_:r19:__">{"resolvedServerColorMode":"day"}</script></div>
</react-partial>


  </react-partial-anchor>


  <div data-show-on-forbidden-error="" hidden="">
    <div class="Box">
  <div class="blankslate-container">
    <div data-view-component="true" class="blankslate blankslate-spacious color-bg-default rounded-2">
      

      <h3 data-view-component="true" class="blankslate-heading">        Uh oh!
</h3>
      <p data-view-component="true">        </p><p class="color-fg-muted my-2 mb-2 ws-normal">There was an error while loading. <a class="Link--inTextBlock" data-turbo="false" href="https://github.com/aruntakhur/SitareUniversity/blob/main/GreedyBFS_AI_2025.ipynb" aria-label="Please reload this page">Please reload this page</a>.</p>
<p></p>

</div>  </div>
</div>  </div>
</include-fragment></deferred-side-panel>
        </div>

        <div class="position-absolute mt-2">
            
<site-header-logged-in-user-menu data-catalyst="">

</site-header-logged-in-user-menu>

        </div>
      </div>
    </div>


    
        <div class="AppHeader-localBar">
          <nav data-pjax="#js-repo-pjax-container" aria-label="Repository" data-view-component="true" class="js-repo-nav js-sidenav-container-pjax js-responsive-underlinenav overflow-hidden UnderlineNav">

  <ul data-view-component="true" class="UnderlineNav-body list-style-none">
      <li data-view-component="true" class="d-inline-flex">
  <a id="code-tab" href="https://github.com/aruntakhur/SitareUniversity" data-tab-item="i0code-tab" data-selected-links="repo_source repo_downloads repo_commits repo_releases repo_tags repo_branches repo_packages repo_deployments repo_attestations /aruntakhur/SitareUniversity" data-pjax="#repo-content-pjax-container" data-turbo-frame="repo-content-turbo-frame" data-hotkey="g c" data-analytics-event="{&quot;category&quot;:&quot;Underline navbar&quot;,&quot;action&quot;:&quot;Click tab&quot;,&quot;label&quot;:&quot;Code&quot;,&quot;target&quot;:&quot;UNDERLINE_NAV.TAB&quot;}" data-view-component="true" class="UnderlineNav-item no-wrap js-responsive-underlinenav-item js-selected-navigation-item selected" aria-current="page">
    
              <svg aria-hidden="true" height="16" viewBox="0 0 16 16" version="1.1" width="16" data-view-component="true" class="octicon octicon-code UnderlineNav-octicon d-none d-sm-inline">
    <path d="m11.28 3.22 4.25 4.25a.75.75 0 0 1 0 1.06l-4.25 4.25a.749.749 0 0 1-1.275-.326.749.749 0 0 1 .215-.734L13.94 8l-3.72-3.72a.749.749 0 0 1 .326-1.275.749.749 0 0 1 .734.215Zm-6.56 0a.751.751 0 0 1 1.042.018.751.751 0 0 1 .018 1.042L2.06 8l3.72 3.72a.749.749 0 0 1-.326 1.275.749.749 0 0 1-.734-.215L.47 8.53a.75.75 0 0 1 0-1.06Z"></path>
</svg>
        <span data-content="Code">Code</span>
          <span id="code-repo-tab-count" data-pjax-replace="" data-turbo-replace="" title="Not available" data-view-component="true" class="Counter"></span>


    
</a></li>
      <li data-view-component="true" class="d-inline-flex">
  <a id="issues-tab" href="https://github.com/aruntakhur/SitareUniversity/issues" data-tab-item="i1issues-tab" data-selected-links="repo_issues repo_labels repo_milestones /aruntakhur/SitareUniversity/issues" data-pjax="#repo-content-pjax-container" data-turbo-frame="repo-content-turbo-frame" data-hotkey="g i" data-analytics-event="{&quot;category&quot;:&quot;Underline navbar&quot;,&quot;action&quot;:&quot;Click tab&quot;,&quot;label&quot;:&quot;Issues&quot;,&quot;target&quot;:&quot;UNDERLINE_NAV.TAB&quot;}" data-view-component="true" class="UnderlineNav-item no-wrap js-responsive-underlinenav-item js-selected-navigation-item">
    
              <svg aria-hidden="true" height="16" viewBox="0 0 16 16" version="1.1" width="16" data-view-component="true" class="octicon octicon-issue-opened UnderlineNav-octicon d-none d-sm-inline">
    <path d="M8 9.5a1.5 1.5 0 1 0 0-3 1.5 1.5 0 0 0 0 3Z"></path><path d="M8 0a8 8 0 1 1 0 16A8 8 0 0 1 8 0ZM1.5 8a6.5 6.5 0 1 0 13 0 6.5 6.5 0 0 0-13 0Z"></path>
</svg>
        <span data-content="Issues">Issues</span>
          <span id="issues-repo-tab-count" data-pjax-replace="" data-turbo-replace="" title="0" hidden="hidden" data-view-component="true" class="Counter">0</span>


    
</a></li>
      <li data-view-component="true" class="d-inline-flex">
  <a id="pull-requests-tab" href="https://github.com/aruntakhur/SitareUniversity/pulls" data-tab-item="i2pull-requests-tab" data-selected-links="repo_pulls checks /aruntakhur/SitareUniversity/pulls" data-pjax="#repo-content-pjax-container" data-turbo-frame="repo-content-turbo-frame" data-hotkey="g p" data-analytics-event="{&quot;category&quot;:&quot;Underline navbar&quot;,&quot;action&quot;:&quot;Click tab&quot;,&quot;label&quot;:&quot;Pull requests&quot;,&quot;target&quot;:&quot;UNDERLINE_NAV.TAB&quot;}" data-view-component="true" class="UnderlineNav-item no-wrap js-responsive-underlinenav-item js-selected-navigation-item">
    
              <svg aria-hidden="true" height="16" viewBox="0 0 16 16" version="1.1" width="16" data-view-component="true" class="octicon octicon-git-pull-request UnderlineNav-octicon d-none d-sm-inline">
    <path d="M1.5 3.25a2.25 2.25 0 1 1 3 2.122v5.256a2.251 2.251 0 1 1-1.5 0V5.372A2.25 2.25 0 0 1 1.5 3.25Zm5.677-.177L9.573.677A.25.25 0 0 1 10 .854V2.5h1A2.5 2.5 0 0 1 13.5 5v5.628a2.251 2.251 0 1 1-1.5 0V5a1 1 0 0 0-1-1h-1v1.646a.25.25 0 0 1-.427.177L7.177 3.427a.25.25 0 0 1 0-.354ZM3.75 2.5a.75.75 0 1 0 0 1.5.75.75 0 0 0 0-1.5Zm0 9.5a.75.75 0 1 0 0 1.5.75.75 0 0 0 0-1.5Zm8.25.75a.75.75 0 1 0 1.5 0 .75.75 0 0 0-1.5 0Z"></path>
</svg>
        <span data-content="Pull requests">Pull requests</span>
          <span id="pull-requests-repo-tab-count" data-pjax-replace="" data-turbo-replace="" title="0" hidden="hidden" data-view-component="true" class="Counter">0</span>


    
</a></li>
      <li data-view-component="true" class="d-inline-flex">
  <a id="actions-tab" href="https://github.com/aruntakhur/SitareUniversity/actions" data-tab-item="i3actions-tab" data-selected-links="repo_actions /aruntakhur/SitareUniversity/actions" data-pjax="#repo-content-pjax-container" data-turbo-frame="repo-content-turbo-frame" data-hotkey="g a" data-analytics-event="{&quot;category&quot;:&quot;Underline navbar&quot;,&quot;action&quot;:&quot;Click tab&quot;,&quot;label&quot;:&quot;Actions&quot;,&quot;target&quot;:&quot;UNDERLINE_NAV.TAB&quot;}" data-view-component="true" class="UnderlineNav-item no-wrap js-responsive-underlinenav-item js-selected-navigation-item">
    
              <svg aria-hidden="true" height="16" viewBox="0 0 16 16" version="1.1" width="16" data-view-component="true" class="octicon octicon-play UnderlineNav-octicon d-none d-sm-inline">
    <path d="M8 0a8 8 0 1 1 0 16A8 8 0 0 1 8 0ZM1.5 8a6.5 6.5 0 1 0 13 0 6.5 6.5 0 0 0-13 0Zm4.879-2.773 4.264 2.559a.25.25 0 0 1 0 .428l-4.264 2.559A.25.25 0 0 1 6 10.559V5.442a.25.25 0 0 1 .379-.215Z"></path>
</svg>
        <span data-content="Actions">Actions</span>
          <span id="actions-repo-tab-count" data-pjax-replace="" data-turbo-replace="" title="Not available" data-view-component="true" class="Counter"></span>


    
</a></li>
      <li data-view-component="true" class="d-inline-flex">
  <a id="projects-tab" href="https://github.com/aruntakhur/SitareUniversity/projects" data-tab-item="i4projects-tab" data-selected-links="repo_projects new_repo_project repo_project /aruntakhur/SitareUniversity/projects" data-pjax="#repo-content-pjax-container" data-turbo-frame="repo-content-turbo-frame" data-hotkey="g b" data-analytics-event="{&quot;category&quot;:&quot;Underline navbar&quot;,&quot;action&quot;:&quot;Click tab&quot;,&quot;label&quot;:&quot;Projects&quot;,&quot;target&quot;:&quot;UNDERLINE_NAV.TAB&quot;}" data-view-component="true" class="UnderlineNav-item no-wrap js-responsive-underlinenav-item js-selected-navigation-item">
    
              <svg aria-hidden="true" height="16" viewBox="0 0 16 16" version="1.1" width="16" data-view-component="true" class="octicon octicon-table UnderlineNav-octicon d-none d-sm-inline">
    <path d="M0 1.75C0 .784.784 0 1.75 0h12.5C15.216 0 16 .784 16 1.75v12.5A1.75 1.75 0 0 1 14.25 16H1.75A1.75 1.75 0 0 1 0 14.25ZM6.5 6.5v8h7.75a.25.25 0 0 0 .25-.25V6.5Zm8-1.5V1.75a.25.25 0 0 0-.25-.25H6.5V5Zm-13 1.5v7.75c0 .138.112.25.25.25H5v-8ZM5 5V1.5H1.75a.25.25 0 0 0-.25.25V5Z"></path>
</svg>
        <span data-content="Projects">Projects</span>
          <span id="projects-repo-tab-count" data-pjax-replace="" data-turbo-replace="" title="0" hidden="hidden" data-view-component="true" class="Counter">0</span>


    
</a></li>
      <li data-view-component="true" class="d-inline-flex">
  <a id="security-tab" href="https://github.com/aruntakhur/SitareUniversity/security" data-tab-item="i5security-tab" data-selected-links="security overview alerts policy token_scanning code_scanning /aruntakhur/SitareUniversity/security" data-pjax="#repo-content-pjax-container" data-turbo-frame="repo-content-turbo-frame" data-hotkey="g s" data-analytics-event="{&quot;category&quot;:&quot;Underline navbar&quot;,&quot;action&quot;:&quot;Click tab&quot;,&quot;label&quot;:&quot;Security&quot;,&quot;target&quot;:&quot;UNDERLINE_NAV.TAB&quot;}" data-view-component="true" class="UnderlineNav-item no-wrap js-responsive-underlinenav-item js-selected-navigation-item">
    
              <svg aria-hidden="true" height="16" viewBox="0 0 16 16" version="1.1" width="16" data-view-component="true" class="octicon octicon-shield UnderlineNav-octicon d-none d-sm-inline">
    <path d="M7.467.133a1.748 1.748 0 0 1 1.066 0l5.25 1.68A1.75 1.75 0 0 1 15 3.48V7c0 1.566-.32 3.182-1.303 4.682-.983 1.498-2.585 2.813-5.032 3.855a1.697 1.697 0 0 1-1.33 0c-2.447-1.042-4.049-2.357-5.032-3.855C1.32 10.182 1 8.566 1 7V3.48a1.75 1.75 0 0 1 1.217-1.667Zm.61 1.429a.25.25 0 0 0-.153 0l-5.25 1.68a.25.25 0 0 0-.174.238V7c0 1.358.275 2.666 1.057 3.86.784 1.194 2.121 2.34 4.366 3.297a.196.196 0 0 0 .154 0c2.245-.956 3.582-2.104 4.366-3.298C13.225 9.666 13.5 8.36 13.5 7V3.48a.251.251 0 0 0-.174-.237l-5.25-1.68ZM8.75 4.75v3a.75.75 0 0 1-1.5 0v-3a.75.75 0 0 1 1.5 0ZM9 10.5a1 1 0 1 1-2 0 1 1 0 0 1 2 0Z"></path>
</svg>
        <span data-content="Security">Security</span>
          </a><div data-show-on-forbidden-error="" hidden=""><a id="security-tab" href="https://github.com/aruntakhur/SitareUniversity/security" data-tab-item="i5security-tab" data-selected-links="security overview alerts policy token_scanning code_scanning /aruntakhur/SitareUniversity/security" data-pjax="#repo-content-pjax-container" data-turbo-frame="repo-content-turbo-frame" data-hotkey="g s" data-analytics-event="{&quot;category&quot;:&quot;Underline navbar&quot;,&quot;action&quot;:&quot;Click tab&quot;,&quot;label&quot;:&quot;Security&quot;,&quot;target&quot;:&quot;UNDERLINE_NAV.TAB&quot;}" data-view-component="true" class="UnderlineNav-item no-wrap js-responsive-underlinenav-item js-selected-navigation-item">
    </a><div class="Box"><a id="security-tab" href="https://github.com/aruntakhur/SitareUniversity/security" data-tab-item="i5security-tab" data-selected-links="security overview alerts policy token_scanning code_scanning /aruntakhur/SitareUniversity/security" data-pjax="#repo-content-pjax-container" data-turbo-frame="repo-content-turbo-frame" data-hotkey="g s" data-analytics-event="{&quot;category&quot;:&quot;Underline navbar&quot;,&quot;action&quot;:&quot;Click tab&quot;,&quot;label&quot;:&quot;Security&quot;,&quot;target&quot;:&quot;UNDERLINE_NAV.TAB&quot;}" data-view-component="true" class="UnderlineNav-item no-wrap js-responsive-underlinenav-item js-selected-navigation-item">
  </a><div class="blankslate-container"><a id="security-tab" href="https://github.com/aruntakhur/SitareUniversity/security" data-tab-item="i5security-tab" data-selected-links="security overview alerts policy token_scanning code_scanning /aruntakhur/SitareUniversity/security" data-pjax="#repo-content-pjax-container" data-turbo-frame="repo-content-turbo-frame" data-hotkey="g s" data-analytics-event="{&quot;category&quot;:&quot;Underline navbar&quot;,&quot;action&quot;:&quot;Click tab&quot;,&quot;label&quot;:&quot;Security&quot;,&quot;target&quot;:&quot;UNDERLINE_NAV.TAB&quot;}" data-view-component="true" class="UnderlineNav-item no-wrap js-responsive-underlinenav-item js-selected-navigation-item">
    </a><div data-view-component="true" class="blankslate blankslate-spacious color-bg-default rounded-2"><a id="security-tab" href="https://github.com/aruntakhur/SitareUniversity/security" data-tab-item="i5security-tab" data-selected-links="security overview alerts policy token_scanning code_scanning /aruntakhur/SitareUniversity/security" data-pjax="#repo-content-pjax-container" data-turbo-frame="repo-content-turbo-frame" data-hotkey="g s" data-analytics-event="{&quot;category&quot;:&quot;Underline navbar&quot;,&quot;action&quot;:&quot;Click tab&quot;,&quot;label&quot;:&quot;Security&quot;,&quot;target&quot;:&quot;UNDERLINE_NAV.TAB&quot;}" data-view-component="true" class="UnderlineNav-item no-wrap js-responsive-underlinenav-item js-selected-navigation-item">
      

      <h3 data-view-component="true" class="blankslate-heading">        Uh oh!
</h3>
      <p data-view-component="true">        </p></a><p class="color-fg-muted my-2 mb-2 ws-normal"><a id="security-tab" href="https://github.com/aruntakhur/SitareUniversity/security" data-tab-item="i5security-tab" data-selected-links="security overview alerts policy token_scanning code_scanning /aruntakhur/SitareUniversity/security" data-pjax="#repo-content-pjax-container" data-turbo-frame="repo-content-turbo-frame" data-hotkey="g s" data-analytics-event="{&quot;category&quot;:&quot;Underline navbar&quot;,&quot;action&quot;:&quot;Click tab&quot;,&quot;label&quot;:&quot;Security&quot;,&quot;target&quot;:&quot;UNDERLINE_NAV.TAB&quot;}" data-view-component="true" class="UnderlineNav-item no-wrap js-responsive-underlinenav-item js-selected-navigation-item">There was an error while loading. </a><a class="Link--inTextBlock" data-turbo="false" href="https://github.com/aruntakhur/SitareUniversity/blob/main/GreedyBFS_AI_2025.ipynb" aria-label="Please reload this page">Please reload this page</a>.</p>
<p></p>

</div>  </div>
</div>  </div>


    
</li>
      <li data-view-component="true" class="d-inline-flex">
  <a id="insights-tab" href="https://github.com/aruntakhur/SitareUniversity/pulse" data-tab-item="i6insights-tab" data-selected-links="repo_graphs repo_contributors dependency_graph dependabot_updates pulse people community /aruntakhur/SitareUniversity/pulse" data-pjax="#repo-content-pjax-container" data-turbo-frame="repo-content-turbo-frame" data-analytics-event="{&quot;category&quot;:&quot;Underline navbar&quot;,&quot;action&quot;:&quot;Click tab&quot;,&quot;label&quot;:&quot;Insights&quot;,&quot;target&quot;:&quot;UNDERLINE_NAV.TAB&quot;}" data-view-component="true" class="UnderlineNav-item no-wrap js-responsive-underlinenav-item js-selected-navigation-item">
    
              <svg aria-hidden="true" height="16" viewBox="0 0 16 16" version="1.1" width="16" data-view-component="true" class="octicon octicon-graph UnderlineNav-octicon d-none d-sm-inline">
    <path d="M1.5 1.75V13.5h13.75a.75.75 0 0 1 0 1.5H.75a.75.75 0 0 1-.75-.75V1.75a.75.75 0 0 1 1.5 0Zm14.28 2.53-5.25 5.25a.75.75 0 0 1-1.06 0L7 7.06 4.28 9.78a.751.751 0 0 1-1.042-.018.751.751 0 0 1-.018-1.042l3.25-3.25a.75.75 0 0 1 1.06 0L10 7.94l4.72-4.72a.751.751 0 0 1 1.042.018.751.751 0 0 1 .018 1.042Z"></path>
</svg>
        <span data-content="Insights">Insights</span>
          <span id="insights-repo-tab-count" data-pjax-replace="" data-turbo-replace="" title="Not available" data-view-component="true" class="Counter"></span>


    
</a></li>
</ul>
    <div style="visibility:hidden;" data-view-component="true" class="UnderlineNav-actions js-responsive-underlinenav-overflow position-absolute pr-3 pr-md-4 pr-lg-5 right-0">      <action-menu data-select-variant="none" data-view-component="true" data-catalyst="" data-ready="true">
  <focus-group direction="vertical" mnemonics="" retain="">
    <button id="action-menu-b9315630-208b-4ed1-81b0-be6c9aeb13c1-button" popovertarget="action-menu-b9315630-208b-4ed1-81b0-be6c9aeb13c1-overlay" aria-controls="action-menu-b9315630-208b-4ed1-81b0-be6c9aeb13c1-list" aria-haspopup="true" aria-labelledby="tooltip-73fb0f93-8536-40e6-ab36-0d55a25dc636" type="button" data-view-component="true" class="Button Button--iconOnly Button--secondary Button--medium UnderlineNav-item">  <svg aria-hidden="true" height="16" viewBox="0 0 16 16" version="1.1" width="16" data-view-component="true" class="octicon octicon-kebab-horizontal Button-visual">
    <path d="M8 9a1.5 1.5 0 1 0 0-3 1.5 1.5 0 0 0 0 3ZM1.5 9a1.5 1.5 0 1 0 0-3 1.5 1.5 0 0 0 0 3Zm13 0a1.5 1.5 0 1 0 0-3 1.5 1.5 0 0 0 0 3Z"></path>
</svg>
</button><tool-tip id="tooltip-73fb0f93-8536-40e6-ab36-0d55a25dc636" for="action-menu-b9315630-208b-4ed1-81b0-be6c9aeb13c1-button" popover="manual" data-direction="s" data-type="label" data-view-component="true" class="sr-only position-absolute" aria-hidden="true" role="tooltip"><template shadowrootmode="open"><style>
      :host {
        --tooltip-top: var(--tool-tip-position-top, 0);
        --tooltip-left: var(--tool-tip-position-left, 0);
        padding: var(--overlay-paddingBlock-condensed) var(--overlay-padding-condensed) !important;
        font: var(--text-body-shorthand-small);
        color: var(--tooltip-fgColor, var(--fgColor-onEmphasis)) !important;
        text-align: center;
        text-decoration: none;
        text-shadow: none;
        text-transform: none;
        letter-spacing: normal;
        word-wrap: break-word;
        white-space: pre;
        background: var(--tooltip-bgColor, var(--bgColor-emphasis)) !important;
        border-radius: var(--borderRadius-medium);
        border: 0 !important;
        opacity: 0;
        max-width: var(--overlay-width-small);
        word-wrap: break-word;
        white-space: normal;
        width: max-content !important;
        inset: var(--tooltip-top) auto auto var(--tooltip-left) !important;
        overflow: visible !important;
        text-wrap: balance;
      }

      :host(:is(.tooltip-n, .tooltip-nw, .tooltip-ne)) {
        --tooltip-top: calc(var(--tool-tip-position-top, 0) - var(--overlay-offset, 0.25rem));
        --tooltip-left: var(--tool-tip-position-left);
      }

      :host(:is(.tooltip-s, .tooltip-sw, .tooltip-se)) {
        --tooltip-top: calc(var(--tool-tip-position-top, 0) + var(--overlay-offset, 0.25rem));
        --tooltip-left: var(--tool-tip-position-left);
      }

      :host(.tooltip-w) {
        --tooltip-top: var(--tool-tip-position-top);
        --tooltip-left: calc(var(--tool-tip-position-left, 0) - var(--overlay-offset, 0.25rem));
      }

      :host(.tooltip-e) {
        --tooltip-top: var(--tool-tip-position-top);
        --tooltip-left: calc(var(--tool-tip-position-left, 0) + var(--overlay-offset, 0.25rem));
      }

      :host:after{
        position: absolute;
        display: block;
        right: 0;
        left: 0;
        height: var(--overlay-offset, 0.25rem);
        content: "";
      }

      :host(.tooltip-s):after,
      :host(.tooltip-se):after,
      :host(.tooltip-sw):after {
        bottom: 100%
      }

      :host(.tooltip-n):after,
      :host(.tooltip-ne):after,
      :host(.tooltip-nw):after {
        top: 100%;
      }

      @keyframes tooltip-appear {
        from {
          opacity: 0;
        }
        to {
          opacity: 1;
        }
      }

      :host(:popover-open),
      :host(:popover-open):before {
        animation-name: tooltip-appear;
        animation-duration: .1s;
        animation-fill-mode: forwards;
        animation-timing-function: ease-in;
      }

      :host(.\:popover-open) {
        animation-name: tooltip-appear;
        animation-duration: .1s;
        animation-fill-mode: forwards;
        animation-timing-function: ease-in;
      }

      @media (forced-colors: active) {
        :host {
          outline: solid 1px transparent;
        }

        :host:before {
          display: none;
        }
      }
    </style><slot></slot></template>Additional navigation options</tool-tip>


<anchored-position data-target="action-menu.overlay" id="action-menu-b9315630-208b-4ed1-81b0-be6c9aeb13c1-overlay" anchor="action-menu-b9315630-208b-4ed1-81b0-be6c9aeb13c1-button" align="start" side="outside-bottom" anchor-offset="normal" popover="auto" data-view-component="true" style="inset: 36px auto auto 0px;">
  <div data-view-component="true" class="Overlay Overlay--size-auto">
    
      <div data-view-component="true" class="Overlay-body Overlay-body--paddingNone">          <action-list data-catalyst="">
  <div data-view-component="true">
    <ul aria-labelledby="action-menu-b9315630-208b-4ed1-81b0-be6c9aeb13c1-button" id="action-menu-b9315630-208b-4ed1-81b0-be6c9aeb13c1-list" role="menu" data-view-component="true" class="ActionListWrap--inset ActionListWrap">
        <li hidden="" data-menu-item="i0code-tab" data-targets="action-list.items" role="none" data-view-component="true" class="ActionListItem">
    
    
    <a tabindex="-1" id="item-b895d54b-db48-4bc8-a642-959ee913234a" href="https://github.com/aruntakhur/SitareUniversity" role="menuitem" data-view-component="true" class="ActionListContent ActionListContent--visual16">
        <span class="ActionListItem-visual ActionListItem-visual--leading">
          <svg aria-hidden="true" height="16" viewBox="0 0 16 16" version="1.1" width="16" data-view-component="true" class="octicon octicon-code">
    <path d="m11.28 3.22 4.25 4.25a.75.75 0 0 1 0 1.06l-4.25 4.25a.749.749 0 0 1-1.275-.326.749.749 0 0 1 .215-.734L13.94 8l-3.72-3.72a.749.749 0 0 1 .326-1.275.749.749 0 0 1 .734.215Zm-6.56 0a.751.751 0 0 1 1.042.018.751.751 0 0 1 .018 1.042L2.06 8l3.72 3.72a.749.749 0 0 1-.326 1.275.749.749 0 0 1-.734-.215L.47 8.53a.75.75 0 0 1 0-1.06Z"></path>
</svg>
        </span>
      
        <span data-view-component="true" class="ActionListItem-label">
          Code
</span>      
</a>
  
</li>
        <li hidden="" data-menu-item="i1issues-tab" data-targets="action-list.items" role="none" data-view-component="true" class="ActionListItem">
    
    
    <a tabindex="-1" id="item-3e1c3e4d-bed7-4ed8-86b0-780b6a362e47" href="https://github.com/aruntakhur/SitareUniversity/issues" role="menuitem" data-view-component="true" class="ActionListContent ActionListContent--visual16">
        <span class="ActionListItem-visual ActionListItem-visual--leading">
          <svg aria-hidden="true" height="16" viewBox="0 0 16 16" version="1.1" width="16" data-view-component="true" class="octicon octicon-issue-opened">
    <path d="M8 9.5a1.5 1.5 0 1 0 0-3 1.5 1.5 0 0 0 0 3Z"></path><path d="M8 0a8 8 0 1 1 0 16A8 8 0 0 1 8 0ZM1.5 8a6.5 6.5 0 1 0 13 0 6.5 6.5 0 0 0-13 0Z"></path>
</svg>
        </span>
      
        <span data-view-component="true" class="ActionListItem-label">
          Issues
</span>      
</a>
  
</li>
        <li hidden="" data-menu-item="i2pull-requests-tab" data-targets="action-list.items" role="none" data-view-component="true" class="ActionListItem">
    
    
    <a tabindex="-1" id="item-d338684d-366b-4de9-8976-969c8f5cb32a" href="https://github.com/aruntakhur/SitareUniversity/pulls" role="menuitem" data-view-component="true" class="ActionListContent ActionListContent--visual16">
        <span class="ActionListItem-visual ActionListItem-visual--leading">
          <svg aria-hidden="true" height="16" viewBox="0 0 16 16" version="1.1" width="16" data-view-component="true" class="octicon octicon-git-pull-request">
    <path d="M1.5 3.25a2.25 2.25 0 1 1 3 2.122v5.256a2.251 2.251 0 1 1-1.5 0V5.372A2.25 2.25 0 0 1 1.5 3.25Zm5.677-.177L9.573.677A.25.25 0 0 1 10 .854V2.5h1A2.5 2.5 0 0 1 13.5 5v5.628a2.251 2.251 0 1 1-1.5 0V5a1 1 0 0 0-1-1h-1v1.646a.25.25 0 0 1-.427.177L7.177 3.427a.25.25 0 0 1 0-.354ZM3.75 2.5a.75.75 0 1 0 0 1.5.75.75 0 0 0 0-1.5Zm0 9.5a.75.75 0 1 0 0 1.5.75.75 0 0 0 0-1.5Zm8.25.75a.75.75 0 1 0 1.5 0 .75.75 0 0 0-1.5 0Z"></path>
</svg>
        </span>
      
        <span data-view-component="true" class="ActionListItem-label">
          Pull requests
</span>      
</a>
  
</li>
        <li hidden="" data-menu-item="i3actions-tab" data-targets="action-list.items" role="none" data-view-component="true" class="ActionListItem">
    
    
    <a tabindex="-1" id="item-2995f290-97ef-427e-83c7-d4c607315701" href="https://github.com/aruntakhur/SitareUniversity/actions" role="menuitem" data-view-component="true" class="ActionListContent ActionListContent--visual16">
        <span class="ActionListItem-visual ActionListItem-visual--leading">
          <svg aria-hidden="true" height="16" viewBox="0 0 16 16" version="1.1" width="16" data-view-component="true" class="octicon octicon-play">
    <path d="M8 0a8 8 0 1 1 0 16A8 8 0 0 1 8 0ZM1.5 8a6.5 6.5 0 1 0 13 0 6.5 6.5 0 0 0-13 0Zm4.879-2.773 4.264 2.559a.25.25 0 0 1 0 .428l-4.264 2.559A.25.25 0 0 1 6 10.559V5.442a.25.25 0 0 1 .379-.215Z"></path>
</svg>
        </span>
      
        <span data-view-component="true" class="ActionListItem-label">
          Actions
</span>      
</a>
  
</li>
        <li hidden="" data-menu-item="i4projects-tab" data-targets="action-list.items" role="none" data-view-component="true" class="ActionListItem">
    
    
    <a tabindex="-1" id="item-bf3253b3-2e4e-45df-bf44-927adf7e8f1c" href="https://github.com/aruntakhur/SitareUniversity/projects" role="menuitem" data-view-component="true" class="ActionListContent ActionListContent--visual16">
        <span class="ActionListItem-visual ActionListItem-visual--leading">
          <svg aria-hidden="true" height="16" viewBox="0 0 16 16" version="1.1" width="16" data-view-component="true" class="octicon octicon-table">
    <path d="M0 1.75C0 .784.784 0 1.75 0h12.5C15.216 0 16 .784 16 1.75v12.5A1.75 1.75 0 0 1 14.25 16H1.75A1.75 1.75 0 0 1 0 14.25ZM6.5 6.5v8h7.75a.25.25 0 0 0 .25-.25V6.5Zm8-1.5V1.75a.25.25 0 0 0-.25-.25H6.5V5Zm-13 1.5v7.75c0 .138.112.25.25.25H5v-8ZM5 5V1.5H1.75a.25.25 0 0 0-.25.25V5Z"></path>
</svg>
        </span>
      
        <span data-view-component="true" class="ActionListItem-label">
          Projects
</span>      
</a>
  
</li>
        <li hidden="" data-menu-item="i5security-tab" data-targets="action-list.items" role="none" data-view-component="true" class="ActionListItem">
    
    
    <a tabindex="-1" id="item-f8f22e76-7cd8-4200-ab1a-ad564a8ba898" href="https://github.com/aruntakhur/SitareUniversity/security" role="menuitem" data-view-component="true" class="ActionListContent ActionListContent--visual16">
        <span class="ActionListItem-visual ActionListItem-visual--leading">
          <svg aria-hidden="true" height="16" viewBox="0 0 16 16" version="1.1" width="16" data-view-component="true" class="octicon octicon-shield">
    <path d="M7.467.133a1.748 1.748 0 0 1 1.066 0l5.25 1.68A1.75 1.75 0 0 1 15 3.48V7c0 1.566-.32 3.182-1.303 4.682-.983 1.498-2.585 2.813-5.032 3.855a1.697 1.697 0 0 1-1.33 0c-2.447-1.042-4.049-2.357-5.032-3.855C1.32 10.182 1 8.566 1 7V3.48a1.75 1.75 0 0 1 1.217-1.667Zm.61 1.429a.25.25 0 0 0-.153 0l-5.25 1.68a.25.25 0 0 0-.174.238V7c0 1.358.275 2.666 1.057 3.86.784 1.194 2.121 2.34 4.366 3.297a.196.196 0 0 0 .154 0c2.245-.956 3.582-2.104 4.366-3.298C13.225 9.666 13.5 8.36 13.5 7V3.48a.251.251 0 0 0-.174-.237l-5.25-1.68ZM8.75 4.75v3a.75.75 0 0 1-1.5 0v-3a.75.75 0 0 1 1.5 0ZM9 10.5a1 1 0 1 1-2 0 1 1 0 0 1 2 0Z"></path>
</svg>
        </span>
      
        <span data-view-component="true" class="ActionListItem-label">
          Security
</span>      
</a>
  
</li>
        <li hidden="" data-menu-item="i6insights-tab" data-targets="action-list.items" role="none" data-view-component="true" class="ActionListItem">
    
    
    <a tabindex="-1" id="item-deca29bd-e8c1-4073-b07b-da78e6d68d86" href="https://github.com/aruntakhur/SitareUniversity/pulse" role="menuitem" data-view-component="true" class="ActionListContent ActionListContent--visual16">
        <span class="ActionListItem-visual ActionListItem-visual--leading">
          <svg aria-hidden="true" height="16" viewBox="0 0 16 16" version="1.1" width="16" data-view-component="true" class="octicon octicon-graph">
    <path d="M1.5 1.75V13.5h13.75a.75.75 0 0 1 0 1.5H.75a.75.75 0 0 1-.75-.75V1.75a.75.75 0 0 1 1.5 0Zm14.28 2.53-5.25 5.25a.75.75 0 0 1-1.06 0L7 7.06 4.28 9.78a.751.751 0 0 1-1.042-.018.751.751 0 0 1-.018-1.042l3.25-3.25a.75.75 0 0 1 1.06 0L10 7.94l4.72-4.72a.751.751 0 0 1 1.042.018.751.751 0 0 1 .018 1.042Z"></path>
</svg>
        </span>
      
        <span data-view-component="true" class="ActionListItem-label">
          Insights
</span>      
</a>
  
</li>
</ul>    
</div></action-list>


</div>
      
</div></anchored-position>  </focus-group>
</action-menu></div>
</nav>
          
        </div>
</header>


      <div hidden="hidden" data-view-component="true" class="js-stale-session-flash stale-session-flash flash flash-warn flash-full">
  
        <svg aria-hidden="true" height="16" viewBox="0 0 16 16" version="1.1" width="16" data-view-component="true" class="octicon octicon-alert">
    <path d="M6.457 1.047c.659-1.234 2.427-1.234 3.086 0l6.082 11.378A1.75 1.75 0 0 1 14.082 15H1.918a1.75 1.75 0 0 1-1.543-2.575Zm1.763.707a.25.25 0 0 0-.44 0L1.698 13.132a.25.25 0 0 0 .22.368h12.164a.25.25 0 0 0 .22-.368Zm.53 3.996v2.5a.75.75 0 0 1-1.5 0v-2.5a.75.75 0 0 1 1.5 0ZM9 11a1 1 0 1 1-2 0 1 1 0 0 1 2 0Z"></path>
</svg>
        <span class="js-stale-session-flash-signed-in" hidden="">You signed in with another tab or window. <a class="Link--inTextBlock" href="https://github.com/aruntakhur/SitareUniversity/blob/main/GreedyBFS_AI_2025.ipynb">Reload</a> to refresh your session.</span>
        <span class="js-stale-session-flash-signed-out" hidden="">You signed out in another tab or window. <a class="Link--inTextBlock" href="https://github.com/aruntakhur/SitareUniversity/blob/main/GreedyBFS_AI_2025.ipynb">Reload</a> to refresh your session.</span>
        <span class="js-stale-session-flash-switched" hidden="">You switched accounts on another tab or window. <a class="Link--inTextBlock" href="https://github.com/aruntakhur/SitareUniversity/blob/main/GreedyBFS_AI_2025.ipynb">Reload</a> to refresh your session.</span>

    <button id="icon-button-60b94dad-3d90-4205-b647-393a645c34d8" aria-labelledby="tooltip-91d89cb2-25cb-427f-9dbb-a5c5120f014a" type="button" data-view-component="true" class="Button Button--iconOnly Button--invisible Button--medium flash-close js-flash-close">  <svg aria-hidden="true" height="16" viewBox="0 0 16 16" version="1.1" width="16" data-view-component="true" class="octicon octicon-x Button-visual">
    <path d="M3.72 3.72a.75.75 0 0 1 1.06 0L8 6.94l3.22-3.22a.749.749 0 0 1 1.275.326.749.749 0 0 1-.215.734L9.06 8l3.22 3.22a.749.749 0 0 1-.326 1.275.749.749 0 0 1-.734-.215L8 9.06l-3.22 3.22a.751.751 0 0 1-1.042-.018.751.751 0 0 1-.018-1.042L6.94 8 3.72 4.78a.75.75 0 0 1 0-1.06Z"></path>
</svg>
</button><tool-tip id="tooltip-91d89cb2-25cb-427f-9dbb-a5c5120f014a" for="icon-button-60b94dad-3d90-4205-b647-393a645c34d8" popover="manual" data-direction="s" data-type="label" data-view-component="true" class="sr-only position-absolute" aria-hidden="true" role="tooltip"><template shadowrootmode="open"><style>
      :host {
        --tooltip-top: var(--tool-tip-position-top, 0);
        --tooltip-left: var(--tool-tip-position-left, 0);
        padding: var(--overlay-paddingBlock-condensed) var(--overlay-padding-condensed) !important;
        font: var(--text-body-shorthand-small);
        color: var(--tooltip-fgColor, var(--fgColor-onEmphasis)) !important;
        text-align: center;
        text-decoration: none;
        text-shadow: none;
        text-transform: none;
        letter-spacing: normal;
        word-wrap: break-word;
        white-space: pre;
        background: var(--tooltip-bgColor, var(--bgColor-emphasis)) !important;
        border-radius: var(--borderRadius-medium);
        border: 0 !important;
        opacity: 0;
        max-width: var(--overlay-width-small);
        word-wrap: break-word;
        white-space: normal;
        width: max-content !important;
        inset: var(--tooltip-top) auto auto var(--tooltip-left) !important;
        overflow: visible !important;
        text-wrap: balance;
      }

      :host(:is(.tooltip-n, .tooltip-nw, .tooltip-ne)) {
        --tooltip-top: calc(var(--tool-tip-position-top, 0) - var(--overlay-offset, 0.25rem));
        --tooltip-left: var(--tool-tip-position-left);
      }

      :host(:is(.tooltip-s, .tooltip-sw, .tooltip-se)) {
        --tooltip-top: calc(var(--tool-tip-position-top, 0) + var(--overlay-offset, 0.25rem));
        --tooltip-left: var(--tool-tip-position-left);
      }

      :host(.tooltip-w) {
        --tooltip-top: var(--tool-tip-position-top);
        --tooltip-left: calc(var(--tool-tip-position-left, 0) - var(--overlay-offset, 0.25rem));
      }

      :host(.tooltip-e) {
        --tooltip-top: var(--tool-tip-position-top);
        --tooltip-left: calc(var(--tool-tip-position-left, 0) + var(--overlay-offset, 0.25rem));
      }

      :host:after{
        position: absolute;
        display: block;
        right: 0;
        left: 0;
        height: var(--overlay-offset, 0.25rem);
        content: "";
      }

      :host(.tooltip-s):after,
      :host(.tooltip-se):after,
      :host(.tooltip-sw):after {
        bottom: 100%
      }

      :host(.tooltip-n):after,
      :host(.tooltip-ne):after,
      :host(.tooltip-nw):after {
        top: 100%;
      }

      @keyframes tooltip-appear {
        from {
          opacity: 0;
        }
        to {
          opacity: 1;
        }
      }

      :host(:popover-open),
      :host(:popover-open):before {
        animation-name: tooltip-appear;
        animation-duration: .1s;
        animation-fill-mode: forwards;
        animation-timing-function: ease-in;
      }

      :host(.\:popover-open) {
        animation-name: tooltip-appear;
        animation-duration: .1s;
        animation-fill-mode: forwards;
        animation-timing-function: ease-in;
      }

      @media (forced-colors: active) {
        :host {
          outline: solid 1px transparent;
        }

        :host:before {
          display: none;
        }
      }
    </style><slot></slot></template>Dismiss alert</tool-tip>


  
</div>
        
          
    </div>

  <div id="start-of-content" class="show-on-focus"></div>








    <div id="js-flash-container" class="flash-container" data-turbo-replace="">




  <template class="js-flash-template"></template>
</div>


    
  <notification-shelf-watcher data-base-url="https://github.com/notifications/beta/shelf" data-channel="eyJjIjoibm90aWZpY2F0aW9uLWNoYW5nZWQ6MTg2MDQzMDExIiwidCI6MTc1NzUyMzIzNH0=--6aa4276c1ca44418219b95457322574dfb3720e0b951d581dd045c0c759fec63" data-view-component="true" class="js-socket-channel" data-refresh-delay="500" data-catalyst="" data-throttle-delay="5000"></notification-shelf-watcher>
  <div hidden="" data-initial="" data-target="notification-shelf-watcher.placeholder"></div>






  <div class="application-main " data-commit-hovercards-enabled="" data-discussion-hovercards-enabled="" data-issue-and-pr-hovercards-enabled="" data-project-hovercards-enabled="">
        <div itemscope="" itemtype="http://schema.org/SoftwareSourceCode" class="">
    <main id="js-repo-pjax-container">
      
      






    
  <div id="repository-container-header" data-turbo-replace="" hidden=""></div>




<turbo-frame id="repo-content-turbo-frame" target="_top" data-turbo-action="advance" class="">
    <div id="repo-content-pjax-container" class="repository-content ">
      <a href="https://github.dev/" class="d-none js-github-dev-shortcut" data-hotkey=".,Mod+Alt+.">Open in github.dev</a>
  <a href="https://github.dev/" class="d-none js-github-dev-new-tab-shortcut" data-hotkey="Shift+.,Shift+&gt;,&gt;" target="_blank" rel="noopener noreferrer">Open in a new github.dev tab</a>
    <a class="d-none" data-hotkey=",,Mod+Alt+," target="_blank" href="https://github.com/codespaces/new/aruntakhur/SitareUniversity/tree/main?resume=1">Open in codespace</a>




    
      
    








<react-app app-name="react-code-view" initial-path="/aruntakhur/SitareUniversity/blob/main/DFS_AI_2025.ipynb" style="display: block; min-height: calc(100vh - 64px);" data-attempted-ssr="true" data-ssr="true" data-lazy="false" data-alternate="false" data-data-router-enabled="false" data-react-profiling="false" data-catalyst="" class="loaded">
  
  <script type="application/json" data-target="react-app.embeddedData">{"payload":{"allShortcutsEnabled":true,"fileTree":{"":{"items":[{"name":"A__AI_2025.ipynb","path":"A__AI_2025.ipynb","contentType":"file"},{"name":"BFS_AI_2025.ipynb","path":"BFS_AI_2025.ipynb","contentType":"file"},{"name":"DFS_AI_2025.ipynb","path":"DFS_AI_2025.ipynb","contentType":"file"},{"name":"GreedyBFS_AI_2025.ipynb","path":"GreedyBFS_AI_2025.ipynb","contentType":"file"},{"name":"Logistic_Regression_DL_2025.ipynb","path":"Logistic_Regression_DL_2025.ipynb","contentType":"file"},{"name":"MinMaxSearch_AI_2025.ipynb","path":"MinMaxSearch_AI_2025.ipynb","contentType":"file"},{"name":"MinMax_AlphaBeta_heuristic_AI_2025.ipynb","path":"MinMax_AlphaBeta_heuristic_AI_2025.ipynb","contentType":"file"},{"name":"MinMax_AlphaPruning_AI_2025.ipynb","path":"MinMax_AlphaPruning_AI_2025.ipynb","contentType":"file"},{"name":"MinMax_Search_Lab.ipynb","path":"MinMax_Search_Lab.ipynb","contentType":"file"},{"name":"ReadMe","path":"ReadMe","contentType":"file"}],"totalCount":10}},"fileTreeProcessingTime":2.617197,"foldersToFetch":[],"incompleteFileTree":false,"repo":{"id":1040478506,"defaultBranch":"main","name":"SitareUniversity","ownerLogin":"aruntakhur","currentUserCanPush":false,"isFork":false,"isEmpty":false,"createdAt":"2025-08-19T09:07:50.000+05:30","ownerAvatar":"https://avatars.githubusercontent.com/u/5259552?v=4","public":true,"private":false,"isOrgOwned":false},"codeLineWrapEnabled":false,"symbolsExpanded":false,"treeExpanded":true,"refInfo":{"name":"main","listCacheKey":"v0:1755574745.0","canEdit":true,"refType":"branch","currentOid":"8499924c98ae11e934c0b69a520a98e664be7e35","canEditOnDefaultBranch":true,"fileExistsOnDefault":true},"path":"DFS_AI_2025.ipynb","currentUser":{"id":186043011,"login":"Anushri488","userEmail":"anushrimishra20@gmail.com"},"blob":{"rawLines":["{","  \"nbformat\": 4,","  \"nbformat_minor\": 0,","  \"metadata\": {","    \"colab\": {","      \"provenance\": [],","      \"authorship_tag\": \"ABX9TyPwFWxvnM6EtFTFPw2OPayh\",","      \"include_colab_link\": true","    },","    \"kernelspec\": {","      \"name\": \"python3\",","      \"display_name\": \"Python 3\"","    },","    \"language_info\": {","      \"name\": \"python\"","    }","  },","  \"cells\": [","    {","      \"cell_type\": \"markdown\",","      \"metadata\": {","        \"id\": \"view-in-github\",","        \"colab_type\": \"text\"","      },","      \"source\": [","        \"\u003ca href=\\\"https://colab.research.google.com/github/aruntakhur/SitareUniversity/blob/main/DFS_AI_2025.ipynb\\\" target=\\\"_parent\\\"\u003e\u003cimg src=\\\"https://colab.research.google.com/assets/colab-badge.svg\\\" alt=\\\"Open In Colab\\\"/\u003e\u003c/a\u003e\"","      ]","    },","    {","      \"cell_type\": \"markdown\",","      \"source\": [","        \"# Depth First Search on the given Graph\\n\",","        \"![DFS_Graph.png](data:image/png;base64,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)\"","      ],","      \"metadata\": {","        \"id\": \"EFbXuzXoRFr1\"","      }","    },","    {","      \"cell_type\": \"markdown\",","      \"source\": [","        \"Define the Graph for Depth First Search\"","      ],","      \"metadata\": {","        \"id\": \"l8fRj0IVPQc5\"","      }","    },","    {","      \"cell_type\": \"code\",","      \"execution_count\": 2,","      \"metadata\": {","        \"id\": \"gU6fcXdKPJQd\"","      },","      \"outputs\": [],","      \"source\": [","        \"graph = {\\n\",","        \"    'u': ['v', 'x'],\\n\",","        \"    'v': ['y'],\\n\",","        \"    'w': ['y', 'z'],\\n\",","        \"    'x': ['v'],\\n\",","        \"    'y': ['x'],\\n\",","        \"    'z': ['z']  # self-loop\\n\",","        \"}\"","      ]","    },","    {","      \"cell_type\": \"code\",","      \"source\": [","        \"# Global variables for DFS\\n\",","        \"time = 0\\n\",","        \"color = {}\\n\",","        \"parent = {}\\n\",","        \"discovery = {}\\n\",","        \"finish = {}\"","      ],","      \"metadata\": {","        \"id\": \"onKmkMk5P5Fk\"","      },","      \"execution_count\": 3,","      \"outputs\": []","    },","    {","      \"cell_type\": \"markdown\",","      \"source\": [","        \"# Code for Initilization\"","      ],","      \"metadata\": {","        \"id\": \"_FOQDJ_CUic7\"","      }","    },","    {","      \"cell_type\": \"code\",","      \"source\": [","        \"for u in graph:\\n\",","        \"        color[u] = \\\"WHITE\\\"   # Unvisited\\n\",","        \"        parent[u] = None\\n\",","        \"\\n\",","        \"time = 0\\n\",","        \"print(color)\\n\",","        \"print(parent)\"","      ],","      \"metadata\": {","        \"colab\": {","          \"base_uri\": \"https://localhost:8080/\"","        },","        \"id\": \"iAJavmWNTpqp\",","        \"outputId\": \"f064f377-e074-44a6-977e-06cf55c6de8f\"","      },","      \"execution_count\": 4,","      \"outputs\": [","        {","          \"output_type\": \"stream\",","          \"name\": \"stdout\",","          \"text\": [","            \"{'u': 'WHITE', 'v': 'WHITE', 'w': 'WHITE', 'x': 'WHITE', 'y': 'WHITE', 'z': 'WHITE'}\\n\",","            \"{'u': None, 'v': None, 'w': None, 'x': None, 'y': None, 'z': None}\\n\"","          ]","        }","      ]","    },","    {","      \"cell_type\": \"markdown\",","      \"source\": [","        \"#    Runs Depth-First Search on graph G.\\n\",","        \"###    Initializes all vertices, then calls DFS-VISIT on unvisited ones.\"","      ],","      \"metadata\": {","        \"id\": \"CSQjh9RaQHBu\"","      }","    },","    {","      \"cell_type\": \"code\",","      \"source\": [","        \"def DFS(G):\\n\",","        \"    \\\"\\\"\\\"\\n\",","        \"    Runs Depth-First Search on graph G.\\n\",","        \"    Initializes all vertices, then calls DFS-VISIT on unvisited ones.\\n\",","        \"    \\\"\\\"\\\"\\n\",","        \"    global time, color, parent, discovery, finish\\n\",","        \"\\n\",","        \"    # Initialize all vertices\\n\",","        \"    for u in G:\\n\",","        \"        color[u] = \\\"WHITE\\\"   # Unvisited\\n\",","        \"        parent[u] = None\\n\",","        \"\\n\",","        \"    time = 0\\n\",","        \"\\n\",","        \"    # Perform DFS on each unvisited node\\n\",","        \"    for u in G:\\n\",","        \"        if color[u] == \\\"WHITE\\\":\\n\",","        \"            DFS_VISIT(G, u)\"","      ],","      \"metadata\": {","        \"id\": \"yM1VyCFJP6C9\"","      },","      \"execution_count\": 5,","      \"outputs\": []","    },","    {","      \"cell_type\": \"markdown\",","      \"source\": [","        \"# Visits a vertex u in DFS.\\n\",","        \"###    Tracks discovery time, finish time, and parent relationships.\"","      ],","      \"metadata\": {","        \"id\": \"JejiX_MyQXlg\"","      }","    },","    {","      \"cell_type\": \"code\",","      \"source\": [","        \"def DFS_VISIT(G, u):\\n\",","        \"    \\\"\\\"\\\"\\n\",","        \"    Visits a vertex u in DFS.\\n\",","        \"    Tracks discovery time, finish time, and parent relationships.\\n\",","        \"    \\\"\\\"\\\"\\n\",","        \"    global time, color, parent, discovery, finish\\n\",","        \"\\n\",","        \"    color[u] = \\\"GRAY\\\"      # Node is discovered but not finished\\n\",","        \"    time += 1\\n\",","        \"    discovery[u] = time    # Discovery time\\n\",","        \"\\n\",","        \"    # Explore neighbors\\n\",","        \"    for v in G[u]:\\n\",","        \"        if color[v] == \\\"WHITE\\\":\\n\",","        \"            parent[v] = u\\n\",","        \"            DFS_VISIT(G, v)\\n\",","        \"\\n\",","        \"    color[u] = \\\"BLACK\\\"     # Finished exploring u\\n\",","        \"    time += 1\\n\",","        \"    finish[u] = time       # Finish time\"","      ],","      \"metadata\": {","        \"id\": \"iWou5jYOQUBA\"","      },","      \"execution_count\": 6,","      \"outputs\": []","    },","    {","      \"cell_type\": \"markdown\",","      \"source\": [","        \"# Run Depth First Search Algo\"","      ],","      \"metadata\": {","        \"id\": \"JX3HK9aIQhjr\"","      }","    },","    {","      \"cell_type\": \"code\",","      \"source\": [","        \"# --- Run DFS ---\\n\",","        \"DFS(graph)\\n\",","        \"\\n\",","        \"# --- Print Results ---\\n\",","        \"print(\\\"Discovery Times:\\\", discovery)\\n\",","        \"print(\\\"Finish Times:\\\", finish)\\n\",","        \"print(\\\"Parents:\\\", parent)\"","      ],","      \"metadata\": {","        \"colab\": {","          \"base_uri\": \"https://localhost:8080/\"","        },","        \"id\": \"XFbrFPdTQf-F\",","        \"outputId\": \"cbd2e0b7-be11-454f-d22c-b9e61ae99b2f\"","      },","      \"execution_count\": 7,","      \"outputs\": [","        {","          \"output_type\": \"stream\",","          \"name\": \"stdout\",","          \"text\": [","            \"Discovery Times: {'u': 1, 'v': 2, 'y': 3, 'x': 4, 'w': 9, 'z': 10}\\n\",","            \"Finish Times: {'x': 5, 'y': 6, 'v': 7, 'u': 8, 'z': 11, 'w': 12}\\n\",","            \"Parents: {'u': None, 'v': 'u', 'w': None, 'x': 'y', 'y': 'v', 'z': 'w'}\\n\"","          ]","        }","      ]","    },","    {","      \"cell_type\": \"markdown\",","      \"source\": [","        \"# Vizualize the Graph\"","      ],","      \"metadata\": {","        \"id\": \"vSNUkvE5R5e1\"","      }","    },","    {","      \"cell_type\": \"code\",","      \"source\": [","        \"import networkx as nx\\n\",","        \"import matplotlib.pyplot as plt\\n\",","        \"\\n\",","        \"# --- Build networkx graph ---\\n\",","        \"G = nx.DiGraph()\\n\",","        \"for u in graph:\\n\",","        \"    for v in graph[u]:\\n\",","        \"        G.add_edge(u, v)\\n\",","        \"\\n\",","        \"# Positioning\\n\",","        \"pos = nx.spring_layout(G, seed=42)\\n\",","        \"\\n\",","        \"# Separate DFS tree edges\\n\",","        \"tree_edges = [(p, u) for u, p in parent.items() if p is not None]\\n\",","        \"other_edges = [e for e in G.edges() if e not in tree_edges]\\n\",","        \"\\n\",","        \"# --- Draw Graph ---\\n\",","        \"plt.figure(figsize=(7,6))\\n\",","        \"\\n\",","        \"# Draw edges\\n\",","        \"nx.draw_networkx_edges(G, pos, edgelist=tree_edges, edge_color=\\\"red\\\", arrows=True, arrowsize=20, width=2, label=\\\"DFS Tree\\\")\\n\",","        \"nx.draw_networkx_edges(G, pos, edgelist=other_edges, edge_color=\\\"gray\\\", style=\\\"dashed\\\", arrows=True, arrowsize=15, label=\\\"Other Edges\\\")\\n\",","        \"\\n\",","        \"# Draw nodes\\n\",","        \"nx.draw_networkx_nodes(G, pos, node_color=\\\"lightblue\\\", node_size=500, edgecolors=\\\"black\\\")\\n\",","        \"\\n\",","        \"# Labels: show d/f times\\n\",","        \"labels = {u: f\\\"{u}\\\\n({discovery[u]}/{finish[u]})\\\" for u in G.nodes()}\\n\",","        \"nx.draw_networkx_labels(G, pos, labels=labels, font_size=10, font_weight=\\\"bold\\\")\\n\",","        \"\\n\",","        \"plt.title(\\\"DFS Traversal with Discovery/Finish Times\\\", fontsize=14)\\n\",","        \"plt.legend(scatterpoints=1)\\n\",","        \"plt.axis(\\\"off\\\")\\n\",","        \"plt.show()\"","      ],","      \"metadata\": {","        \"colab\": {","          \"base_uri\": \"https://localhost:8080/\",","          \"height\": 578","        },","        \"id\": \"RUDzywBdRXDj\",","        \"outputId\": \"7407f0a5-7b99-4500-87b3-f0392be8e581\"","      },","      \"execution_count\": 8,","      \"outputs\": [","        {","          \"output_type\": \"stream\",","          \"name\": \"stderr\",","          \"text\": [","            \"/tmp/ipython-input-1371777621.py:32: UserWarning: No artists with labels found to put in legend.  Note that artists whose label start with an underscore are ignored when legend() is called with no argument.\\n\",","            \"  plt.legend(scatterpoints=1)\\n\"","          ]","        },","        {","          \"output_type\": \"display_data\",","          \"data\": {","            \"text/plain\": [","              \"\u003cFigure size 700x600 with 1 Axes\u003e\"","            ],","            \"image/png\": \"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\\n\"","          },","          \"metadata\": {}","        }","      ]","    }","  ]","}"],"stylingDirectives":null,"colorizedLines":null,"csv":null,"csvError":null,"copilotSWEAgentEnabled":false,"dependabotInfo":{"showConfigurationBanner":false,"configFilePath":null,"networkDependabotPath":"/aruntakhur/SitareUniversity/network/updates","dismissConfigurationNoticePath":"/settings/dismiss-notice/dependabot_configuration_notice","configurationNoticeDismissed":false},"displayName":"DFS_AI_2025.ipynb","displayUrl":"https://notebooks.githubusercontent.com/view/ipynb?browser=edge\u0026bypass_fastly=true\u0026color_mode=auto\u0026commit=8499924c98ae11e934c0b69a520a98e664be7e35\u0026device=unknown_device\u0026docs_host=https%3A%2F%2Fdocs.github.com\u0026enc_url=68747470733a2f2f7261772e67697468756275736572636f6e74656e742e636f6d2f6172756e74616b6875722f536974617265556e69766572736974792f383439393932346339386165313165393334633062363961353230613938653636346265376533352f4446535f41495f323032352e6970796e62\u0026link_underline_enabled=true\u0026logged_in=true\u0026nwo=aruntakhur%2FSitareUniversity\u0026path=DFS_AI_2025.ipynb\u0026platform=windows\u0026repository_id=1040478506\u0026repository_type=Repository\u0026version=140","headerInfo":{"blobSize":"106 KB","deleteTooltip":"Fork this repository and delete the file","editTooltip":"Fork this repository and edit the file","ghDesktopPath":"https://desktop.github.com","isGitLfs":false,"onBranch":true,"shortPath":"5cdf847","siteNavLoginPath":"/login?return_to=https%3A%2F%2Fgithub.com%2Faruntakhur%2FSitareUniversity%2Fblob%2Fmain%2FDFS_AI_2025.ipynb","isCSV":false,"isRichtext":false,"toc":null,"lineInfo":{"truncatedLoc":"317","truncatedSloc":"317"},"mode":"file"},"image":false,"isCodeownersFile":null,"isPlain":false,"isValidLegacyIssueTemplate":false,"issueTemplate":null,"discussionTemplate":null,"language":"Jupyter Notebook","languageID":185,"large":false,"planSupportInfo":{"repoIsFork":null,"repoOwnedByCurrentUser":null,"requestFullPath":"/aruntakhur/SitareUniversity/blob/main/DFS_AI_2025.ipynb","showFreeOrgGatedFeatureMessage":null,"showPlanSupportBanner":null,"upgradeDataAttributes":null,"upgradePath":null},"publishBannersInfo":{"dismissActionNoticePath":"/settings/dismiss-notice/publish_action_from_dockerfile","releasePath":"/aruntakhur/SitareUniversity/releases/new?marketplace=true","showPublishActionBanner":false},"rawBlobUrl":"https://github.com/aruntakhur/SitareUniversity/raw/refs/heads/main/DFS_AI_2025.ipynb","renderImageOrRaw":false,"richText":null,"renderedFileInfo":{"identityUUID":"c239ac3a-c1e2-4a1d-b384-39e2b59b8f83","renderFileType":"ipynb","size":108974},"shortPath":null,"symbolsEnabled":true,"tabSize":4,"topBannersInfo":{"overridingGlobalFundingFile":false,"globalPreferredFundingPath":null,"showInvalidCitationWarning":false,"citationHelpUrl":"https://docs.github.com/github/creating-cloning-and-archiving-repositories/creating-a-repository-on-github/about-citation-files","actionsOnboardingTip":null},"truncated":false,"viewable":true,"workflowRedirectUrl":null,"symbols":{"timed_out":false,"not_analyzed":true,"symbols":[]}},"copilotInfo":null,"copilotAccessAllowed":true,"modelsAccessAllowed":false,"modelsRepoIntegrationEnabled":false,"isMarketplaceEnabled":true,"csrf_tokens":{"/aruntakhur/SitareUniversity/branches":{"post":"-0bMowa_lfOKjvKRRcZ1OsG24knE1LWNbi9PsJhdizsJi6GnpBIrRLRp9I_LmK1PuH-o75qLNWiBSKYyEZakjQ"},"/repos/preferences":{"post":"rxmILkUGksyIwV7R2kj5ht3iCF_j-xUnqVltCjeUtNX4fnAqR1w60Io8SKeu3RK5JYLAQ7ypOLSWt7ljH0FR3A"}}},"title":"SitareUniversity/DFS_AI_2025.ipynb at main · aruntakhur/SitareUniversity","appPayload":{"helpUrl":"https://docs.github.com","findFileWorkerPath":"/assets-cdn/worker/find-file-worker-9bd411a8e273.js","findInFileWorkerPath":"/assets-cdn/worker/find-in-file-worker-410714137fc9.js","githubDevUrl":"https://github.dev/","enabled_features":{"code_nav_ui_events":false,"react_blob_overlay":true,"accessible_code_button":true}}}</script>
  <div data-target="react-app.reactRoot"><meta data-hydrostats="publish"> <!-- --> <!-- --> <button hidden="" data-testid="header-permalink-button" data-hotkey-scope="read-only-cursor-text-area" data-hotkey="y,Shift+Y"></button><button hidden="" data-hotkey="y,Shift+Y"></button><div><div style="--spacing:var(--spacing-none)" class="prc-PageLayout-PageLayoutRoot-1zlEO"><div class="prc-PageLayout-PageLayoutWrapper-s2ao4" data-width="full"><div class="prc-PageLayout-PageLayoutContent-jzDMn"><div tabindex="0" class="Box-sc-g0xbh4-0 gISSDQ"><div class="prc-PageLayout-PaneWrapper-nGO0U ReposFileTreePane-module__Pane--D26Sw ReposFileTreePane-module__HidePane--a07q8" style="--offset-header:0px;--spacing-row:var(--spacing-none);--spacing-column:var(--spacing-none)" data-is-hidden="false" data-position="start" data-sticky="true"><div class="prc-PageLayout-HorizontalDivider-CYLp5 prc-PageLayout-PaneHorizontalDivider-4exOb" data-variant="none" data-position="start" style="--spacing-divider:var(--spacing-none);--spacing:var(--spacing-none)"></div><div class="prc-PageLayout-Pane-Vl5LI" data-resizable="true" style="--spacing:var(--spacing-none);--pane-min-width:256px;--pane-max-width:calc(100vw - var(--pane-max-width-diff));--pane-width-size:var(--pane-width-large);--pane-width:320px"><div><div id="repos-file-tree" class="Box-sc-g0xbh4-0 bNhwaa"><div class="ReposFileTreePane-module__Box_1--ZT_4S"><div class="Box-sc-g0xbh4-0 jfIeyl"><h2 class="use-tree-pane-module__Heading--iI_ad prc-Heading-Heading-6CmGO"><button data-component="IconButton" type="button" data-testid="collapse-file-tree-button" aria-expanded="true" aria-controls="repos-file-tree" class="prc-Button-ButtonBase-c50BI position-relative ExpandFileTreeButton-module__expandButton--oKI1R fgColor-muted prc-Button-IconButton-szpyj" data-loading="false" data-no-visuals="true" data-size="medium" data-variant="invisible" aria-describedby=":R756mplab:-loading-announcement" aria-labelledby=":R156mplab:" data-hotkey="Control+b"><svg aria-hidden="true" focusable="false" class="octicon octicon-sidebar-expand" viewBox="0 0 16 16" width="16" height="16" fill="currentColor" display="inline-block" overflow="visible" style="vertical-align:text-bottom"><path d="m4.177 7.823 2.396-2.396A.25.25 0 0 1 7 5.604v4.792a.25.25 0 0 1-.427.177L4.177 8.177a.25.25 0 0 1 0-.354Z"></path><path d="M0 1.75C0 .784.784 0 1.75 0h12.5C15.216 0 16 .784 16 1.75v12.5A1.75 1.75 0 0 1 14.25 16H1.75A1.75 1.75 0 0 1 0 14.25Zm1.75-.25a.25.25 0 0 0-.25.25v12.5c0 .138.112.25.25.25H9.5v-13Zm12.5 13a.25.25 0 0 0 .25-.25V1.75a.25.25 0 0 0-.25-.25H11v13Z"></path></svg></button><span class="prc-TooltipV2-Tooltip-cYMVY" data-direction="se" aria-hidden="true" id=":R156mplab:" popover="auto">Collapse file tree</span><button hidden="" data-testid="" data-hotkey-scope="read-only-cursor-text-area" data-hotkey="Control+b"></button></h2><h2 class="Box-sc-g0xbh4-0 kOkWgo prc-Heading-Heading-6CmGO">Files</h2></div><div class="ReposFileTreePane-module__Box_2--RgzGf"><div class="ReposFileTreePane-module__Box_3--XDLn8"><button style="min-width:0" type="button" aria-haspopup="true" aria-expanded="false" tabindex="0" aria-label="main branch" data-testid="anchor-button" class="prc-Button-ButtonBase-c50BI react-repos-tree-pane-ref-selector width-full ref-selector-class RefSelectorAnchoredOverlay-module__RefSelectorOverlayBtn--D34zl" data-loading="false" data-size="medium" data-variant="default" aria-describedby="ref-picker-repos-header-ref-selector-loading-announcement" id="ref-picker-repos-header-ref-selector" data-hotkey="w"><span data-component="buttonContent" data-align="center" class="prc-Button-ButtonContent-HKbr-"><span data-component="text" class="prc-Button-Label-pTQ3x"><div class="RefSelectorAnchoredOverlay-module__RefSelectorOverlayContainer--mCbv8"><div class="RefSelectorAnchoredOverlay-module__RefSelectorOverlayHeader--D4cnZ"><svg aria-hidden="true" focusable="false" class="octicon octicon-git-branch" viewBox="0 0 16 16" width="16" height="16" fill="currentColor" display="inline-block" overflow="visible" style="vertical-align:text-bottom"><path d="M9.5 3.25a2.25 2.25 0 1 1 3 2.122V6A2.5 2.5 0 0 1 10 8.5H6a1 1 0 0 0-1 1v1.128a2.251 2.251 0 1 1-1.5 0V5.372a2.25 2.25 0 1 1 1.5 0v1.836A2.493 2.493 0 0 1 6 7h4a1 1 0 0 0 1-1v-.628A2.25 2.25 0 0 1 9.5 3.25Zm-6 0a.75.75 0 1 0 1.5 0 .75.75 0 0 0-1.5 0Zm8.25-.75a.75.75 0 1 0 0 1.5.75.75 0 0 0 0-1.5ZM4.25 12a.75.75 0 1 0 0 1.5.75.75 0 0 0 0-1.5Z"></path></svg></div><div class="ref-selector-button-text-container RefSelectorAnchoredOverlay-module__RefSelectorBtnTextContainer--yO402"><span class="RefSelectorAnchoredOverlay-module__RefSelectorText--bxVhQ">&nbsp;<!-- -->main</span></div></div></span><span data-component="trailingVisual" class="prc-Button-Visual-2epfX prc-Button-VisualWrap-Db-eB"><svg aria-hidden="true" focusable="false" class="octicon octicon-triangle-down" viewBox="0 0 16 16" width="16" height="16" fill="currentColor" display="inline-block" overflow="visible" style="vertical-align:text-bottom"><path d="m4.427 7.427 3.396 3.396a.25.25 0 0 0 .354 0l3.396-3.396A.25.25 0 0 0 11.396 7H4.604a.25.25 0 0 0-.177.427Z"></path></svg></span></span></button><button hidden="" data-testid="ref-selector-hotkey-button" data-hotkey-scope="read-only-cursor-text-area" data-hotkey="w"></button></div><div class="ReposFileTreePane-module__Box_4--TLAAU"><a data-component="IconButton" type="button" class="prc-Button-ButtonBase-c50BI ReposFileTreePane-module__IconButton--fpuBk prc-Button-IconButton-szpyj" data-loading="false" data-no-visuals="true" data-size="medium" data-variant="default" aria-describedby=":R6q6mplab:-loading-announcement" aria-labelledby=":Rq6mplab:" href="https://github.com/aruntakhur/SitareUniversity/new/main" data-discover="true"><svg aria-hidden="true" focusable="false" class="octicon octicon-plus" viewBox="0 0 16 16" width="16" height="16" fill="currentColor" display="inline-block" overflow="visible" style="vertical-align:text-bottom"><path d="M7.75 2a.75.75 0 0 1 .75.75V7h4.25a.75.75 0 0 1 0 1.5H8.5v4.25a.75.75 0 0 1-1.5 0V8.5H2.75a.75.75 0 0 1 0-1.5H7V2.75A.75.75 0 0 1 7.75 2Z"></path></svg></a><span class="prc-TooltipV2-Tooltip-cYMVY" data-direction="n" aria-hidden="true" id=":Rq6mplab:" popover="auto">Add file</span><button data-component="IconButton" type="button" class="Box-sc-g0xbh4-0 dPUXSa prc-Button-ButtonBase-c50BI SearchButton-module__IconButton--kxA3Q prc-Button-IconButton-szpyj" data-loading="false" data-no-visuals="true" data-size="medium" data-variant="default" aria-describedby=":Rra6mplab:-loading-announcement" aria-labelledby=":R3a6mplab:" data-hotkey="/"><svg aria-hidden="true" focusable="false" class="octicon octicon-search" viewBox="0 0 16 16" width="16" height="16" fill="currentColor" display="inline-block" overflow="visible" style="vertical-align:text-bottom"><path d="M10.68 11.74a6 6 0 0 1-7.922-8.982 6 6 0 0 1 8.982 7.922l3.04 3.04a.749.749 0 0 1-.326 1.275.749.749 0 0 1-.734-.215ZM11.5 7a4.499 4.499 0 1 0-8.997 0A4.499 4.499 0 0 0 11.5 7Z"></path></svg></button><span class="prc-TooltipV2-Tooltip-cYMVY" data-direction="nw" aria-hidden="true" id=":R3a6mplab:" popover="auto">Search this repository</span><button hidden="" data-testid="" data-hotkey-scope="read-only-cursor-text-area" data-hotkey="/"></button></div></div></div><div class="Box-sc-g0xbh4-0 ReposFileTreePane-module__FileResultsList--YEf_n"><span class="d-flex FileResultsList-module__FilesSearchBox--fSAh3 TextInput-wrapper prc-components-TextInputWrapper-i1ofR prc-components-TextInputBaseWrapper-ueK9q" data-leading-visual="true" data-trailing-visual="true" aria-busy="false"><span class="TextInput-icon" id=":R5amplab:" aria-hidden="true"><svg aria-hidden="true" focusable="false" class="octicon octicon-search" viewBox="0 0 16 16" width="16" height="16" fill="currentColor" display="inline-block" overflow="visible" style="vertical-align:text-bottom"><path d="M10.68 11.74a6 6 0 0 1-7.922-8.982 6 6 0 0 1 8.982 7.922l3.04 3.04a.749.749 0 0 1-.326 1.275.749.749 0 0 1-.734-.215ZM11.5 7a4.499 4.499 0 1 0-8.997 0A4.499 4.499 0 0 0 11.5 7Z"></path></svg></span><input type="text" aria-label="Go to file" role="combobox" aria-controls="file-results-list" aria-expanded="false" aria-haspopup="dialog" autocorrect="off" spellcheck="false" placeholder="Go to file" aria-describedby=":R5amplab: :R5amplabH1:" data-component="input" class="prc-components-Input-Ic-y8" value=""><span class="TextInput-icon" id=":R5amplabH1:" aria-hidden="true"><kbd>t</kbd></span></span></div><button hidden="" data-testid="" data-hotkey-scope="read-only-cursor-text-area" data-hotkey="t,Shift+T"></button><button hidden="" data-hotkey="t,Shift+T"></button><div class="Box-sc-g0xbh4-0 ReposFileTreePane-module__Box_5--cckih"><div><div class="react-tree-show-tree-items"><div class="ReposFileTreeView-module__Box--bDodO" data-testid="repos-file-tree-container"><nav aria-label="File Tree Navigation"><span class="prc-src-InternalVisuallyHidden-nlR9R" role="status" aria-live="polite" aria-atomic="true"></span><ul role="tree" aria-label="Files" data-truncate-text="true" class="prc-TreeView-TreeViewRootUlStyles-eZtxW"><li class="PRIVATE_TreeView-item prc-TreeView-TreeViewItem-ShJr0" tabindex="-1" id="A__AI_2025.ipynb-item" role="treeitem" aria-labelledby=":r0:" aria-describedby=":r1:" aria-level="1" aria-selected="false"><div class="PRIVATE_TreeView-item-container prc-TreeView-TreeViewItemContainer--2Rkn" style="--level: 1; content-visibility: auto; contain-intrinsic-size: auto 2rem;"><div style="grid-area: spacer; display: flex;"><div style="width: 100%; display: flex;"></div></div><div id=":r0:" class="PRIVATE_TreeView-item-content prc-TreeView-TreeViewItemContent-f0r0b"><div class="PRIVATE_VisuallyHidden prc-TreeView-TreeViewVisuallyHidden-4-mPv" aria-hidden="true" id=":r1:"></div><div class="PRIVATE_TreeView-item-visual prc-TreeView-TreeViewItemVisual-dRlGq" aria-hidden="true"><svg aria-hidden="true" focusable="false" class="octicon octicon-file" viewBox="0 0 16 16" width="16" height="16" fill="currentColor" display="inline-block" overflow="visible" style="vertical-align: text-bottom;"><path d="M2 1.75C2 .784 2.784 0 3.75 0h6.586c.464 0 .909.184 1.237.513l2.914 2.914c.329.328.513.773.513 1.237v9.586A1.75 1.75 0 0 1 13.25 16h-9.5A1.75 1.75 0 0 1 2 14.25Zm1.75-.25a.25.25 0 0 0-.25.25v12.5c0 .138.112.25.25.25h9.5a.25.25 0 0 0 .25-.25V6h-2.75A1.75 1.75 0 0 1 9 4.25V1.5Zm6.75.062V4.25c0 .138.112.25.25.25h2.688l-.011-.013-2.914-2.914-.013-.011Z"></path></svg></div><span class="PRIVATE_TreeView-item-content-text prc-TreeView-TreeViewItemContentText-smZM-"><span>A__AI_2025.ipynb</span></span></div></div></li><li class="PRIVATE_TreeView-item prc-TreeView-TreeViewItem-ShJr0" tabindex="-1" id="BFS_AI_2025.ipynb-item" role="treeitem" aria-labelledby=":r3:" aria-describedby=":r4:" aria-level="1" aria-selected="false"><div class="PRIVATE_TreeView-item-container prc-TreeView-TreeViewItemContainer--2Rkn" style="--level: 1; content-visibility: auto; contain-intrinsic-size: auto 2rem;"><div style="grid-area: spacer; display: flex;"><div style="width: 100%; display: flex;"></div></div><div id=":r3:" class="PRIVATE_TreeView-item-content prc-TreeView-TreeViewItemContent-f0r0b"><div class="PRIVATE_VisuallyHidden prc-TreeView-TreeViewVisuallyHidden-4-mPv" aria-hidden="true" id=":r4:"></div><div class="PRIVATE_TreeView-item-visual prc-TreeView-TreeViewItemVisual-dRlGq" aria-hidden="true"><svg aria-hidden="true" focusable="false" class="octicon octicon-file" viewBox="0 0 16 16" width="16" height="16" fill="currentColor" display="inline-block" overflow="visible" style="vertical-align: text-bottom;"><path d="M2 1.75C2 .784 2.784 0 3.75 0h6.586c.464 0 .909.184 1.237.513l2.914 2.914c.329.328.513.773.513 1.237v9.586A1.75 1.75 0 0 1 13.25 16h-9.5A1.75 1.75 0 0 1 2 14.25Zm1.75-.25a.25.25 0 0 0-.25.25v12.5c0 .138.112.25.25.25h9.5a.25.25 0 0 0 .25-.25V6h-2.75A1.75 1.75 0 0 1 9 4.25V1.5Zm6.75.062V4.25c0 .138.112.25.25.25h2.688l-.011-.013-2.914-2.914-.013-.011Z"></path></svg></div><span class="PRIVATE_TreeView-item-content-text prc-TreeView-TreeViewItemContentText-smZM-"><span>BFS_AI_2025.ipynb</span></span></div></div></li><li class="PRIVATE_TreeView-item prc-TreeView-TreeViewItem-ShJr0" tabindex="-1" id="DFS_AI_2025.ipynb-item" role="treeitem" aria-labelledby=":r6:" aria-describedby=":r7:" aria-level="1" aria-selected="false"><div class="PRIVATE_TreeView-item-container prc-TreeView-TreeViewItemContainer--2Rkn" style="--level: 1; content-visibility: auto; contain-intrinsic-size: auto 2rem;"><div style="grid-area: spacer; display: flex;"><div style="width: 100%; display: flex;"></div></div><div id=":r6:" class="PRIVATE_TreeView-item-content prc-TreeView-TreeViewItemContent-f0r0b"><div class="PRIVATE_VisuallyHidden prc-TreeView-TreeViewVisuallyHidden-4-mPv" aria-hidden="true" id=":r7:"></div><div class="PRIVATE_TreeView-item-visual prc-TreeView-TreeViewItemVisual-dRlGq" aria-hidden="true"><svg aria-hidden="true" focusable="false" class="octicon octicon-file" viewBox="0 0 16 16" width="16" height="16" fill="currentColor" display="inline-block" overflow="visible" style="vertical-align: text-bottom;"><path d="M2 1.75C2 .784 2.784 0 3.75 0h6.586c.464 0 .909.184 1.237.513l2.914 2.914c.329.328.513.773.513 1.237v9.586A1.75 1.75 0 0 1 13.25 16h-9.5A1.75 1.75 0 0 1 2 14.25Zm1.75-.25a.25.25 0 0 0-.25.25v12.5c0 .138.112.25.25.25h9.5a.25.25 0 0 0 .25-.25V6h-2.75A1.75 1.75 0 0 1 9 4.25V1.5Zm6.75.062V4.25c0 .138.112.25.25.25h2.688l-.011-.013-2.914-2.914-.013-.011Z"></path></svg></div><span class="PRIVATE_TreeView-item-content-text prc-TreeView-TreeViewItemContentText-smZM-"><span>DFS_AI_2025.ipynb</span></span></div></div></li><li class="PRIVATE_TreeView-item prc-TreeView-TreeViewItem-ShJr0" tabindex="0" id="GreedyBFS_AI_2025.ipynb-item" role="treeitem" aria-labelledby=":r9:" aria-describedby=":ra:" aria-level="1" aria-selected="true" aria-current="true"><div class="PRIVATE_TreeView-item-container prc-TreeView-TreeViewItemContainer--2Rkn" style="--level: 1;"><div style="grid-area: spacer; display: flex;"><div style="width: 100%; display: flex;"></div></div><div id=":r9:" class="PRIVATE_TreeView-item-content prc-TreeView-TreeViewItemContent-f0r0b"><div class="PRIVATE_VisuallyHidden prc-TreeView-TreeViewVisuallyHidden-4-mPv" aria-hidden="true" id=":ra:"></div><div class="PRIVATE_TreeView-item-visual prc-TreeView-TreeViewItemVisual-dRlGq" aria-hidden="true"><svg aria-hidden="true" focusable="false" class="octicon octicon-file" viewBox="0 0 16 16" width="16" height="16" fill="currentColor" display="inline-block" overflow="visible" style="vertical-align: text-bottom;"><path d="M2 1.75C2 .784 2.784 0 3.75 0h6.586c.464 0 .909.184 1.237.513l2.914 2.914c.329.328.513.773.513 1.237v9.586A1.75 1.75 0 0 1 13.25 16h-9.5A1.75 1.75 0 0 1 2 14.25Zm1.75-.25a.25.25 0 0 0-.25.25v12.5c0 .138.112.25.25.25h9.5a.25.25 0 0 0 .25-.25V6h-2.75A1.75 1.75 0 0 1 9 4.25V1.5Zm6.75.062V4.25c0 .138.112.25.25.25h2.688l-.011-.013-2.914-2.914-.013-.011Z"></path></svg></div><span class="PRIVATE_TreeView-item-content-text prc-TreeView-TreeViewItemContentText-smZM-"><span>GreedyBFS_AI_2025.ipynb</span></span></div></div></li><li class="PRIVATE_TreeView-item prc-TreeView-TreeViewItem-ShJr0" tabindex="-1" id="Logistic_Regression_DL_2025.ipynb-item" role="treeitem" aria-labelledby=":rc:" aria-describedby=":rd:" aria-level="1" aria-selected="false"><div class="PRIVATE_TreeView-item-container prc-TreeView-TreeViewItemContainer--2Rkn" style="--level: 1; content-visibility: auto; contain-intrinsic-size: auto 2rem;"><div style="grid-area: spacer; display: flex;"><div style="width: 100%; display: flex;"></div></div><div id=":rc:" class="PRIVATE_TreeView-item-content prc-TreeView-TreeViewItemContent-f0r0b"><div class="PRIVATE_VisuallyHidden prc-TreeView-TreeViewVisuallyHidden-4-mPv" aria-hidden="true" id=":rd:"></div><div class="PRIVATE_TreeView-item-visual prc-TreeView-TreeViewItemVisual-dRlGq" aria-hidden="true"><svg aria-hidden="true" focusable="false" class="octicon octicon-file" viewBox="0 0 16 16" width="16" height="16" fill="currentColor" display="inline-block" overflow="visible" style="vertical-align: text-bottom;"><path d="M2 1.75C2 .784 2.784 0 3.75 0h6.586c.464 0 .909.184 1.237.513l2.914 2.914c.329.328.513.773.513 1.237v9.586A1.75 1.75 0 0 1 13.25 16h-9.5A1.75 1.75 0 0 1 2 14.25Zm1.75-.25a.25.25 0 0 0-.25.25v12.5c0 .138.112.25.25.25h9.5a.25.25 0 0 0 .25-.25V6h-2.75A1.75 1.75 0 0 1 9 4.25V1.5Zm6.75.062V4.25c0 .138.112.25.25.25h2.688l-.011-.013-2.914-2.914-.013-.011Z"></path></svg></div><span class="PRIVATE_TreeView-item-content-text prc-TreeView-TreeViewItemContentText-smZM-"><span>Logistic_Regression_DL_2025.ipynb</span></span></div></div></li><li class="PRIVATE_TreeView-item prc-TreeView-TreeViewItem-ShJr0" tabindex="-1" id="MinMaxSearch_AI_2025.ipynb-item" role="treeitem" aria-labelledby=":rf:" aria-describedby=":rg:" aria-level="1" aria-selected="false"><div class="PRIVATE_TreeView-item-container prc-TreeView-TreeViewItemContainer--2Rkn" style="--level: 1; content-visibility: auto; contain-intrinsic-size: auto 2rem;"><div style="grid-area: spacer; display: flex;"><div style="width: 100%; display: flex;"></div></div><div id=":rf:" class="PRIVATE_TreeView-item-content prc-TreeView-TreeViewItemContent-f0r0b"><div class="PRIVATE_VisuallyHidden prc-TreeView-TreeViewVisuallyHidden-4-mPv" aria-hidden="true" id=":rg:"></div><div class="PRIVATE_TreeView-item-visual prc-TreeView-TreeViewItemVisual-dRlGq" aria-hidden="true"><svg aria-hidden="true" focusable="false" class="octicon octicon-file" viewBox="0 0 16 16" width="16" height="16" fill="currentColor" display="inline-block" overflow="visible" style="vertical-align: text-bottom;"><path d="M2 1.75C2 .784 2.784 0 3.75 0h6.586c.464 0 .909.184 1.237.513l2.914 2.914c.329.328.513.773.513 1.237v9.586A1.75 1.75 0 0 1 13.25 16h-9.5A1.75 1.75 0 0 1 2 14.25Zm1.75-.25a.25.25 0 0 0-.25.25v12.5c0 .138.112.25.25.25h9.5a.25.25 0 0 0 .25-.25V6h-2.75A1.75 1.75 0 0 1 9 4.25V1.5Zm6.75.062V4.25c0 .138.112.25.25.25h2.688l-.011-.013-2.914-2.914-.013-.011Z"></path></svg></div><span class="PRIVATE_TreeView-item-content-text prc-TreeView-TreeViewItemContentText-smZM-"><span>MinMaxSearch_AI_2025.ipynb</span></span></div></div></li><li class="PRIVATE_TreeView-item prc-TreeView-TreeViewItem-ShJr0" tabindex="-1" id="MinMax_AlphaBeta_heuristic_AI_2025.ipynb-item" role="treeitem" aria-labelledby=":ri:" aria-describedby=":rj:" aria-level="1" aria-selected="false"><div class="PRIVATE_TreeView-item-container prc-TreeView-TreeViewItemContainer--2Rkn" style="--level: 1; content-visibility: auto; contain-intrinsic-size: auto 2rem;"><div style="grid-area: spacer; display: flex;"><div style="width: 100%; display: flex;"></div></div><div id=":ri:" class="PRIVATE_TreeView-item-content prc-TreeView-TreeViewItemContent-f0r0b"><div class="PRIVATE_VisuallyHidden prc-TreeView-TreeViewVisuallyHidden-4-mPv" aria-hidden="true" id=":rj:"></div><div class="PRIVATE_TreeView-item-visual prc-TreeView-TreeViewItemVisual-dRlGq" aria-hidden="true"><svg aria-hidden="true" focusable="false" class="octicon octicon-file" viewBox="0 0 16 16" width="16" height="16" fill="currentColor" display="inline-block" overflow="visible" style="vertical-align: text-bottom;"><path d="M2 1.75C2 .784 2.784 0 3.75 0h6.586c.464 0 .909.184 1.237.513l2.914 2.914c.329.328.513.773.513 1.237v9.586A1.75 1.75 0 0 1 13.25 16h-9.5A1.75 1.75 0 0 1 2 14.25Zm1.75-.25a.25.25 0 0 0-.25.25v12.5c0 .138.112.25.25.25h9.5a.25.25 0 0 0 .25-.25V6h-2.75A1.75 1.75 0 0 1 9 4.25V1.5Zm6.75.062V4.25c0 .138.112.25.25.25h2.688l-.011-.013-2.914-2.914-.013-.011Z"></path></svg></div><span class="PRIVATE_TreeView-item-content-text prc-TreeView-TreeViewItemContentText-smZM-"><span>MinMax_AlphaBeta_heuristic_AI_2025.ipynb</span></span></div></div></li><li class="PRIVATE_TreeView-item prc-TreeView-TreeViewItem-ShJr0" tabindex="-1" id="MinMax_AlphaPruning_AI_2025.ipynb-item" role="treeitem" aria-labelledby=":rl:" aria-describedby=":rm:" aria-level="1" aria-selected="false"><div class="PRIVATE_TreeView-item-container prc-TreeView-TreeViewItemContainer--2Rkn" style="--level: 1; content-visibility: auto; contain-intrinsic-size: auto 2rem;"><div style="grid-area: spacer; display: flex;"><div style="width: 100%; display: flex;"></div></div><div id=":rl:" class="PRIVATE_TreeView-item-content prc-TreeView-TreeViewItemContent-f0r0b"><div class="PRIVATE_VisuallyHidden prc-TreeView-TreeViewVisuallyHidden-4-mPv" aria-hidden="true" id=":rm:"></div><div class="PRIVATE_TreeView-item-visual prc-TreeView-TreeViewItemVisual-dRlGq" aria-hidden="true"><svg aria-hidden="true" focusable="false" class="octicon octicon-file" viewBox="0 0 16 16" width="16" height="16" fill="currentColor" display="inline-block" overflow="visible" style="vertical-align: text-bottom;"><path d="M2 1.75C2 .784 2.784 0 3.75 0h6.586c.464 0 .909.184 1.237.513l2.914 2.914c.329.328.513.773.513 1.237v9.586A1.75 1.75 0 0 1 13.25 16h-9.5A1.75 1.75 0 0 1 2 14.25Zm1.75-.25a.25.25 0 0 0-.25.25v12.5c0 .138.112.25.25.25h9.5a.25.25 0 0 0 .25-.25V6h-2.75A1.75 1.75 0 0 1 9 4.25V1.5Zm6.75.062V4.25c0 .138.112.25.25.25h2.688l-.011-.013-2.914-2.914-.013-.011Z"></path></svg></div><span class="PRIVATE_TreeView-item-content-text prc-TreeView-TreeViewItemContentText-smZM-"><span>MinMax_AlphaPruning_AI_2025.ipynb</span></span></div></div></li><li class="PRIVATE_TreeView-item prc-TreeView-TreeViewItem-ShJr0" tabindex="-1" id="MinMax_Search_Lab.ipynb-item" role="treeitem" aria-labelledby=":ro:" aria-describedby=":rp:" aria-level="1" aria-selected="false"><div class="PRIVATE_TreeView-item-container prc-TreeView-TreeViewItemContainer--2Rkn" style="--level: 1; content-visibility: auto; contain-intrinsic-size: auto 2rem;"><div style="grid-area: spacer; display: flex;"><div style="width: 100%; display: flex;"></div></div><div id=":ro:" class="PRIVATE_TreeView-item-content prc-TreeView-TreeViewItemContent-f0r0b"><div class="PRIVATE_VisuallyHidden prc-TreeView-TreeViewVisuallyHidden-4-mPv" aria-hidden="true" id=":rp:"></div><div class="PRIVATE_TreeView-item-visual prc-TreeView-TreeViewItemVisual-dRlGq" aria-hidden="true"><svg aria-hidden="true" focusable="false" class="octicon octicon-file" viewBox="0 0 16 16" width="16" height="16" fill="currentColor" display="inline-block" overflow="visible" style="vertical-align: text-bottom;"><path d="M2 1.75C2 .784 2.784 0 3.75 0h6.586c.464 0 .909.184 1.237.513l2.914 2.914c.329.328.513.773.513 1.237v9.586A1.75 1.75 0 0 1 13.25 16h-9.5A1.75 1.75 0 0 1 2 14.25Zm1.75-.25a.25.25 0 0 0-.25.25v12.5c0 .138.112.25.25.25h9.5a.25.25 0 0 0 .25-.25V6h-2.75A1.75 1.75 0 0 1 9 4.25V1.5Zm6.75.062V4.25c0 .138.112.25.25.25h2.688l-.011-.013-2.914-2.914-.013-.011Z"></path></svg></div><span class="PRIVATE_TreeView-item-content-text prc-TreeView-TreeViewItemContentText-smZM-"><span>MinMax_Search_Lab.ipynb</span></span></div></div></li><li class="PRIVATE_TreeView-item prc-TreeView-TreeViewItem-ShJr0" tabindex="-1" id="ReadMe-item" role="treeitem" aria-labelledby=":rr:" aria-describedby=":rs:" aria-level="1" aria-selected="false"><div class="PRIVATE_TreeView-item-container prc-TreeView-TreeViewItemContainer--2Rkn" style="--level: 1; content-visibility: auto; contain-intrinsic-size: auto 2rem;"><div style="grid-area: spacer; display: flex;"><div style="width: 100%; display: flex;"></div></div><div id=":rr:" class="PRIVATE_TreeView-item-content prc-TreeView-TreeViewItemContent-f0r0b"><div class="PRIVATE_VisuallyHidden prc-TreeView-TreeViewVisuallyHidden-4-mPv" aria-hidden="true" id=":rs:"></div><div class="PRIVATE_TreeView-item-visual prc-TreeView-TreeViewItemVisual-dRlGq" aria-hidden="true"><svg aria-hidden="true" focusable="false" class="octicon octicon-file" viewBox="0 0 16 16" width="16" height="16" fill="currentColor" display="inline-block" overflow="visible" style="vertical-align: text-bottom;"><path d="M2 1.75C2 .784 2.784 0 3.75 0h6.586c.464 0 .909.184 1.237.513l2.914 2.914c.329.328.513.773.513 1.237v9.586A1.75 1.75 0 0 1 13.25 16h-9.5A1.75 1.75 0 0 1 2 14.25Zm1.75-.25a.25.25 0 0 0-.25.25v12.5c0 .138.112.25.25.25h9.5a.25.25 0 0 0 .25-.25V6h-2.75A1.75 1.75 0 0 1 9 4.25V1.5Zm6.75.062V4.25c0 .138.112.25.25.25h2.688l-.011-.013-2.914-2.914-.013-.011Z"></path></svg></div><span class="PRIVATE_TreeView-item-content-text prc-TreeView-TreeViewItemContentText-smZM-"><span>ReadMe</span></span></div></div></li></ul></nav></div></div></div></div></div></div></div><div class="prc-PageLayout-VerticalDivider-4A4Qm prc-PageLayout-PaneVerticalDivider-1c9vy" data-variant="line" data-position="start" style="--spacing:var(--spacing-none)"><div role="slider" aria-label="Draggable pane splitter" aria-valuemin="256" aria-valuemax="569" aria-valuenow="320" aria-valuetext="Pane width 320 pixels" tabindex="0" class="Box-sc-g0xbh4-0 bHLmSv"></div></div></div></div><div class="prc-PageLayout-ContentWrapper-b-QRo CodeView-module__SplitPageLayout_Content--qxR1C" data-is-hidden="false"><div class="prc-PageLayout-Content--F7-I" data-width="full" style="--spacing:var(--spacing-none)"><div data-selector="repos-split-pane-content" tabindex="0" class="Box-sc-g0xbh4-0 leYMvG"><div class="Box-sc-g0xbh4-0 KMPzq"><div class="container CodeViewHeader-module__Box--PofRM"><div class="px-3 pt-3 pb-0" id="StickyHeader"><div class="CodeViewHeader-module__Box_1--KpLzV"><div class="CodeViewHeader-module__Box_2--xzDOt"><div class="CodeViewHeader-module__Box_6--iStzT"><div class="Box-sc-g0xbh4-0 cEytCf"><nav data-testid="breadcrumbs" aria-labelledby="repos-header-breadcrumb--wide-heading" id="repos-header-breadcrumb--wide" class="Box-sc-g0xbh4-0 fzFXnm"><h2 class="sr-only ScreenReaderHeading-module__userSelectNone--vlUbc prc-Heading-Heading-6CmGO" data-testid="screen-reader-heading" id="repos-header-breadcrumb--wide-heading">Breadcrumbs</h2><ol class="Box-sc-g0xbh4-0 iMnkmv"><li class="Box-sc-g0xbh4-0 ghzDag"><a class="Box-sc-g0xbh4-0 kHuKdh prc-Link-Link-85e08" sx="[object Object]" data-testid="breadcrumbs-repo-link" href="https://github.com/aruntakhur/SitareUniversity/tree/main" data-discover="true">SitareUniversity</a></li></ol></nav><div data-testid="breadcrumbs-filename" class="Box-sc-g0xbh4-0 ghzDag"><span class="Box-sc-g0xbh4-0 hzJBof prc-Text-Text-0ima0" aria-hidden="true">/</span><h1 class="Box-sc-g0xbh4-0 jGhzSQ prc-Heading-Heading-6CmGO" tabindex="-1" id="file-name-id-wide">GreedyBFS_AI_2025.ipynb</h1></div><button data-component="IconButton" type="button" class="prc-Button-ButtonBase-c50BI ml-2 prc-Button-IconButton-szpyj" data-loading="false" data-no-visuals="true" data-size="small" data-variant="invisible" aria-describedby=":Rvb9lab:-loading-announcement" aria-labelledby=":R3b9lab:"><svg aria-hidden="true" focusable="false" class="octicon octicon-copy" viewBox="0 0 16 16" width="16" height="16" fill="currentColor" display="inline-block" overflow="visible" style="vertical-align:text-bottom"><path d="M0 6.75C0 5.784.784 5 1.75 5h1.5a.75.75 0 0 1 0 1.5h-1.5a.25.25 0 0 0-.25.25v7.5c0 .138.112.25.25.25h7.5a.25.25 0 0 0 .25-.25v-1.5a.75.75 0 0 1 1.5 0v1.5A1.75 1.75 0 0 1 9.25 16h-7.5A1.75 1.75 0 0 1 0 14.25Z"></path><path d="M5 1.75C5 .784 5.784 0 6.75 0h7.5C15.216 0 16 .784 16 1.75v7.5A1.75 1.75 0 0 1 14.25 11h-7.5A1.75 1.75 0 0 1 5 9.25Zm1.75-.25a.25.25 0 0 0-.25.25v7.5c0 .138.112.25.25.25h7.5a.25.25 0 0 0 .25-.25v-7.5a.25.25 0 0 0-.25-.25Z"></path></svg></button><span class="CopyToClipboardButton-module__tooltip--HDUYz prc-TooltipV2-Tooltip-cYMVY" data-direction="nw" aria-label="Copy path" aria-hidden="true" id=":R3b9lab:" popover="auto">Copy path</span></div></div><div class="react-code-view-header-element--wide"><div class="CodeViewHeader-module__Box_7--FZfkg"><div class="d-flex gap-2"> <button type="button" class="Box-sc-g0xbh4-0 fjrFuv prc-Button-ButtonBase-c50BI NavigationMenu-module__Button--SJihq" data-loading="false" data-no-visuals="true" data-size="medium" data-variant="default" aria-describedby=":R1ahj9lab:-loading-announcement" data-hotkey="b,Shift+B,Control+/ Control+b"><span data-component="buttonContent" class="Box-sc-g0xbh4-0 gUkoLg prc-Button-ButtonContent-HKbr-"><span data-component="text" class="prc-Button-Label-pTQ3x">Blame</span></span></button><button hidden="" data-testid="" data-hotkey-scope="read-only-cursor-text-area" data-hotkey="b,Shift+B,Control+/ Control+b"></button><button data-component="IconButton" type="button" data-testid="more-file-actions-button-nav-menu-wide" aria-haspopup="true" aria-expanded="false" tabindex="0" class="prc-Button-ButtonBase-c50BI js-blob-dropdown-click NavigationMenu-module__IconButton--NqJ_L prc-Button-IconButton-szpyj" data-loading="false" data-no-visuals="true" data-size="medium" data-variant="default" aria-describedby=":Rihj9lab:-loading-announcement" aria-labelledby=":Rfihj9lab:" id=":Rihj9lab:"><svg aria-hidden="true" focusable="false" class="octicon octicon-kebab-horizontal" viewBox="0 0 16 16" width="16" height="16" fill="currentColor" display="inline-block" overflow="visible" style="vertical-align:text-bottom"><path d="M8 9a1.5 1.5 0 1 0 0-3 1.5 1.5 0 0 0 0 3ZM1.5 9a1.5 1.5 0 1 0 0-3 1.5 1.5 0 0 0 0 3Zm13 0a1.5 1.5 0 1 0 0-3 1.5 1.5 0 0 0 0 3Z"></path></svg></button><span class="prc-TooltipV2-Tooltip-cYMVY" data-direction="nw" aria-hidden="true" id=":Rfihj9lab:" popover="auto">More file actions</span> </div></div></div><div class="react-code-view-header-element--narrow"><div class="CodeViewHeader-module__Box_7--FZfkg"><div class="d-flex gap-2"> <button type="button" class="Box-sc-g0xbh4-0 fjrFuv prc-Button-ButtonBase-c50BI NavigationMenu-module__Button--SJihq" data-loading="false" data-no-visuals="true" data-size="medium" data-variant="default" aria-describedby=":R1ahr9lab:-loading-announcement" data-hotkey="b,Shift+B,Control+/ Control+b"><span data-component="buttonContent" class="Box-sc-g0xbh4-0 gUkoLg prc-Button-ButtonContent-HKbr-"><span data-component="text" class="prc-Button-Label-pTQ3x">Blame</span></span></button><button hidden="" data-testid="" data-hotkey-scope="read-only-cursor-text-area" data-hotkey="b,Shift+B,Control+/ Control+b"></button><button data-component="IconButton" type="button" data-testid="more-file-actions-button-nav-menu-narrow" aria-haspopup="true" aria-expanded="false" tabindex="0" class="prc-Button-ButtonBase-c50BI js-blob-dropdown-click NavigationMenu-module__IconButton--NqJ_L prc-Button-IconButton-szpyj" data-loading="false" data-no-visuals="true" data-size="medium" data-variant="default" aria-describedby=":Rihr9lab:-loading-announcement" aria-labelledby=":Rfihr9lab:" id=":Rihr9lab:"><svg aria-hidden="true" focusable="false" class="octicon octicon-kebab-horizontal" viewBox="0 0 16 16" width="16" height="16" fill="currentColor" display="inline-block" overflow="visible" style="vertical-align:text-bottom"><path d="M8 9a1.5 1.5 0 1 0 0-3 1.5 1.5 0 0 0 0 3ZM1.5 9a1.5 1.5 0 1 0 0-3 1.5 1.5 0 0 0 0 3Zm13 0a1.5 1.5 0 1 0 0-3 1.5 1.5 0 0 0 0 3Z"></path></svg></button><span class="prc-TooltipV2-Tooltip-cYMVY" data-direction="nw" aria-hidden="true" id=":Rfihr9lab:" popover="auto">More file actions</span> </div></div></div></div></div></div></div></div><div class="Box-sc-g0xbh4-0 dJxjrT react-code-view-bottom-padding"> <div class="BlobTopBanners-module__Box--g_bGk"></div> <!-- --> <!-- --> </div><div class="Box-sc-g0xbh4-0 dJxjrT"> <!-- --> <!-- --> <div class="d-flex flex-column border rounded-2 mb-3 pl-1"><div class="LatestCommit-module__Box--Fimpo"><h2 class="sr-only ScreenReaderHeading-module__userSelectNone--vlUbc prc-Heading-Heading-6CmGO" data-testid="screen-reader-heading">Latest commit</h2><div data-testid="latest-commit" class="LatestCommit-module__Box_1--aQ5OG"><div class="CommitAttribution-module__CommitAttributionContainer--Si80C"><div data-testid="author-avatar" class="Box-sc-g0xbh4-0 AuthorAvatar-module__AuthorAvatarContainer--Z1TF8"><a class="prc-Link-Link-85e08" href="https://github.com/aruntakhur" data-testid="avatar-icon-link" data-hovercard-url="/users/aruntakhur/hovercard" aria-keyshortcuts="Alt+ArrowUp"><img data-component="Avatar" class="AuthorAvatar-module__authorAvatarImage--bQzij prc-Avatar-Avatar-ZRS-m" alt="aruntakhur" width="20" height="20" src="./Greedy_BFS_files/5259552" data-testid="github-avatar" aria-label="aruntakhur" style="--avatarSize-regular: 20px;"></a><a class="Box-sc-g0xbh4-0 gLSgdJ AuthorAvatar-module__authorHoverableLink--vw9qe prc-Link-Link-85e08" data-muted="true" href="https://github.com/aruntakhur/SitareUniversity/commits?author=aruntakhur" aria-label="commits by aruntakhur" data-hovercard-url="/users/aruntakhur/hovercard" aria-keyshortcuts="Alt+ArrowUp">aruntakhur</a></div><span class=""></span></div><div class="d-none d-sm-flex LatestCommit-module__Box_2--JDY37"><div class="Truncate flex-items-center f5"><span class="Truncate-text prc-Text-Text-0ima0" data-testid="latest-commit-html"><a href="https://github.com/aruntakhur/SitareUniversity/commit/bf89c4e93437ecf70e54afa735de7d8022a1bd1f" class="Link--secondary" data-pjax="true" data-hovercard-url="/aruntakhur/SitareUniversity/commit/bf89c4e93437ecf70e54afa735de7d8022a1bd1f/hovercard" aria-keyshortcuts="Alt+ArrowUp">Created using Colab</a></span></div></div><span class="d-flex d-sm-none fgColor-muted f6"><relative-time class="sc-aXZVg" tense="past" datetime="2025-09-01T08:24:44.000Z" title="Sep 1, 2025, 1:54 PM GMT+5:30"><template shadowrootmode="open">last week</template>Sep 1, 2025</relative-time></span></div><div class="d-flex flex-shrink-0 gap-2"><div data-testid="latest-commit-details" class="d-none d-sm-flex flex-items-center"><span class="d-flex flex-nowrap fgColor-muted f6"><a class="Link--secondary prc-Link-Link-85e08" aria-label="Commit bf89c4e" data-hovercard-url="/aruntakhur/SitareUniversity/commit/bf89c4e93437ecf70e54afa735de7d8022a1bd1f/hovercard" href="https://github.com/aruntakhur/SitareUniversity/commit/bf89c4e93437ecf70e54afa735de7d8022a1bd1f" data-discover="true" aria-keyshortcuts="Alt+ArrowUp">bf89c4e</a>&nbsp;·&nbsp;<relative-time class="sc-aXZVg" tense="past" datetime="2025-09-01T08:24:44.000Z" title="Sep 1, 2025, 1:54 PM GMT+5:30"><template shadowrootmode="open">last week</template>Sep 1, 2025</relative-time></span></div><div class="d-flex gap-2"><h2 class="sr-only ScreenReaderHeading-module__userSelectNone--vlUbc prc-Heading-Heading-6CmGO" data-testid="screen-reader-heading">History</h2><a href="https://github.com/aruntakhur/SitareUniversity/commits/main/GreedyBFS_AI_2025.ipynb" class="prc-Button-ButtonBase-c50BI d-none d-lg-flex LinkButton-module__code-view-link-button--thtqc flex-items-center fgColor-default" data-loading="false" data-size="small" data-variant="invisible" aria-describedby=":R1bdal9lab:-loading-announcement"><span data-component="buttonContent" data-align="center" class="prc-Button-ButtonContent-HKbr-"><span data-component="leadingVisual" class="prc-Button-Visual-2epfX prc-Button-VisualWrap-Db-eB"><svg aria-hidden="true" focusable="false" class="octicon octicon-history" viewBox="0 0 16 16" width="16" height="16" fill="currentColor" display="inline-block" overflow="visible" style="vertical-align:text-bottom"><path d="m.427 1.927 1.215 1.215a8.002 8.002 0 1 1-1.6 5.685.75.75 0 1 1 1.493-.154 6.5 6.5 0 1 0 1.18-4.458l1.358 1.358A.25.25 0 0 1 3.896 6H.25A.25.25 0 0 1 0 5.75V2.104a.25.25 0 0 1 .427-.177ZM7.75 4a.75.75 0 0 1 .75.75v2.992l2.028.812a.75.75 0 0 1-.557 1.392l-2.5-1A.751.751 0 0 1 7 8.25v-3.5A.75.75 0 0 1 7.75 4Z"></path></svg></span><span data-component="text" class="prc-Button-Label-pTQ3x"><span class="fgColor-default">History</span></span></span></a><div class="d-sm-none"><button data-component="IconButton" type="button" aria-pressed="false" aria-expanded="false" data-testid="latest-commit-details-toggle" class="prc-Button-ButtonBase-c50BI LatestCommit-module__IconButton--Zxaob prc-Button-IconButton-szpyj" data-loading="false" data-no-visuals="true" data-size="small" data-variant="invisible" aria-describedby=":r1f:-loading-announcement" aria-labelledby=":r1e:"><svg aria-hidden="true" focusable="false" class="octicon octicon-ellipsis" viewBox="0 0 16 16" width="16" height="16" fill="currentColor" display="inline-block" overflow="visible" style="vertical-align: text-bottom;"><path d="M0 5.75C0 4.784.784 4 1.75 4h12.5c.966 0 1.75.784 1.75 1.75v4.5A1.75 1.75 0 0 1 14.25 12H1.75A1.75 1.75 0 0 1 0 10.25ZM12 7a1 1 0 1 0 0 2 1 1 0 0 0 0-2ZM7 8a1 1 0 1 0 2 0 1 1 0 0 0-2 0ZM4 7a1 1 0 1 0 0 2 1 1 0 0 0 0-2Z"></path></svg></button><span class="prc-TooltipV2-Tooltip-cYMVY" data-direction="s" aria-hidden="true" id=":r1e:" popover="auto">Open commit details</span></div><div class="d-flex d-lg-none"><span role="tooltip" aria-label="History" id="history-icon-button-tooltip" class="Tooltip__TooltipBase-sc-17tf59c-0 hWlpPn tooltipped-n"><a aria-label="View commit history for this file." href="https://github.com/aruntakhur/SitareUniversity/commits/main/GreedyBFS_AI_2025.ipynb" class="prc-Button-ButtonBase-c50BI LinkButton-module__code-view-link-button--thtqc flex-items-center fgColor-default" data-loading="false" data-size="small" data-variant="invisible" aria-describedby=":R6bdal9lab:-loading-announcement history-icon-button-tooltip"><span data-component="buttonContent" data-align="center" class="prc-Button-ButtonContent-HKbr-"><span data-component="leadingVisual" class="prc-Button-Visual-2epfX prc-Button-VisualWrap-Db-eB"><svg aria-hidden="true" focusable="false" class="octicon octicon-history" viewBox="0 0 16 16" width="16" height="16" fill="currentColor" display="inline-block" overflow="visible" style="vertical-align:text-bottom"><path d="m.427 1.927 1.215 1.215a8.002 8.002 0 1 1-1.6 5.685.75.75 0 1 1 1.493-.154 6.5 6.5 0 1 0 1.18-4.458l1.358 1.358A.25.25 0 0 1 3.896 6H.25A.25.25 0 0 1 0 5.75V2.104a.25.25 0 0 1 .427-.177ZM7.75 4a.75.75 0 0 1 .75.75v2.992l2.028.812a.75.75 0 0 1-.557 1.392l-2.5-1A.751.751 0 0 1 7 8.25v-3.5A.75.75 0 0 1 7.75 4Z"></path></svg></span></span></a></span></div></div></div></div></div><div class="Box-sc-g0xbh4-0 ldRxiI"><div class="Box-sc-g0xbh4-0 fVkfyA container"><div class="Box-sc-g0xbh4-0 gNAmSV react-code-size-details-banner"><div class="react-code-size-details-banner CodeSizeDetails-module__Box--QdxnQ"><div class="text-mono CodeSizeDetails-module__Box_1--_uFDs"><div data-testid="blob-size" class="CodeSizeDetails-module__Truncate_1--er0Uk prc-Truncate-Truncate-A9Wn6" data-inline="true" title="17.1 KB" style="--truncate-max-width:100%"><span>546 lines (546 loc) · 17.1 KB</span></div></div></div></div><div class="Box-sc-g0xbh4-0 jdLMhu react-blob-view-header-sticky" id="repos-sticky-header"><div class="BlobViewHeader-module__Box--pvsIA"><div class="react-blob-sticky-header"><div class="Box-sc-g0xbh4-0 hqwSEx"><div class="FileNameStickyHeader-module__Box_5--xBJ2J"><div class="Box-sc-g0xbh4-0 fHind"><nav data-testid="breadcrumbs" aria-labelledby="sticky-breadcrumb-heading" id="sticky-breadcrumb" class="Box-sc-g0xbh4-0 fzFXnm"><h2 class="sr-only ScreenReaderHeading-module__userSelectNone--vlUbc prc-Heading-Heading-6CmGO" data-testid="screen-reader-heading" id="sticky-breadcrumb-heading">Breadcrumbs</h2><ol class="Box-sc-g0xbh4-0 iMnkmv"><li class="Box-sc-g0xbh4-0 ghzDag"><a class="Box-sc-g0xbh4-0 kHuKdh prc-Link-Link-85e08" sx="[object Object]" data-testid="breadcrumbs-repo-link" href="https://github.com/aruntakhur/SitareUniversity/tree/main" data-discover="true">SitareUniversity</a></li></ol></nav><div data-testid="breadcrumbs-filename" class="Box-sc-g0xbh4-0 ghzDag"><span class="Box-sc-g0xbh4-0 oDtgN prc-Text-Text-0ima0" aria-hidden="true">/</span><h1 class="Box-sc-g0xbh4-0 dnZoUW prc-Heading-Heading-6CmGO" tabindex="-1" id="sticky-file-name-id">GreedyBFS_AI_2025.ipynb</h1></div></div><button type="button" class="prc-Button-ButtonBase-c50BI FileNameStickyHeader-module__Button--SaiiH FileNameStickyHeader-module__GoToTopButton--9lB4x" data-loading="false" data-size="small" data-variant="invisible" aria-describedby=":R4mfal9lab:-loading-announcement"><span data-component="buttonContent" data-align="center" class="prc-Button-ButtonContent-HKbr-"><span data-component="leadingVisual" class="prc-Button-Visual-2epfX prc-Button-VisualWrap-Db-eB"><svg aria-hidden="true" focusable="false" class="octicon octicon-arrow-up" viewBox="0 0 16 16" width="16" height="16" fill="currentColor" display="inline-block" overflow="visible" style="vertical-align:text-bottom"><path d="M3.47 7.78a.75.75 0 0 1 0-1.06l4.25-4.25a.75.75 0 0 1 1.06 0l4.25 4.25a.751.751 0 0 1-.018 1.042.751.751 0 0 1-1.042.018L9 4.81v7.44a.75.75 0 0 1-1.5 0V4.81L4.53 7.78a.75.75 0 0 1-1.06 0Z"></path></svg></span><span data-component="text" class="prc-Button-Label-pTQ3x">Top</span></span></button></div></div></div><div class="Box-sc-g0xbh4-0 gFKFyc BlobViewHeader-module__Box_1--PPihg"><h2 class="sr-only ScreenReaderHeading-module__userSelectNone--vlUbc prc-Heading-Heading-6CmGO" data-testid="screen-reader-heading">File metadata and controls</h2><div class="BlobViewHeader-module__Box_2--G_jCG"><ul aria-label="File view" class="prc-SegmentedControl-SegmentedControl-e7570 BlobTabButtons-module__SegmentedControl--JMGov" data-size="small"><li class="prc-SegmentedControl-Item-7Aq6h" data-selected=""><button aria-current="true" class="prc-SegmentedControl-Button-ojWXD" type="button" style="--separator-color:transparent" data-hotkey="Control+/ Control+p"><span class="prc-SegmentedControl-Content-gnQ4n segmentedControl-content"><div class="prc-SegmentedControl-Text-c5gSh segmentedControl-text" data-text="Preview">Preview</div></span></button></li><li class="prc-SegmentedControl-Item-7Aq6h"><button aria-current="false" class="prc-SegmentedControl-Button-ojWXD" type="button" style="--separator-color:var(--borderColor-default, var(--color-border-default, #d0d7de))" data-hotkey="Control+/ Control+c"><span class="prc-SegmentedControl-Content-gnQ4n segmentedControl-content"><div class="prc-SegmentedControl-Text-c5gSh segmentedControl-text" data-text="Code">Code</div></span></button></li><li class="prc-SegmentedControl-Item-7Aq6h"><button aria-current="false" class="prc-SegmentedControl-Button-ojWXD" type="button" style="--separator-color:var(--borderColor-default, var(--color-border-default, #d0d7de))" data-hotkey="b,Shift+B,Control+/ Control+b"><span class="prc-SegmentedControl-Content-gnQ4n segmentedControl-content"><div class="prc-SegmentedControl-Text-c5gSh segmentedControl-text" data-text="Blame">Blame</div></span></button></li></ul><button hidden="" data-testid="" data-hotkey-scope="read-only-cursor-text-area" data-hotkey="Control+/ Control+c"></button><button hidden="" data-testid="" data-hotkey-scope="read-only-cursor-text-area" data-hotkey="b,Shift+B,Control+/ Control+b"></button><button hidden="" data-testid="" data-hotkey-scope="read-only-cursor-text-area" data-hotkey="Control+/ Control+p"></button><div class="react-code-size-details-in-header CodeSizeDetails-module__Box--QdxnQ"><div class="text-mono CodeSizeDetails-module__Box_1--_uFDs"><div data-testid="blob-size" class="CodeSizeDetails-module__Truncate_1--er0Uk prc-Truncate-Truncate-A9Wn6" data-inline="true" title="17.1 KB" style="--truncate-max-width:100%"><span>546 lines (546 loc) · 17.1 KB</span></div></div></div></div><div class="BlobViewHeader-module__Box_3--Kvpex"><button hidden="" data-testid="" data-hotkey="Control+Shift+&gt;" data-hotkey-scope="read-only-cursor-text-area"></button><button hidden="" data-hotkey="Control+Shift+&gt;"></button><button hidden="" data-testid="" data-hotkey="Control+Shift+&lt;" data-hotkey-scope="read-only-cursor-text-area"></button><button hidden="" data-hotkey="Control+Shift+&lt;"></button><button data-component="IconButton" type="button" data-testid="copilot-ask-menu" class="prc-Button-ButtonBase-c50BI prc-Button-IconButton-szpyj" data-loading="false" data-no-visuals="true" data-size="small" data-variant="default" aria-describedby="blob-view-header-copilot-icon-loading-announcement" aria-labelledby=":Rv6fal9lab:" id="blob-view-header-copilot-icon"><svg aria-hidden="true" focusable="false" class="octicon octicon-copilot" viewBox="0 0 16 16" width="16" height="16" fill="currentColor" display="inline-block" overflow="visible" style="vertical-align:text-bottom"><path d="M7.998 15.035c-4.562 0-7.873-2.914-7.998-3.749V9.338c.085-.628.677-1.686 1.588-2.065.013-.07.024-.143.036-.218.029-.183.06-.384.126-.612-.201-.508-.254-1.084-.254-1.656 0-.87.128-1.769.693-2.484.579-.733 1.494-1.124 2.724-1.261 1.206-.134 2.262.034 2.944.765.05.053.096.108.139.165.044-.057.094-.112.143-.165.682-.731 1.738-.899 2.944-.765 1.23.137 2.145.528 2.724 1.261.566.715.693 1.614.693 2.484 0 .572-.053 1.148-.254 1.656.066.228.098.429.126.612.012.076.024.148.037.218.924.385 1.522 1.471 1.591 2.095v1.872c0 .766-3.351 3.795-8.002 3.795Zm0-1.485c2.28 0 4.584-1.11 5.002-1.433V7.862l-.023-.116c-.49.21-1.075.291-1.727.291-1.146 0-2.059-.327-2.71-.991A3.222 3.222 0 0 1 8 6.303a3.24 3.24 0 0 1-.544.743c-.65.664-1.563.991-2.71.991-.652 0-1.236-.081-1.727-.291l-.023.116v4.255c.419.323 2.722 1.433 5.002 1.433ZM6.762 2.83c-.193-.206-.637-.413-1.682-.297-1.019.113-1.479.404-1.713.7-.247.312-.369.789-.369 1.554 0 .793.129 1.171.308 1.371.162.181.519.379 1.442.379.853 0 1.339-.235 1.638-.54.315-.322.527-.827.617-1.553.117-.935-.037-1.395-.241-1.614Zm4.155-.297c-1.044-.116-1.488.091-1.681.297-.204.219-.359.679-.242 1.614.091.726.303 1.231.618 1.553.299.305.784.54 1.638.54.922 0 1.28-.198 1.442-.379.179-.2.308-.578.308-1.371 0-.765-.123-1.242-.37-1.554-.233-.296-.693-.587-1.713-.7Z"></path><path d="M6.25 9.037a.75.75 0 0 1 .75.75v1.501a.75.75 0 0 1-1.5 0V9.787a.75.75 0 0 1 .75-.75Zm4.25.75v1.501a.75.75 0 0 1-1.5 0V9.787a.75.75 0 0 1 1.5 0Z"></path></svg></button><span class="prc-TooltipV2-Tooltip-cYMVY" data-direction="n" aria-hidden="true" id=":Rv6fal9lab:" popover="auto">Ask Copilot about this file</span><div class="react-blob-header-edit-and-raw-actions BlobViewHeader-module__Box_4--vFP89"><div class="prc-ButtonGroup-ButtonGroup-vcMeG"><div><a href="https://github.com/aruntakhur/SitareUniversity/raw/refs/heads/main/GreedyBFS_AI_2025.ipynb" data-testid="raw-button" class="Box-sc-g0xbh4-0 lefpaC prc-Button-ButtonBase-c50BI BlobViewHeader-module__LinkButton--DMph4" data-loading="false" data-no-visuals="true" data-size="small" data-variant="default" aria-describedby=":R2lf6fal9lab:-loading-announcement" data-hotkey="Control+/ Control+r"><span data-component="buttonContent" class="Box-sc-g0xbh4-0 gUkoLg prc-Button-ButtonContent-HKbr-"><span data-component="text" class="prc-Button-Label-pTQ3x">Raw</span></span></a></div><div><button data-component="IconButton" type="button" data-testid="copy-raw-button" class="prc-Button-ButtonBase-c50BI prc-Button-IconButton-szpyj" data-loading="false" data-no-visuals="true" data-size="small" data-variant="default" aria-describedby=":R3clf6fal9lab:-loading-announcement" aria-labelledby=":Rclf6fal9lab:" data-hotkey="Control+Shift+C"><svg aria-hidden="true" focusable="false" class="octicon octicon-copy" viewBox="0 0 16 16" width="16" height="16" fill="currentColor" display="inline-block" overflow="visible" style="vertical-align:text-bottom"><path d="M0 6.75C0 5.784.784 5 1.75 5h1.5a.75.75 0 0 1 0 1.5h-1.5a.25.25 0 0 0-.25.25v7.5c0 .138.112.25.25.25h7.5a.25.25 0 0 0 .25-.25v-1.5a.75.75 0 0 1 1.5 0v1.5A1.75 1.75 0 0 1 9.25 16h-7.5A1.75 1.75 0 0 1 0 14.25Z"></path><path d="M5 1.75C5 .784 5.784 0 6.75 0h7.5C15.216 0 16 .784 16 1.75v7.5A1.75 1.75 0 0 1 14.25 11h-7.5A1.75 1.75 0 0 1 5 9.25Zm1.75-.25a.25.25 0 0 0-.25.25v7.5c0 .138.112.25.25.25h7.5a.25.25 0 0 0 .25-.25v-7.5a.25.25 0 0 0-.25-.25Z"></path></svg></button><span class="prc-TooltipV2-Tooltip-cYMVY" data-direction="n" aria-hidden="true" id=":Rclf6fal9lab:" popover="auto">Copy raw file</span></div><div><button data-component="IconButton" type="button" data-testid="download-raw-button" class="Box-sc-g0xbh4-0 ivobqY prc-Button-ButtonBase-c50BI prc-Button-IconButton-szpyj" data-loading="false" data-no-visuals="true" data-size="small" data-variant="default" aria-describedby=":Rulf6fal9lab:-loading-announcement" aria-labelledby=":R6lf6fal9lab:" data-hotkey="Control+Shift+S"><svg aria-hidden="true" focusable="false" class="octicon octicon-download" viewBox="0 0 16 16" width="16" height="16" fill="currentColor" display="inline-block" overflow="visible" style="vertical-align:text-bottom"><path d="M2.75 14A1.75 1.75 0 0 1 1 12.25v-2.5a.75.75 0 0 1 1.5 0v2.5c0 .138.112.25.25.25h10.5a.25.25 0 0 0 .25-.25v-2.5a.75.75 0 0 1 1.5 0v2.5A1.75 1.75 0 0 1 13.25 14Z"></path><path d="M7.25 7.689V2a.75.75 0 0 1 1.5 0v5.689l1.97-1.969a.749.749 0 1 1 1.06 1.06l-3.25 3.25a.749.749 0 0 1-1.06 0L4.22 6.78a.749.749 0 1 1 1.06-1.06l1.97 1.969Z"></path></svg></button><span class="prc-TooltipV2-Tooltip-cYMVY" data-direction="n" aria-hidden="true" id=":R6lf6fal9lab:" popover="auto">Download raw file</span></div></div><button hidden="" data-testid="raw-button-shortcut" data-hotkey-scope="read-only-cursor-text-area" data-hotkey="Control+/ Control+r"></button><button hidden="" data-testid="copy-raw-button-shortcut" data-hotkey-scope="read-only-cursor-text-area" data-hotkey="Control+Shift+C"></button><button hidden="" data-testid="download-raw-button-shortcut" data-hotkey-scope="read-only-cursor-text-area" data-hotkey="Control+Shift+S"></button><a class="js-github-dev-shortcut d-none prc-Link-Link-85e08" href="https://github.dev/" data-hotkey="., Control+Shift+/"></a><button hidden="" data-testid="" data-hotkey-scope="read-only-cursor-text-area" data-hotkey="., Control+Shift+/"></button><a class="js-github-dev-new-tab-shortcut d-none prc-Link-Link-85e08" href="https://github.dev/" target="_blank" data-hotkey="Shift+.,Shift+&gt;,&gt;"></a><button hidden="" data-testid="" data-hotkey-scope="read-only-cursor-text-area" data-hotkey="Shift+.,Shift+&gt;,&gt;"></button><div class="prc-ButtonGroup-ButtonGroup-vcMeG"><div><a sx="[object Object]" data-component="IconButton" type="button" data-testid="edit-button" class="Box-sc-g0xbh4-0 iCOsHh prc-Button-ButtonBase-c50BI BlobViewHeader-module__IconButton_1--MzNlL prc-Button-IconButton-szpyj" data-loading="false" data-no-visuals="true" data-size="small" data-variant="default" aria-describedby=":Rr9f6fal9lab:-loading-announcement" aria-labelledby=":R39f6fal9lab:" href="https://github.com/aruntakhur/SitareUniversity/edit/main/GreedyBFS_AI_2025.ipynb" data-discover="true" data-hotkey="e,Shift+E"><svg aria-hidden="true" focusable="false" class="octicon octicon-pencil" viewBox="0 0 16 16" width="16" height="16" fill="currentColor" display="inline-block" overflow="visible" style="vertical-align:text-bottom"><path d="M11.013 1.427a1.75 1.75 0 0 1 2.474 0l1.086 1.086a1.75 1.75 0 0 1 0 2.474l-8.61 8.61c-.21.21-.47.364-.756.445l-3.251.93a.75.75 0 0 1-.927-.928l.929-3.25c.081-.286.235-.547.445-.758l8.61-8.61Zm.176 4.823L9.75 4.81l-6.286 6.287a.253.253 0 0 0-.064.108l-.558 1.953 1.953-.558a.253.253 0 0 0 .108-.064Zm1.238-3.763a.25.25 0 0 0-.354 0L10.811 3.75l1.439 1.44 1.263-1.263a.25.25 0 0 0 0-.354Z"></path></svg></a><span class="prc-TooltipV2-Tooltip-cYMVY" data-direction="nw" aria-hidden="true" id=":R39f6fal9lab:" popover="auto">Fork this repository and edit the file</span></div><div><button data-component="IconButton" type="button" data-testid="more-edit-button" aria-haspopup="true" aria-expanded="false" tabindex="0" class="prc-Button-ButtonBase-c50BI prc-Button-IconButton-szpyj" data-loading="false" data-no-visuals="true" data-size="small" data-variant="default" aria-describedby=":R59f6fal9lab:-loading-announcement" aria-labelledby=":R3t9f6fal9lab:" id=":R59f6fal9lab:"><svg aria-hidden="true" focusable="false" class="octicon octicon-triangle-down" viewBox="0 0 16 16" width="16" height="16" fill="currentColor" display="inline-block" overflow="visible" style="vertical-align:text-bottom"><path d="m4.427 7.427 3.396 3.396a.25.25 0 0 0 .354 0l3.396-3.396A.25.25 0 0 0 11.396 7H4.604a.25.25 0 0 0-.177.427Z"></path></svg></button><span class="prc-TooltipV2-Tooltip-cYMVY" data-direction="nw" aria-hidden="true" id=":R3t9f6fal9lab:" popover="auto">More edit options</span></div></div><button hidden="" data-testid="" data-hotkey="e,Shift+E" data-hotkey-scope="read-only-cursor-text-area"></button></div><div class="react-blob-header-edit-and-raw-actions-combined"><button data-component="IconButton" type="button" title="More file actions" data-testid="more-file-actions-button" aria-haspopup="true" aria-expanded="false" tabindex="0" class="prc-Button-ButtonBase-c50BI js-blob-dropdown-click BlobViewHeader-module__IconButton--uO1fA prc-Button-IconButton-szpyj" data-loading="false" data-no-visuals="true" data-size="small" data-variant="invisible" aria-describedby=":Ra76fal9lab:-loading-announcement" aria-labelledby=":R7q76fal9lab:" id=":Ra76fal9lab:"><svg aria-hidden="true" focusable="false" class="octicon octicon-kebab-horizontal" viewBox="0 0 16 16" width="16" height="16" fill="currentColor" display="inline-block" overflow="visible" style="vertical-align:text-bottom"><path d="M8 9a1.5 1.5 0 1 0 0-3 1.5 1.5 0 0 0 0 3ZM1.5 9a1.5 1.5 0 1 0 0-3 1.5 1.5 0 0 0 0 3Zm13 0a1.5 1.5 0 1 0 0-3 1.5 1.5 0 0 0 0 3Z"></path></svg></button><span class="prc-TooltipV2-Tooltip-cYMVY" data-direction="nw" aria-hidden="true" id=":R7q76fal9lab:" popover="auto">Edit and raw actions</span></div></div></div></div><div></div></div><div class="Box-sc-g0xbh4-0 hGyMdv"><section aria-labelledby="file-name-id-wide file-name-id-mobile" class="Box-sc-g0xbh4-0 iWAocR"><div class="FileRendererBlob-module__FileRendererWrapper--SxJRI"><div data-hpc="true" data-host="https://notebooks.githubusercontent.com" data-type="ipynb" class="FileRendererBlob-module__FileRendererViewport--VgIf1 FileRendererBlob-module__FileRendererViewportNonError--cZ29b FileRendererBlob-module__FileRendererViewportReady--seGRC" style="height: 5109.17px;"><iframe src="./Greedy_BFS_files/ipynb.html" sandbox="allow-scripts allow-same-origin allow-top-navigation" name="67454abf-ec47-49e9-97e3-13febfaac719" title="File display" class="FileRendererBlob-module__fileContentFrame--r1d91">Viewer requires iframe.</iframe></div></div></section></div></div></div> <!-- --> <!-- --> </div></div></div></div></div></div></div><div id="find-result-marks-container" class="Box-sc-g0xbh4-0 cCoXib"></div><button hidden="" data-testid="" data-hotkey-scope="read-only-cursor-text-area" data-hotkey="Control+F6,Control+Shift+F6"></button><button hidden="" data-hotkey="Control+F6,Control+Shift+F6"></button></div> <!-- --> <!-- --> <script type="application/json" id="__PRIMER_DATA_:R0:__">{"resolvedServerColorMode":"day"}</script></div>
</react-app>




  </div>

</turbo-frame>

    </main>
  </div>

  </div>

          <footer class="footer pt-8 pb-6 f6 color-fg-muted p-responsive" role="contentinfo" hidden="">
  <h2 class="sr-only">Footer</h2>

  


  <div class="d-flex flex-justify-center flex-items-center flex-column-reverse flex-lg-row flex-wrap flex-lg-nowrap">
    <div class="d-flex flex-items-center flex-shrink-0 mx-2">
      <a aria-label="GitHub Homepage" class="footer-octicon mr-2" href="https://github.com/">
        <svg aria-hidden="true" height="24" viewBox="0 0 24 24" version="1.1" width="24" data-view-component="true" class="octicon octicon-mark-github">
    <path d="M12 1C5.923 1 1 5.923 1 12c0 4.867 3.149 8.979 7.521 10.436.55.096.756-.233.756-.522 0-.262-.013-1.128-.013-2.049-2.764.509-3.479-.674-3.699-1.292-.124-.317-.66-1.293-1.127-1.554-.385-.207-.936-.715-.014-.729.866-.014 1.485.797 1.691 1.128.99 1.663 2.571 1.196 3.204.907.096-.715.385-1.196.701-1.471-2.448-.275-5.005-1.224-5.005-5.432 0-1.196.426-2.186 1.128-2.956-.111-.275-.496-1.402.11-2.915 0 0 .921-.288 3.024 1.128a10.193 10.193 0 0 1 2.75-.371c.936 0 1.871.123 2.75.371 2.104-1.43 3.025-1.128 3.025-1.128.605 1.513.221 2.64.111 2.915.701.77 1.127 1.747 1.127 2.956 0 4.222-2.571 5.157-5.019 5.432.399.344.743 1.004.743 2.035 0 1.471-.014 2.654-.014 3.025 0 .289.206.632.756.522C19.851 20.979 23 16.854 23 12c0-6.077-4.922-11-11-11Z"></path>
</svg>
</a>
      <span>
        © 2025 GitHub,&nbsp;Inc.
      </span>
    </div>

    <nav aria-label="Footer">
      <h3 class="sr-only" id="sr-footer-heading">Footer navigation</h3>

      <ul class="list-style-none d-flex flex-justify-center flex-wrap mb-2 mb-lg-0" aria-labelledby="sr-footer-heading">

          <li class="mx-2">
            <a data-analytics-event="{&quot;category&quot;:&quot;Footer&quot;,&quot;action&quot;:&quot;go to Terms&quot;,&quot;label&quot;:&quot;text:terms&quot;}" href="https://docs.github.com/site-policy/github-terms/github-terms-of-service" data-view-component="true" class="Link--secondary Link">Terms</a>
          </li>

          <li class="mx-2">
            <a data-analytics-event="{&quot;category&quot;:&quot;Footer&quot;,&quot;action&quot;:&quot;go to privacy&quot;,&quot;label&quot;:&quot;text:privacy&quot;}" href="https://docs.github.com/site-policy/privacy-policies/github-privacy-statement" data-view-component="true" class="Link--secondary Link">Privacy</a>
          </li>

          <li class="mx-2">
            <a data-analytics-event="{&quot;category&quot;:&quot;Footer&quot;,&quot;action&quot;:&quot;go to security&quot;,&quot;label&quot;:&quot;text:security&quot;}" href="https://github.com/security" data-view-component="true" class="Link--secondary Link">Security</a>
          </li>

          <li class="mx-2">
            <a data-analytics-event="{&quot;category&quot;:&quot;Footer&quot;,&quot;action&quot;:&quot;go to status&quot;,&quot;label&quot;:&quot;text:status&quot;}" href="https://www.githubstatus.com/" data-view-component="true" class="Link--secondary Link">Status</a>
          </li>

            <li class="mx-2">
              <a data-analytics-event="{&quot;category&quot;:&quot;Footer&quot;,&quot;action&quot;:&quot;go to community&quot;,&quot;label&quot;:&quot;text:community&quot;}" href="https://github.community/" data-view-component="true" class="Link--secondary Link">GitHub Community</a>
            </li>

          <li class="mx-2">
            <a data-analytics-event="{&quot;category&quot;:&quot;Footer&quot;,&quot;action&quot;:&quot;go to docs&quot;,&quot;label&quot;:&quot;text:docs&quot;}" href="https://docs.github.com/" data-view-component="true" class="Link--secondary Link">Docs</a>
          </li>

          <li class="mx-2">
            <a data-analytics-event="{&quot;category&quot;:&quot;Footer&quot;,&quot;action&quot;:&quot;go to contact&quot;,&quot;label&quot;:&quot;text:contact&quot;}" href="https://support.github.com/?tags=dotcom-footer" data-view-component="true" class="Link--secondary Link">Contact</a>
          </li>

          <li class="mx-2">
  <cookie-consent-link data-catalyst="">
    <button type="button" class="Link--secondary underline-on-hover border-0 p-0 color-bg-transparent" data-action="click:cookie-consent-link#showConsentManagement" data-analytics-event="{&quot;location&quot;:&quot;footer&quot;,&quot;action&quot;:&quot;cookies&quot;,&quot;context&quot;:&quot;subfooter&quot;,&quot;tag&quot;:&quot;link&quot;,&quot;label&quot;:&quot;cookies_link_subfooter_footer&quot;}">
       Manage cookies
    </button>
  </cookie-consent-link>
</li>

<li class="mx-2">
  <cookie-consent-link data-catalyst="">
    <button type="button" class="Link--secondary underline-on-hover border-0 p-0 color-bg-transparent text-left" data-action="click:cookie-consent-link#showConsentManagement" data-analytics-event="{&quot;location&quot;:&quot;footer&quot;,&quot;action&quot;:&quot;dont_share_info&quot;,&quot;context&quot;:&quot;subfooter&quot;,&quot;tag&quot;:&quot;link&quot;,&quot;label&quot;:&quot;dont_share_info_link_subfooter_footer&quot;}">
      Do not share my personal information
    </button>
  </cookie-consent-link>
</li>

      </ul>
    </nav>
  </div>
</footer>



    <ghcc-consent id="ghcc" class="position-fixed bottom-0 left-0" style="z-index: 999999" data-locale="en" data-initial-cookie-consent-allowed="" data-cookie-consent-required="false" data-catalyst=""></ghcc-consent>



  <div id="ajax-error-message" class="ajax-error-message flash flash-error" hidden="">
    <svg aria-hidden="true" height="16" viewBox="0 0 16 16" version="1.1" width="16" data-view-component="true" class="octicon octicon-alert">
    <path d="M6.457 1.047c.659-1.234 2.427-1.234 3.086 0l6.082 11.378A1.75 1.75 0 0 1 14.082 15H1.918a1.75 1.75 0 0 1-1.543-2.575Zm1.763.707a.25.25 0 0 0-.44 0L1.698 13.132a.25.25 0 0 0 .22.368h12.164a.25.25 0 0 0 .22-.368Zm.53 3.996v2.5a.75.75 0 0 1-1.5 0v-2.5a.75.75 0 0 1 1.5 0ZM9 11a1 1 0 1 1-2 0 1 1 0 0 1 2 0Z"></path>
</svg>
    <button type="button" class="flash-close js-ajax-error-dismiss" aria-label="Dismiss error">
      <svg aria-hidden="true" height="16" viewBox="0 0 16 16" version="1.1" width="16" data-view-component="true" class="octicon octicon-x">
    <path d="M3.72 3.72a.75.75 0 0 1 1.06 0L8 6.94l3.22-3.22a.749.749 0 0 1 1.275.326.749.749 0 0 1-.215.734L9.06 8l3.22 3.22a.749.749 0 0 1-.326 1.275.749.749 0 0 1-.734-.215L8 9.06l-3.22 3.22a.751.751 0 0 1-1.042-.018.751.751 0 0 1-.018-1.042L6.94 8 3.72 4.78a.75.75 0 0 1 0-1.06Z"></path>
</svg>
    </button>
    You can’t perform that action at this time.
  </div>

    <template id="site-details-dialog"></template>

    <div class="Popover js-hovercard-content position-absolute" style="display: none; outline: none;">
  <div class="Popover-message Popover-message--bottom-left Popover-message--large Box color-shadow-large" style="width:360px;"></div>
</div>

    <template id="snippet-clipboard-copy-button"></template>
<template id="snippet-clipboard-copy-button-unpositioned"></template>


    <style>
      .user-mention[href$="/Anushri488"] {
        color: var(--color-user-mention-fg);
        background-color: var(--bgColor-attention-muted, var(--color-attention-subtle));
        border-radius: 2px;
        margin-left: -2px;
        margin-right: -2px;
      }
      .user-mention[href$="/Anushri488"]:before,
      .user-mention[href$="/Anushri488"]:after {
        content: '';
        display: inline-block;
        width: 2px;
      }
    </style>


    </div>
    <div id="js-global-screen-reader-notice" class="sr-only mt-n1" aria-live="polite" aria-atomic="true">SitareUniversity/GreedyBFS_AI_2025.ipynb at main · aruntakhur/SitareUniversity</div>
    <div id="js-global-screen-reader-notice-assertive" class="sr-only mt-n1" aria-live="assertive" aria-atomic="true"></div>
  


<div class="sr-only mt-n1" id="screenReaderAnnouncementDiv" role="alert" data-testid="screenReaderAnnouncement" aria-live="assertive">&nbsp;</div></body></html>